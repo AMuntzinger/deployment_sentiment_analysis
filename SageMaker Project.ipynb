{
 "cells": [
  {
   "cell_type": "markdown",
   "metadata": {},
   "source": [
    "# Creating a Sentiment Analysis Web App\n",
    "## Using PyTorch and SageMaker\n",
    "\n",
    "_Deep Learning Nanodegree Program | Deployment_\n",
    "\n",
    "---\n",
    "\n",
    "Now that we have a basic understanding of how SageMaker works we will try to use it to construct a complete project from end to end. Our goal will be to have a simple web page which a user can use to enter a movie review. The web page will then send the review off to our deployed model which will predict the sentiment of the entered review.\n",
    "\n",
    "## Instructions\n",
    "\n",
    "Some template code has already been provided for you, and you will need to implement additional functionality to successfully complete this notebook. You will not need to modify the included code beyond what is requested. Sections that begin with '**TODO**' in the header indicate that you need to complete or implement some portion within them. Instructions will be provided for each section and the specifics of the implementation are marked in the code block with a `# TODO: ...` comment. Please be sure to read the instructions carefully!\n",
    "\n",
    "In addition to implementing code, there will be questions for you to answer which relate to the task and your implementation. Each section where you will answer a question is preceded by a '**Question:**' header. Carefully read each question and provide your answer below the '**Answer:**' header by editing the Markdown cell.\n",
    "\n",
    "> **Note**: Code and Markdown cells can be executed using the **Shift+Enter** keyboard shortcut. In addition, a cell can be edited by typically clicking it (double-click for Markdown cells) or by pressing **Enter** while it is highlighted.\n",
    "\n",
    "## General Outline\n",
    "\n",
    "Recall the general outline for SageMaker projects using a notebook instance.\n",
    "\n",
    "1. Download or otherwise retrieve the data.\n",
    "2. Process / Prepare the data.\n",
    "3. Upload the processed data to S3.\n",
    "4. Train a chosen model.\n",
    "5. Test the trained model (typically using a batch transform job).\n",
    "6. Deploy the trained model.\n",
    "7. Use the deployed model.\n",
    "\n",
    "For this project, you will be following the steps in the general outline with some modifications. \n",
    "\n",
    "First, you will not be testing the model in its own step. You will still be testing the model, however, you will do it by deploying your model and then using the deployed model by sending the test data to it. One of the reasons for doing this is so that you can make sure that your deployed model is working correctly before moving forward.\n",
    "\n",
    "In addition, you will deploy and use your trained model a second time. In the second iteration you will customize the way that your trained model is deployed by including some of your own code. In addition, your newly deployed model will be used in the sentiment analysis web app."
   ]
  },
  {
   "cell_type": "markdown",
   "metadata": {},
   "source": [
    "## Step 1: Downloading the data\n",
    "\n",
    "As in the XGBoost in SageMaker notebook, we will be using the [IMDb dataset](http://ai.stanford.edu/~amaas/data/sentiment/)\n",
    "\n",
    "> Maas, Andrew L., et al. [Learning Word Vectors for Sentiment Analysis](http://ai.stanford.edu/~amaas/data/sentiment/). In _Proceedings of the 49th Annual Meeting of the Association for Computational Linguistics: Human Language Technologies_. Association for Computational Linguistics, 2011."
   ]
  },
  {
   "cell_type": "code",
   "execution_count": 2,
   "metadata": {},
   "outputs": [
    {
     "name": "stdout",
     "output_type": "stream",
     "text": [
      "mkdir: cannot create directory ‘../data’: File exists\n",
      "--2019-03-07 08:26:45--  http://ai.stanford.edu/~amaas/data/sentiment/aclImdb_v1.tar.gz\n",
      "Resolving ai.stanford.edu (ai.stanford.edu)... 171.64.68.10\n",
      "Connecting to ai.stanford.edu (ai.stanford.edu)|171.64.68.10|:80... connected.\n",
      "HTTP request sent, awaiting response... 200 OK\n",
      "Length: 84125825 (80M) [application/x-gzip]\n",
      "Saving to: ‘../data/aclImdb_v1.tar.gz’\n",
      "\n",
      "../data/aclImdb_v1. 100%[===================>]  80.23M  22.7MB/s    in 4.7s    \n",
      "\n",
      "2019-03-07 08:26:49 (16.9 MB/s) - ‘../data/aclImdb_v1.tar.gz’ saved [84125825/84125825]\n",
      "\n"
     ]
    }
   ],
   "source": [
    "%mkdir ../data\n",
    "!wget -O ../data/aclImdb_v1.tar.gz http://ai.stanford.edu/~amaas/data/sentiment/aclImdb_v1.tar.gz\n",
    "!tar -zxf ../data/aclImdb_v1.tar.gz -C ../data"
   ]
  },
  {
   "cell_type": "markdown",
   "metadata": {},
   "source": [
    "## Step 2: Preparing and Processing the data\n",
    "\n",
    "Also, as in the XGBoost notebook, we will be doing some initial data processing. The first few steps are the same as in the XGBoost example. To begin with, we will read in each of the reviews and combine them into a single input structure. Then, we will split the dataset into a training set and a testing set."
   ]
  },
  {
   "cell_type": "code",
   "execution_count": 3,
   "metadata": {},
   "outputs": [],
   "source": [
    "import os\n",
    "import glob\n",
    "\n",
    "def read_imdb_data(data_dir='../data/aclImdb'):\n",
    "    data = {}\n",
    "    labels = {}\n",
    "    \n",
    "    for data_type in ['train', 'test']:\n",
    "        data[data_type] = {}\n",
    "        labels[data_type] = {}\n",
    "        \n",
    "        for sentiment in ['pos', 'neg']:\n",
    "            data[data_type][sentiment] = []\n",
    "            labels[data_type][sentiment] = []\n",
    "            \n",
    "            path = os.path.join(data_dir, data_type, sentiment, '*.txt')\n",
    "            files = glob.glob(path)\n",
    "            \n",
    "            for f in files:\n",
    "                with open(f) as review:\n",
    "                    data[data_type][sentiment].append(review.read())\n",
    "                    # Here we represent a positive review by '1' and a negative review by '0'\n",
    "                    labels[data_type][sentiment].append(1 if sentiment == 'pos' else 0)\n",
    "                    \n",
    "            assert len(data[data_type][sentiment]) == len(labels[data_type][sentiment]), \\\n",
    "                    \"{}/{} data size does not match labels size\".format(data_type, sentiment)\n",
    "                \n",
    "    return data, labels"
   ]
  },
  {
   "cell_type": "code",
   "execution_count": 4,
   "metadata": {},
   "outputs": [
    {
     "name": "stdout",
     "output_type": "stream",
     "text": [
      "IMDB reviews: train = 12500 pos / 12500 neg, test = 12500 pos / 12500 neg\n"
     ]
    }
   ],
   "source": [
    "data, labels = read_imdb_data()\n",
    "print(\"IMDB reviews: train = {} pos / {} neg, test = {} pos / {} neg\".format(\n",
    "            len(data['train']['pos']), len(data['train']['neg']),\n",
    "            len(data['test']['pos']), len(data['test']['neg'])))"
   ]
  },
  {
   "cell_type": "markdown",
   "metadata": {},
   "source": [
    "Now that we've read the raw training and testing data from the downloaded dataset, we will combine the positive and negative reviews and shuffle the resulting records."
   ]
  },
  {
   "cell_type": "code",
   "execution_count": 5,
   "metadata": {},
   "outputs": [],
   "source": [
    "from sklearn.utils import shuffle\n",
    "\n",
    "def prepare_imdb_data(data, labels):\n",
    "    \"\"\"Prepare training and test sets from IMDb movie reviews.\"\"\"\n",
    "    \n",
    "    #Combine positive and negative reviews and labels\n",
    "    data_train = data['train']['pos'] + data['train']['neg']\n",
    "    data_test = data['test']['pos'] + data['test']['neg']\n",
    "    labels_train = labels['train']['pos'] + labels['train']['neg']\n",
    "    labels_test = labels['test']['pos'] + labels['test']['neg']\n",
    "    \n",
    "    #Shuffle reviews and corresponding labels within training and test sets\n",
    "    data_train, labels_train = shuffle(data_train, labels_train)\n",
    "    data_test, labels_test = shuffle(data_test, labels_test)\n",
    "    \n",
    "    # Return a unified training data, test data, training labels, test labets\n",
    "    return data_train, data_test, labels_train, labels_test"
   ]
  },
  {
   "cell_type": "code",
   "execution_count": 6,
   "metadata": {},
   "outputs": [
    {
     "name": "stdout",
     "output_type": "stream",
     "text": [
      "IMDb reviews (combined): train = 25000, test = 25000\n"
     ]
    }
   ],
   "source": [
    "train_X, test_X, train_y, test_y = prepare_imdb_data(data, labels)\n",
    "print(\"IMDb reviews (combined): train = {}, test = {}\".format(len(train_X), len(test_X)))"
   ]
  },
  {
   "cell_type": "markdown",
   "metadata": {},
   "source": [
    "Now that we have our training and testing sets unified and prepared, we should do a quick check and see an example of the data our model will be trained on. This is generally a good idea as it allows you to see how each of the further processing steps affects the reviews and it also ensures that the data has been loaded correctly."
   ]
  },
  {
   "cell_type": "code",
   "execution_count": 7,
   "metadata": {},
   "outputs": [
    {
     "name": "stdout",
     "output_type": "stream",
     "text": [
      "This movie was so bad I couldn't sit through it without doing something else. There was no plot and no point. I was thoroughly bored and for a film about a stand up comedian, I couldn't recall one joke or funny line worthy of the description. Politicians with no charisma speaking technical jargon could not be less entertaining.<br /><br />So how was this made? Is there no quality control in film? Watching the girls in bikinis was the only distraction during this horrible experience.<br /><br />It's hard to imagine that Adam Sandler who has become popular and has appeared in fine comedies was able to survive after this kind of exposure. He was not funny in the least in this movie so it proves that the writing is so vital in effective comedy.\n",
      "0\n"
     ]
    }
   ],
   "source": [
    "print(train_X[100])\n",
    "print(train_y[100])"
   ]
  },
  {
   "cell_type": "markdown",
   "metadata": {},
   "source": [
    "The first step in processing the reviews is to make sure that any html tags that appear should be removed. In addition we wish to tokenize our input, that way words such as *entertained* and *entertaining* are considered the same with regard to sentiment analysis."
   ]
  },
  {
   "cell_type": "code",
   "execution_count": 8,
   "metadata": {},
   "outputs": [],
   "source": [
    "import nltk\n",
    "from nltk.corpus import stopwords\n",
    "from nltk.stem.porter import *\n",
    "\n",
    "import re\n",
    "from bs4 import BeautifulSoup\n",
    "\n",
    "def review_to_words(review):\n",
    "    nltk.download(\"stopwords\", quiet=True)\n",
    "    stemmer = PorterStemmer()\n",
    "    \n",
    "    text = BeautifulSoup(review, \"html.parser\").get_text() # Remove HTML tags\n",
    "    text = re.sub(r\"[^a-zA-Z0-9]\", \" \", text.lower()) # Convert to lower case\n",
    "    words = text.split() # Split string into words\n",
    "    words = [w for w in words if w not in stopwords.words(\"english\")] # Remove stopwords\n",
    "    words = [PorterStemmer().stem(w) for w in words] # stem\n",
    "    \n",
    "    return words"
   ]
  },
  {
   "cell_type": "markdown",
   "metadata": {},
   "source": [
    "The `review_to_words` method defined above uses `BeautifulSoup` to remove any html tags that appear and uses the `nltk` package to tokenize the reviews. As a check to ensure we know how everything is working, try applying `review_to_words` to one of the reviews in the training set."
   ]
  },
  {
   "cell_type": "code",
   "execution_count": 9,
   "metadata": {},
   "outputs": [
    {
     "name": "stdout",
     "output_type": "stream",
     "text": [
      "['movi', 'bad', 'sit', 'without', 'someth', 'els', 'plot', 'point', 'thoroughli', 'bore', 'film', 'stand', 'comedian', 'recal', 'one', 'joke', 'funni', 'line', 'worthi', 'descript', 'politician', 'charisma', 'speak', 'technic', 'jargon', 'could', 'less', 'entertain', 'made', 'qualiti', 'control', 'film', 'watch', 'girl', 'bikini', 'distract', 'horribl', 'experi', 'hard', 'imagin', 'adam', 'sandler', 'becom', 'popular', 'appear', 'fine', 'comedi', 'abl', 'surviv', 'kind', 'exposur', 'funni', 'least', 'movi', 'prove', 'write', 'vital', 'effect', 'comedi']\n"
     ]
    }
   ],
   "source": [
    "# TODO: Apply review_to_words to a review (train_X[100] or any other review)\n",
    "print(review_to_words(train_X[100]))"
   ]
  },
  {
   "cell_type": "markdown",
   "metadata": {},
   "source": [
    "**Question:** Above we mentioned that `review_to_words` method removes html formatting and allows us to tokenize the words found in a review, for example, converting *entertained* and *entertaining* into *entertain* so that they are treated as though they are the same word. What else, if anything, does this method do to the input?"
   ]
  },
  {
   "cell_type": "markdown",
   "metadata": {},
   "source": [
    "**Answer:** In addition, the function splits the input text into single strings containing a word stem each, then returning a list of these strings. Also, very common words like 'I', 'the' etc. are removed because they appear in nearly every context and don't contain much information about the context. Finally, punctuation marks are removed."
   ]
  },
  {
   "cell_type": "markdown",
   "metadata": {},
   "source": [
    "The method below applies the `review_to_words` method to each of the reviews in the training and testing datasets. In addition it caches the results. This is because performing this processing step can take a long time. This way if you are unable to complete the notebook in the current session, you can come back without needing to process the data a second time."
   ]
  },
  {
   "cell_type": "code",
   "execution_count": 10,
   "metadata": {},
   "outputs": [],
   "source": [
    "import pickle\n",
    "\n",
    "cache_dir = os.path.join(\"../cache\", \"sentiment_analysis\")  # where to store cache files\n",
    "os.makedirs(cache_dir, exist_ok=True)  # ensure cache directory exists\n",
    "\n",
    "def preprocess_data(data_train, data_test, labels_train, labels_test,\n",
    "                    cache_dir=cache_dir, cache_file=\"preprocessed_data.pkl\"):\n",
    "    \"\"\"Convert each review to words; read from cache if available.\"\"\"\n",
    "\n",
    "    # If cache_file is not None, try to read from it first\n",
    "    cache_data = None\n",
    "    if cache_file is not None:\n",
    "        try:\n",
    "            with open(os.path.join(cache_dir, cache_file), \"rb\") as f:\n",
    "                cache_data = pickle.load(f)\n",
    "            print(\"Read preprocessed data from cache file:\", cache_file)\n",
    "        except:\n",
    "            pass  # unable to read from cache, but that's okay\n",
    "    \n",
    "    # If cache is missing, then do the heavy lifting\n",
    "    if cache_data is None:\n",
    "        # Preprocess training and test data to obtain words for each review\n",
    "        #words_train = list(map(review_to_words, data_train))\n",
    "        #words_test = list(map(review_to_words, data_test))\n",
    "        words_train = [review_to_words(review) for review in data_train]\n",
    "        words_test = [review_to_words(review) for review in data_test]\n",
    "        \n",
    "        # Write to cache file for future runs\n",
    "        if cache_file is not None:\n",
    "            cache_data = dict(words_train=words_train, words_test=words_test,\n",
    "                              labels_train=labels_train, labels_test=labels_test)\n",
    "            with open(os.path.join(cache_dir, cache_file), \"wb\") as f:\n",
    "                pickle.dump(cache_data, f)\n",
    "            print(\"Wrote preprocessed data to cache file:\", cache_file)\n",
    "    else:\n",
    "        # Unpack data loaded from cache file\n",
    "        words_train, words_test, labels_train, labels_test = (cache_data['words_train'],\n",
    "                cache_data['words_test'], cache_data['labels_train'], cache_data['labels_test'])\n",
    "    \n",
    "    return words_train, words_test, labels_train, labels_test"
   ]
  },
  {
   "cell_type": "code",
   "execution_count": 11,
   "metadata": {},
   "outputs": [
    {
     "name": "stdout",
     "output_type": "stream",
     "text": [
      "Read preprocessed data from cache file: preprocessed_data.pkl\n"
     ]
    }
   ],
   "source": [
    "# Preprocess data\n",
    "train_X, test_X, train_y, test_y = preprocess_data(train_X, test_X, train_y, test_y)"
   ]
  },
  {
   "cell_type": "markdown",
   "metadata": {},
   "source": [
    "## Transform the data\n",
    "\n",
    "In the XGBoost notebook we transformed the data from its word representation to a bag-of-words feature representation. For the model we are going to construct in this notebook we will construct a feature representation which is very similar. To start, we will represent each word as an integer. Of course, some of the words that appear in the reviews occur very infrequently and so likely don't contain much information for the purposes of sentiment analysis. The way we will deal with this problem is that we will fix the size of our working vocabulary and we will only include the words that appear most frequently. We will then combine all of the infrequent words into a single category and, in our case, we will label it as `1`.\n",
    "\n",
    "Since we will be using a recurrent neural network, it will be convenient if the length of each review is the same. To do this, we will fix a size for our reviews and then pad short reviews with the category 'no word' (which we will label `0`) and truncate long reviews."
   ]
  },
  {
   "cell_type": "markdown",
   "metadata": {},
   "source": [
    "### (TODO) Create a word dictionary\n",
    "\n",
    "To begin with, we need to construct a way to map words that appear in the reviews to integers. Here we fix the size of our vocabulary (including the 'no word' and 'infrequent' categories) to be `5000` but you may wish to change this to see how it affects the model.\n",
    "\n",
    "> **TODO:** Complete the implementation for the `build_dict()` method below. Note that even though the vocab_size is set to `5000`, we only want to construct a mapping for the most frequently appearing `4998` words. This is because we want to reserve the special labels `0` for 'no word' and `1` for 'infrequent word'."
   ]
  },
  {
   "cell_type": "code",
   "execution_count": 12,
   "metadata": {},
   "outputs": [],
   "source": [
    "import numpy as np\n",
    "\n",
    "def build_dict(data, vocab_size = 5000):\n",
    "    \"\"\"Construct and return a dictionary mapping each of the most frequently appearing words to a unique integer.\"\"\"\n",
    "    \n",
    "    # TODO: Determine how often each word appears in `data`. Note that `data` is a list of sentences and that a\n",
    "    #       sentence is a list of words.\n",
    "    word_count = {} # A dict storing the words that appear in the reviews along with how often they occur\n",
    "    for sentence in data:\n",
    "        for word in sentence:\n",
    "            if word in word_count:\n",
    "                word_count[word] = word_count[word] + 1 \n",
    "            else:\n",
    "                word_count[word] = 1    \n",
    "            \n",
    "    # TODO: Sort the words found in `data` so that sorted_words[0] is the most frequently appearing word and\n",
    "    #       sorted_words[-1] is the least frequently appearing word.\n",
    "    \n",
    "    word_count_sorted = sorted(word_count.items(), key=(lambda item: item[1]), reverse=True)\n",
    "    sorted_words = [item[0] for item in word_count_sorted]\n",
    "    \n",
    "    word_dict = {} # This is what we are building, a dictionary that translates words into integers\n",
    "    for idx, word in enumerate(sorted_words[:vocab_size - 2]): # The -2 is so that we save room for the 'no word'\n",
    "        word_dict[word] = idx + 2                              # 'infrequent' labels\n",
    "        \n",
    "    return word_dict"
   ]
  },
  {
   "cell_type": "code",
   "execution_count": 13,
   "metadata": {},
   "outputs": [],
   "source": [
    "word_dict = build_dict(train_X)"
   ]
  },
  {
   "cell_type": "markdown",
   "metadata": {},
   "source": [
    "**Question:** What are the five most frequently appearing (tokenized) words in the training set? Does it makes sense that these words appear frequently in the training set?"
   ]
  },
  {
   "cell_type": "markdown",
   "metadata": {},
   "source": [
    "**Answer:** The five most frequent word stems are 'movi', 'film', 'one', 'like' and 'time'. Of course, 'movi' and 'film' make sense because our texts are film reviews. 'like' is also expected because the review tells whether someone liked a film or not. 'one' and 'time' are a little surprising to me, but of course they are also frequently used to describe a movie. "
   ]
  },
  {
   "cell_type": "code",
   "execution_count": 14,
   "metadata": {},
   "outputs": [
    {
     "name": "stdout",
     "output_type": "stream",
     "text": [
      "{'movi': 2, 'film': 3, 'one': 4, 'like': 5, 'time': 6, 'good': 7, 'make': 8, 'charact': 9, 'get': 10, 'see': 11, 'watch': 12, 'stori': 13, 'even': 14, 'would': 15, 'realli': 16, 'well': 17, 'scene': 18, 'look': 19, 'show': 20, 'much': 21, 'end': 22, 'peopl': 23, 'bad': 24, 'go': 25, 'great': 26, 'also': 27, 'first': 28, 'love': 29, 'think': 30, 'way': 31, 'act': 32, 'play': 33, 'made': 34, 'thing': 35, 'could': 36, 'know': 37, 'say': 38, 'seem': 39, 'work': 40, 'plot': 41, 'two': 42, 'actor': 43, 'year': 44, 'come': 45, 'mani': 46, 'seen': 47, 'take': 48, 'life': 49, 'want': 50, 'never': 51, 'littl': 52, 'best': 53, 'tri': 54, 'man': 55, 'ever': 56, 'give': 57, 'better': 58, 'still': 59, 'perform': 60, 'find': 61, 'feel': 62, 'part': 63, 'back': 64, 'use': 65, 'someth': 66, 'director': 67, 'actual': 68, 'interest': 69, 'lot': 70, 'real': 71, 'old': 72, 'cast': 73, 'though': 74, 'live': 75, 'star': 76, 'enjoy': 77, 'guy': 78, 'anoth': 79, 'new': 80, 'role': 81, 'noth': 82, '10': 83, 'funni': 84, 'music': 85, 'point': 86, 'start': 87, 'set': 88, 'girl': 89, 'origin': 90, 'day': 91, 'world': 92, 'everi': 93, 'believ': 94, 'turn': 95, 'quit': 96, 'direct': 97, 'us': 98, 'thought': 99, 'fact': 100, 'minut': 101, 'horror': 102, 'kill': 103, 'action': 104, 'comedi': 105, 'pretti': 106, 'young': 107, 'wonder': 108, 'happen': 109, 'around': 110, 'got': 111, 'effect': 112, 'right': 113, 'long': 114, 'howev': 115, 'big': 116, 'line': 117, 'famili': 118, 'enough': 119, 'seri': 120, 'may': 121, 'need': 122, 'fan': 123, 'bit': 124, 'script': 125, 'beauti': 126, 'person': 127, 'becom': 128, 'without': 129, 'must': 130, 'alway': 131, 'friend': 132, 'tell': 133, 'reason': 134, 'saw': 135, 'last': 136, 'final': 137, 'kid': 138, 'almost': 139, 'put': 140, 'least': 141, 'sure': 142, 'done': 143, 'whole': 144, 'place': 145, 'complet': 146, 'kind': 147, 'expect': 148, 'differ': 149, 'shot': 150, 'far': 151, 'mean': 152, 'anyth': 153, 'book': 154, 'laugh': 155, 'might': 156, 'name': 157, 'sinc': 158, 'begin': 159, '2': 160, 'probabl': 161, 'woman': 162, 'help': 163, 'entertain': 164, 'let': 165, 'screen': 166, 'call': 167, 'tv': 168, 'moment': 169, 'away': 170, 'read': 171, 'yet': 172, 'rather': 173, 'worst': 174, 'run': 175, 'fun': 176, 'lead': 177, 'hard': 178, 'audienc': 179, 'idea': 180, 'anyon': 181, 'episod': 182, 'american': 183, 'found': 184, 'appear': 185, 'bore': 186, 'especi': 187, 'although': 188, 'hope': 189, 'keep': 190, 'cours': 191, 'anim': 192, 'job': 193, 'goe': 194, 'move': 195, 'sens': 196, 'version': 197, 'dvd': 198, 'war': 199, 'money': 200, 'someon': 201, 'mind': 202, 'mayb': 203, 'problem': 204, 'true': 205, 'hous': 206, 'everyth': 207, 'nice': 208, 'second': 209, 'rate': 210, 'three': 211, 'night': 212, 'face': 213, 'follow': 214, 'recommend': 215, 'main': 216, 'product': 217, 'worth': 218, 'leav': 219, 'human': 220, 'special': 221, 'excel': 222, 'togeth': 223, 'wast': 224, 'sound': 225, 'everyon': 226, 'john': 227, 'hand': 228, '1': 229, 'father': 230, 'later': 231, 'eye': 232, 'said': 233, 'view': 234, 'instead': 235, 'review': 236, 'boy': 237, 'high': 238, 'hour': 239, 'miss': 240, 'talk': 241, 'classic': 242, 'wife': 243, 'understand': 244, 'left': 245, 'care': 246, 'black': 247, 'death': 248, 'open': 249, 'murder': 250, 'write': 251, 'half': 252, 'head': 253, 'rememb': 254, 'chang': 255, 'viewer': 256, 'fight': 257, 'gener': 258, 'surpris': 259, 'includ': 260, 'short': 261, 'die': 262, 'fall': 263, 'less': 264, 'els': 265, 'entir': 266, 'piec': 267, 'involv': 268, 'pictur': 269, 'simpli': 270, 'home': 271, 'top': 272, 'power': 273, 'total': 274, 'usual': 275, 'budget': 276, 'attempt': 277, 'suppos': 278, 'releas': 279, 'hollywood': 280, 'terribl': 281, 'song': 282, 'men': 283, 'possibl': 284, 'featur': 285, 'portray': 286, 'disappoint': 287, 'poor': 288, '3': 289, 'coupl': 290, 'camera': 291, 'stupid': 292, 'dead': 293, 'wrong': 294, 'low': 295, 'produc': 296, 'video': 297, 'either': 298, 'aw': 299, 'definit': 300, 'except': 301, 'rest': 302, 'given': 303, 'absolut': 304, 'women': 305, 'lack': 306, 'word': 307, 'writer': 308, 'titl': 309, 'talent': 310, 'decid': 311, 'full': 312, 'perfect': 313, 'along': 314, 'style': 315, 'close': 316, 'truli': 317, 'school': 318, 'save': 319, 'emot': 320, 'age': 321, 'sex': 322, 'next': 323, 'bring': 324, 'mr': 325, 'case': 326, 'killer': 327, 'heart': 328, 'comment': 329, 'sort': 330, 'creat': 331, 'perhap': 332, 'came': 333, 'brother': 334, 'sever': 335, 'joke': 336, 'art': 337, 'dialogu': 338, 'game': 339, 'small': 340, 'base': 341, 'flick': 342, 'written': 343, 'sequenc': 344, 'meet': 345, 'earli': 346, 'often': 347, 'other': 348, 'mother': 349, 'develop': 350, 'humor': 351, 'actress': 352, 'consid': 353, 'dark': 354, 'guess': 355, 'amaz': 356, 'unfortun': 357, 'light': 358, 'lost': 359, 'exampl': 360, 'cinema': 361, 'drama': 362, 'white': 363, 'ye': 364, 'experi': 365, 'imagin': 366, 'mention': 367, 'stop': 368, 'natur': 369, 'forc': 370, 'manag': 371, 'felt': 372, 'present': 373, 'cut': 374, 'children': 375, 'fail': 376, 'son': 377, 'car': 378, 'qualiti': 379, 'support': 380, 'ask': 381, 'hit': 382, 'side': 383, 'voic': 384, 'extrem': 385, 'impress': 386, 'wors': 387, 'evil': 388, 'stand': 389, 'went': 390, 'certainli': 391, 'basic': 392, 'oh': 393, 'overal': 394, 'favorit': 395, 'horribl': 396, 'mysteri': 397, 'number': 398, 'type': 399, 'danc': 400, 'wait': 401, 'hero': 402, '5': 403, 'alreadi': 404, 'learn': 405, 'matter': 406, '4': 407, 'michael': 408, 'genr': 409, 'fine': 410, 'despit': 411, 'throughout': 412, 'walk': 413, 'success': 414, 'histori': 415, 'question': 416, 'zombi': 417, 'town': 418, 'realiz': 419, 'relationship': 420, 'child': 421, 'past': 422, 'daughter': 423, 'late': 424, 'b': 425, 'wish': 426, 'credit': 427, 'hate': 428, 'event': 429, 'theme': 430, 'touch': 431, 'citi': 432, 'today': 433, 'sometim': 434, 'behind': 435, 'god': 436, 'twist': 437, 'sit': 438, 'deal': 439, 'stay': 440, 'annoy': 441, 'abl': 442, 'rent': 443, 'pleas': 444, 'edit': 445, 'blood': 446, 'deserv': 447, 'anyway': 448, 'comic': 449, 'appar': 450, 'soon': 451, 'gave': 452, 'etc': 453, 'level': 454, 'slow': 455, 'chanc': 456, 'score': 457, 'bodi': 458, 'brilliant': 459, 'incred': 460, 'figur': 461, 'situat': 462, 'self': 463, 'major': 464, 'stuff': 465, 'decent': 466, 'element': 467, 'return': 468, 'dream': 469, 'obvious': 470, 'continu': 471, 'order': 472, 'pace': 473, 'ridicul': 474, 'happi': 475, 'highli': 476, 'group': 477, 'add': 478, 'thank': 479, 'ladi': 480, 'novel': 481, 'pain': 482, 'speak': 483, 'career': 484, 'shoot': 485, 'strang': 486, 'heard': 487, 'sad': 488, 'husband': 489, 'polic': 490, 'import': 491, 'break': 492, 'took': 493, 'cannot': 494, 'strong': 495, 'predict': 496, 'robert': 497, 'violenc': 498, 'hilari': 499, 'recent': 500, 'countri': 501, 'known': 502, 'particularli': 503, 'pick': 504, 'documentari': 505, 'season': 506, 'critic': 507, 'jame': 508, 'compar': 509, 'alon': 510, 'obviou': 511, 'told': 512, 'state': 513, 'visual': 514, 'rock': 515, 'offer': 516, 'theater': 517, 'exist': 518, 'opinion': 519, 'gore': 520, 'hold': 521, 'crap': 522, 'result': 523, 'realiti': 524, 'room': 525, 'hear': 526, 'clich': 527, 'effort': 528, 'thriller': 529, 'caus': 530, 'serious': 531, 'explain': 532, 'sequel': 533, 'king': 534, 'local': 535, 'ago': 536, 'hell': 537, 'none': 538, 'note': 539, 'allow': 540, 'sister': 541, 'david': 542, 'simpl': 543, 'femal': 544, 'deliv': 545, 'ok': 546, 'convinc': 547, 'class': 548, 'check': 549, 'suspens': 550, 'win': 551, 'buy': 552, 'oscar': 553, 'huge': 554, 'valu': 555, 'sexual': 556, 'scari': 557, 'cool': 558, 'similar': 559, 'excit': 560, 'exactli': 561, 'provid': 562, 'apart': 563, 'shown': 564, 'avoid': 565, 'seriou': 566, 'english': 567, 'whose': 568, 'taken': 569, 'cinematographi': 570, 'shock': 571, 'polit': 572, 'spoiler': 573, 'offic': 574, 'across': 575, 'middl': 576, 'street': 577, 'pass': 578, 'messag': 579, 'charm': 580, 'somewhat': 581, 'silli': 582, 'modern': 583, 'confus': 584, 'filmmak': 585, 'form': 586, 'tale': 587, 'singl': 588, 'jack': 589, 'mostli': 590, 'carri': 591, 'attent': 592, 'william': 593, 'sing': 594, 'five': 595, 'subject': 596, 'prove': 597, 'richard': 598, 'team': 599, 'stage': 600, 'cop': 601, 'unlik': 602, 'georg': 603, 'televis': 604, 'monster': 605, 'earth': 606, 'cover': 607, 'villain': 608, 'pay': 609, 'marri': 610, 'toward': 611, 'build': 612, 'parent': 613, 'pull': 614, 'due': 615, 'fill': 616, 'respect': 617, 'dialog': 618, 'four': 619, 'remind': 620, 'futur': 621, 'typic': 622, 'weak': 623, '7': 624, 'cheap': 625, 'intellig': 626, 'atmospher': 627, 'british': 628, 'clearli': 629, '80': 630, 'dog': 631, 'paul': 632, 'non': 633, 'fast': 634, 'artist': 635, '8': 636, 'knew': 637, 'crime': 638, 'easili': 639, 'escap': 640, 'adult': 641, 'doubt': 642, 'detail': 643, 'date': 644, 'romant': 645, 'member': 646, 'fire': 647, 'gun': 648, 'drive': 649, 'straight': 650, 'fit': 651, 'beyond': 652, 'attack': 653, 'imag': 654, 'upon': 655, 'posit': 656, 'whether': 657, 'fantast': 658, 'peter': 659, 'captur': 660, 'aspect': 661, 'appreci': 662, 'ten': 663, 'plan': 664, 'discov': 665, 'remain': 666, 'period': 667, 'near': 668, 'realist': 669, 'air': 670, 'mark': 671, 'red': 672, 'dull': 673, 'adapt': 674, 'within': 675, 'lose': 676, 'spend': 677, 'color': 678, 'materi': 679, 'chase': 680, 'mari': 681, 'storylin': 682, 'forget': 683, 'bunch': 684, 'clear': 685, 'lee': 686, 'victim': 687, 'nearli': 688, 'box': 689, 'york': 690, 'inspir': 691, 'match': 692, 'mess': 693, 'finish': 694, 'standard': 695, 'easi': 696, 'truth': 697, 'busi': 698, 'suffer': 699, 'dramat': 700, 'bill': 701, 'space': 702, 'western': 703, 'e': 704, 'list': 705, 'battl': 706, 'notic': 707, 'de': 708, 'french': 709, 'ad': 710, '9': 711, 'tom': 712, 'larg': 713, 'among': 714, 'eventu': 715, 'accept': 716, 'train': 717, 'agre': 718, 'soundtrack': 719, 'spirit': 720, 'third': 721, 'teenag': 722, 'soldier': 723, 'adventur': 724, 'famou': 725, 'drug': 726, 'suggest': 727, 'sorri': 728, 'cri': 729, 'babi': 730, 'normal': 731, 'troubl': 732, 'ultim': 733, 'contain': 734, 'certain': 735, 'cultur': 736, 'romanc': 737, 'rare': 738, 'lame': 739, 'somehow': 740, 'disney': 741, 'mix': 742, 'gone': 743, 'cartoon': 744, 'student': 745, 'reveal': 746, 'fear': 747, 'kept': 748, 'suck': 749, 'attract': 750, 'appeal': 751, 'premis': 752, 'secret': 753, 'greatest': 754, 'design': 755, 'shame': 756, 'throw': 757, 'copi': 758, 'scare': 759, 'wit': 760, 'america': 761, 'admit': 762, 'relat': 763, 'brought': 764, 'particular': 765, 'screenplay': 766, 'whatev': 767, 'pure': 768, '70': 769, 'averag': 770, 'harri': 771, 'master': 772, 'describ': 773, 'treat': 774, 'male': 775, '20': 776, 'fantasi': 777, 'issu': 778, 'warn': 779, 'inde': 780, 'forward': 781, 'background': 782, 'project': 783, 'free': 784, 'memor': 785, 'japanes': 786, 'poorli': 787, 'award': 788, 'locat': 789, 'potenti': 790, 'amus': 791, 'struggl': 792, 'weird': 793, 'magic': 794, 'societi': 795, 'okay': 796, 'accent': 797, 'imdb': 798, 'doctor': 799, 'hot': 800, 'water': 801, 'express': 802, 'alien': 803, '30': 804, 'dr': 805, 'odd': 806, 'choic': 807, 'crazi': 808, 'fiction': 809, 'studio': 810, 'control': 811, 'becam': 812, 'masterpiec': 813, 'difficult': 814, 'fli': 815, 'joe': 816, 'scream': 817, 'costum': 818, 'lover': 819, 'refer': 820, 'uniqu': 821, 'remak': 822, 'vampir': 823, 'girlfriend': 824, 'prison': 825, 'execut': 826, 'wear': 827, 'jump': 828, 'wood': 829, 'unless': 830, 'creepi': 831, 'cheesi': 832, 'superb': 833, 'otherwis': 834, 'parti': 835, 'roll': 836, 'ghost': 837, 'mad': 838, 'public': 839, 'depict': 840, 'earlier': 841, 'badli': 842, 'jane': 843, 'week': 844, 'moral': 845, 'fi': 846, 'dumb': 847, 'grow': 848, 'flaw': 849, 'sci': 850, 'deep': 851, 'cat': 852, 'maker': 853, 'connect': 854, 'older': 855, 'footag': 856, 'plenti': 857, 'bother': 858, 'outsid': 859, 'stick': 860, 'gay': 861, 'catch': 862, 'plu': 863, 'co': 864, 'popular': 865, 'equal': 866, 'social': 867, 'quickli': 868, 'disturb': 869, 'perfectli': 870, 'dress': 871, '90': 872, 'era': 873, 'mistak': 874, 'lie': 875, 'previou': 876, 'ride': 877, 'combin': 878, 'concept': 879, 'band': 880, 'rich': 881, 'surviv': 882, 'answer': 883, 'front': 884, 'sweet': 885, 'christma': 886, 'insid': 887, 'eat': 888, 'bare': 889, 'concern': 890, 'listen': 891, 'beat': 892, 'ben': 893, 'c': 894, 'term': 895, 'serv': 896, 'la': 897, 'german': 898, 'meant': 899, 'hardli': 900, 'stereotyp': 901, 'innoc': 902, 'law': 903, 'desper': 904, 'promis': 905, 'memori': 906, 'cute': 907, 'intent': 908, 'variou': 909, 'steal': 910, 'inform': 911, 'brain': 912, 'post': 913, 'tone': 914, 'island': 915, 'amount': 916, 'nuditi': 917, 'compani': 918, 'track': 919, 'claim': 920, 'store': 921, 'hair': 922, '50': 923, 'flat': 924, 'land': 925, 'univers': 926, 'scott': 927, 'fairli': 928, 'danger': 929, 'kick': 930, 'player': 931, 'crew': 932, 'step': 933, 'plain': 934, 'toni': 935, 'share': 936, 'tast': 937, 'centuri': 938, 'engag': 939, 'achiev': 940, 'travel': 941, 'cold': 942, 'suit': 943, 'record': 944, 'rip': 945, 'manner': 946, 'sadli': 947, 'spot': 948, 'tension': 949, 'wrote': 950, 'fascin': 951, 'intens': 952, 'familiar': 953, 'burn': 954, 'remark': 955, 'depth': 956, 'histor': 957, 'destroy': 958, 'sleep': 959, 'purpos': 960, 'languag': 961, 'ruin': 962, 'ignor': 963, 'delight': 964, 'unbeliev': 965, 'italian': 966, 'collect': 967, 'abil': 968, 'soul': 969, 'detect': 970, 'clever': 971, 'violent': 972, 'rape': 973, 'reach': 974, 'door': 975, 'scienc': 976, 'trash': 977, 'liter': 978, 'commun': 979, 'caught': 980, 'reveng': 981, 'creatur': 982, 'trip': 983, 'approach': 984, 'fashion': 985, 'intrigu': 986, 'introduc': 987, 'paint': 988, 'skill': 989, 'channel': 990, 'complex': 991, 'camp': 992, 'christian': 993, 'hole': 994, 'extra': 995, 'mental': 996, 'immedi': 997, 'ann': 998, 'limit': 999, 'million': 1000, '6': 1001, 'mere': 1002, 'slightli': 1003, 'comput': 1004, 'conclus': 1005, 'slasher': 1006, 'suddenli': 1007, 'imposs': 1008, 'crimin': 1009, 'neither': 1010, 'teen': 1011, 'physic': 1012, 'nation': 1013, 'spent': 1014, 'respons': 1015, 'planet': 1016, 'fake': 1017, 'receiv': 1018, 'blue': 1019, 'sick': 1020, 'bizarr': 1021, 'embarrass': 1022, 'indian': 1023, 'ring': 1024, '15': 1025, 'pop': 1026, 'drop': 1027, 'drag': 1028, 'haunt': 1029, 'pointless': 1030, 'suspect': 1031, 'edg': 1032, 'search': 1033, 'handl': 1034, 'common': 1035, 'biggest': 1036, 'faith': 1037, 'arriv': 1038, 'hurt': 1039, 'technic': 1040, 'angel': 1041, 'genuin': 1042, 'dad': 1043, 'solid': 1044, 'f': 1045, 'awesom': 1046, 'van': 1047, 'former': 1048, 'focu': 1049, 'colleg': 1050, 'count': 1051, 'heavi': 1052, 'tear': 1053, 'wall': 1054, 'rais': 1055, 'visit': 1056, 'laughabl': 1057, 'younger': 1058, 'sign': 1059, 'excus': 1060, 'fair': 1061, 'cult': 1062, 'tough': 1063, 'key': 1064, 'motion': 1065, 'super': 1066, 'desir': 1067, 'addit': 1068, 'stun': 1069, 'cloth': 1070, 'exploit': 1071, 'smith': 1072, 'tortur': 1073, 'davi': 1074, 'race': 1075, 'cross': 1076, 'author': 1077, 'jim': 1078, 'focus': 1079, 'minor': 1080, 'compel': 1081, 'consist': 1082, 'chemistri': 1083, 'pathet': 1084, 'commit': 1085, 'park': 1086, 'frank': 1087, 'tradit': 1088, 'obsess': 1089, 'grade': 1090, '60': 1091, 'asid': 1092, 'brutal': 1093, 'somewher': 1094, 'steve': 1095, 'depress': 1096, 'rule': 1097, 'opportun': 1098, 'explor': 1099, 'grant': 1100, 'u': 1101, 'besid': 1102, 'honest': 1103, 'dub': 1104, 'anti': 1105, 'trailer': 1106, 'intend': 1107, 'bar': 1108, 'regard': 1109, 'longer': 1110, 'west': 1111, 'scientist': 1112, 'judg': 1113, 'decad': 1114, 'silent': 1115, 'creativ': 1116, 'armi': 1117, 'wild': 1118, 'g': 1119, 'stewart': 1120, 'south': 1121, 'draw': 1122, 'road': 1123, 'govern': 1124, 'ex': 1125, 'boss': 1126, 'practic': 1127, 'festiv': 1128, 'club': 1129, 'gang': 1130, 'motiv': 1131, 'surprisingli': 1132, 'redeem': 1133, 'london': 1134, 'green': 1135, 'page': 1136, 'idiot': 1137, 'aliv': 1138, 'machin': 1139, 'display': 1140, 'militari': 1141, 'thrill': 1142, 'repeat': 1143, 'nobodi': 1144, 'yeah': 1145, 'folk': 1146, '100': 1147, '40': 1148, 'garbag': 1149, 'journey': 1150, 'ground': 1151, 'smile': 1152, 'tire': 1153, 'bought': 1154, 'mood': 1155, 'stone': 1156, 'cost': 1157, 'sam': 1158, 'mouth': 1159, 'noir': 1160, 'terrif': 1161, 'agent': 1162, 'utterli': 1163, 'requir': 1164, 'area': 1165, 'honestli': 1166, 'sexi': 1167, 'report': 1168, 'geniu': 1169, 'glad': 1170, 'humour': 1171, 'investig': 1172, 'enter': 1173, 'serial': 1174, 'narr': 1175, 'occasion': 1176, 'passion': 1177, 'marriag': 1178, 'climax': 1179, 'industri': 1180, 'studi': 1181, 'center': 1182, 'demon': 1183, 'ship': 1184, 'nowher': 1185, 'charli': 1186, 'bear': 1187, 'loos': 1188, 'hors': 1189, 'hang': 1190, 'wow': 1191, 'graphic': 1192, 'giant': 1193, 'admir': 1194, 'send': 1195, 'damn': 1196, 'loud': 1197, 'profession': 1198, 'rel': 1199, 'subtl': 1200, 'nake': 1201, 'blow': 1202, 'bottom': 1203, 'insult': 1204, 'batman': 1205, 'doubl': 1206, 'boyfriend': 1207, 'r': 1208, 'kelli': 1209, 'initi': 1210, 'frame': 1211, 'gem': 1212, 'opera': 1213, 'challeng': 1214, 'cinemat': 1215, 'affect': 1216, 'drawn': 1217, 'church': 1218, 'nightmar': 1219, 'fulli': 1220, 'evid': 1221, 'l': 1222, 'j': 1223, 'seek': 1224, 'arm': 1225, 'conflict': 1226, 'essenti': 1227, 'christoph': 1228, 'wind': 1229, 'grace': 1230, 'henri': 1231, 'assum': 1232, 'witch': 1233, 'narrat': 1234, 'push': 1235, 'hunt': 1236, 'wise': 1237, 'chri': 1238, 'month': 1239, 'repres': 1240, 'nomin': 1241, 'avail': 1242, 'sceneri': 1243, 'hide': 1244, 'affair': 1245, 'thu': 1246, 'smart': 1247, 'justic': 1248, 'bond': 1249, 'flashback': 1250, 'interview': 1251, 'outstand': 1252, 'satisfi': 1253, 'constantli': 1254, 'presenc': 1255, 'central': 1256, 'bed': 1257, 'content': 1258, 'iron': 1259, 'sell': 1260, 'everybodi': 1261, 'gag': 1262, 'slowli': 1263, 'hotel': 1264, 'hire': 1265, 'system': 1266, 'adam': 1267, 'charl': 1268, 'thrown': 1269, 'hey': 1270, 'individu': 1271, 'mediocr': 1272, 'jone': 1273, 'allen': 1274, 'billi': 1275, 'ray': 1276, 'lesson': 1277, 'cameo': 1278, 'photographi': 1279, 'pari': 1280, 'fellow': 1281, 'strike': 1282, 'rise': 1283, 'independ': 1284, 'absurd': 1285, 'brief': 1286, 'neg': 1287, 'phone': 1288, 'impact': 1289, 'born': 1290, 'ill': 1291, 'model': 1292, 'fresh': 1293, 'spoil': 1294, 'angl': 1295, 'likabl': 1296, 'abus': 1297, 'discuss': 1298, 'hill': 1299, 'sight': 1300, 'ahead': 1301, 'photograph': 1302, 'sent': 1303, 'shine': 1304, 'logic': 1305, 'blame': 1306, 'occur': 1307, 'mainli': 1308, 'bruce': 1309, 'commerci': 1310, 'forev': 1311, 'skip': 1312, 'teacher': 1313, 'surround': 1314, 'held': 1315, 'segment': 1316, 'zero': 1317, 'blond': 1318, 'resembl': 1319, 'trap': 1320, 'satir': 1321, 'summer': 1322, 'queen': 1323, 'fool': 1324, 'six': 1325, 'ball': 1326, 'tragedi': 1327, 'sub': 1328, 'twice': 1329, 'reaction': 1330, 'pack': 1331, 'bomb': 1332, 'protagonist': 1333, 'hospit': 1334, 'will': 1335, 'sport': 1336, 'mile': 1337, 'vote': 1338, 'drink': 1339, 'mom': 1340, 'jerri': 1341, 'trust': 1342, 'encount': 1343, 'plane': 1344, 'current': 1345, 'program': 1346, 'station': 1347, 'al': 1348, 'choos': 1349, 'martin': 1350, 'celebr': 1351, 'join': 1352, 'field': 1353, 'round': 1354, 'favourit': 1355, 'lord': 1356, 'tragic': 1357, 'jean': 1358, 'robot': 1359, 'vision': 1360, 'tie': 1361, 'arthur': 1362, 'roger': 1363, 'random': 1364, 'fortun': 1365, 'psycholog': 1366, 'dread': 1367, 'intern': 1368, 'epic': 1369, 'nonsens': 1370, 'prefer': 1371, 'improv': 1372, 'pleasur': 1373, 'legend': 1374, 'formula': 1375, 'highlight': 1376, '11': 1377, 'tape': 1378, 'dollar': 1379, 'porn': 1380, 'gorgeou': 1381, 'fox': 1382, 'wide': 1383, 'thin': 1384, 'object': 1385, 'ugli': 1386, 'influenc': 1387, 'buddi': 1388, 'ii': 1389, 'nasti': 1390, 'prepar': 1391, 'warm': 1392, 'supposedli': 1393, 'progress': 1394, 'reflect': 1395, 'worthi': 1396, 'youth': 1397, 'length': 1398, 'latter': 1399, 'unusu': 1400, 'crash': 1401, 'childhood': 1402, 'superior': 1403, 'seven': 1404, 'shop': 1405, 'remot': 1406, 'theatr': 1407, 'paid': 1408, 'funniest': 1409, 'pilot': 1410, 'disgust': 1411, 'trick': 1412, 'convers': 1413, 'fell': 1414, 'castl': 1415, 'rob': 1416, 'gangster': 1417, 'disast': 1418, 'establish': 1419, 'heaven': 1420, 'ident': 1421, 'disappear': 1422, 'mine': 1423, 'suicid': 1424, 'decis': 1425, 'heroin': 1426, 'singer': 1427, 'mask': 1428, 'forgotten': 1429, 'tend': 1430, 'brian': 1431, 'partner': 1432, 'recogn': 1433, 'alan': 1434, 'desert': 1435, 'stuck': 1436, 'thoroughli': 1437, 'sky': 1438, 'p': 1439, 'ms': 1440, 'accur': 1441, 'replac': 1442, 'market': 1443, 'andi': 1444, 'eddi': 1445, 'seemingli': 1446, 'danni': 1447, 'clue': 1448, 'uncl': 1449, 'commentari': 1450, 'devil': 1451, 'jackson': 1452, 'that': 1453, 'therefor': 1454, 'pair': 1455, 'refus': 1456, 'fault': 1457, 'accid': 1458, 'fate': 1459, 'unit': 1460, 'ed': 1461, 'river': 1462, 'afraid': 1463, 'tune': 1464, 'hidden': 1465, 'clean': 1466, 'stephen': 1467, 'russian': 1468, 'test': 1469, 'quick': 1470, 'instanc': 1471, 'readi': 1472, 'irrit': 1473, 'convey': 1474, 'captain': 1475, 'european': 1476, 'frustrat': 1477, 'daniel': 1478, 'insan': 1479, '1950': 1480, 'rescu': 1481, 'food': 1482, 'chines': 1483, 'wed': 1484, 'lock': 1485, 'dirti': 1486, 'angri': 1487, 'joy': 1488, 'steven': 1489, 'price': 1490, 'bland': 1491, 'cage': 1492, 'anymor': 1493, 'rang': 1494, 'wooden': 1495, 'jason': 1496, 'news': 1497, 'n': 1498, 'rush': 1499, '12': 1500, 'worri': 1501, 'twenti': 1502, 'led': 1503, 'board': 1504, 'martial': 1505, 'hunter': 1506, 'symbol': 1507, 'cgi': 1508, 'transform': 1509, 'x': 1510, 'piti': 1511, 'sentiment': 1512, 'invent': 1513, 'johnni': 1514, 'onto': 1515, 'explan': 1516, 'attitud': 1517, 'process': 1518, 'owner': 1519, 'awar': 1520, 'aim': 1521, 'floor': 1522, 'energi': 1523, 'target': 1524, 'necessari': 1525, 'favor': 1526, 'opposit': 1527, 'religi': 1528, 'insight': 1529, 'blind': 1530, 'chick': 1531, 'window': 1532, 'movement': 1533, 'research': 1534, 'deepli': 1535, 'possess': 1536, 'mountain': 1537, 'comparison': 1538, 'whatsoev': 1539, 'grand': 1540, 'comed': 1541, 'rain': 1542, 'shadow': 1543, 'mid': 1544, 'began': 1545, 'bank': 1546, 'princ': 1547, 'parodi': 1548, 'friendship': 1549, 'pre': 1550, 'credibl': 1551, 'taylor': 1552, 'weapon': 1553, 'flesh': 1554, 'dougla': 1555, 'teach': 1556, 'hint': 1557, 'protect': 1558, 'bloodi': 1559, 'terror': 1560, 'marvel': 1561, 'load': 1562, 'superman': 1563, 'anybodi': 1564, 'watchabl': 1565, 'leader': 1566, 'drunk': 1567, 'accord': 1568, 'freddi': 1569, 'brown': 1570, 'jeff': 1571, 'tim': 1572, 'seat': 1573, 'appropri': 1574, 'hitler': 1575, 'villag': 1576, 'charg': 1577, 'knock': 1578, 'unknown': 1579, 'keaton': 1580, 'england': 1581, 'media': 1582, 'empti': 1583, 'unnecessari': 1584, 'enemi': 1585, 'craft': 1586, 'strength': 1587, 'dare': 1588, 'buck': 1589, 'perspect': 1590, 'wave': 1591, 'utter': 1592, 'kiss': 1593, 'ford': 1594, 'correct': 1595, 'nativ': 1596, 'contrast': 1597, 'speed': 1598, 'magnific': 1599, 'chill': 1600, 'soap': 1601, 'nazi': 1602, 'distract': 1603, 'anywher': 1604, 'knowledg': 1605, 'mission': 1606, '1980': 1607, 'ice': 1608, 'breath': 1609, 'fred': 1610, 'joan': 1611, 'moon': 1612, 'jr': 1613, 'crowd': 1614, 'kate': 1615, 'frighten': 1616, '000': 1617, 'soft': 1618, 'hundr': 1619, 'dick': 1620, 'nick': 1621, 'dan': 1622, 'somebodi': 1623, 'radio': 1624, 'simon': 1625, 'dozen': 1626, 'loss': 1627, 'shakespear': 1628, 'academi': 1629, 'andrew': 1630, 'thousand': 1631, 'account': 1632, 'root': 1633, 'quot': 1634, 'vehicl': 1635, 'sum': 1636, 'leg': 1637, 'convent': 1638, 'behavior': 1639, '1970': 1640, 'gold': 1641, 'regular': 1642, 'demand': 1643, 'worker': 1644, 'pretenti': 1645, 'compet': 1646, 'stretch': 1647, 'japan': 1648, 'candi': 1649, 'privat': 1650, 'interpret': 1651, 'explos': 1652, 'notabl': 1653, 'lynch': 1654, 'debut': 1655, 'tarzan': 1656, 'constant': 1657, 'prais': 1658, 'translat': 1659, 'spi': 1660, 'sea': 1661, 'revolv': 1662, 'ass': 1663, 'franc': 1664, 'quiet': 1665, 'threaten': 1666, 'sat': 1667, 'failur': 1668, 'technolog': 1669, 'jesu': 1670, 'punch': 1671, 'kevin': 1672, 'toy': 1673, 'higher': 1674, 'met': 1675, 'aid': 1676, 'abandon': 1677, 'mike': 1678, 'vh': 1679, 'interact': 1680, 'command': 1681, 'confront': 1682, 'bet': 1683, 'separ': 1684, 'servic': 1685, 'techniqu': 1686, 'stunt': 1687, 'gotten': 1688, 'site': 1689, 'recal': 1690, 'belong': 1691, 'freak': 1692, 'cabl': 1693, 'bug': 1694, 'foot': 1695, 'bright': 1696, 'jimmi': 1697, 'capabl': 1698, 'fu': 1699, 'african': 1700, 'fat': 1701, 'succeed': 1702, 'clark': 1703, 'presid': 1704, 'boat': 1705, 'stock': 1706, 'spanish': 1707, 'structur': 1708, 'gene': 1709, 'paper': 1710, 'kidnap': 1711, 'belief': 1712, 'whilst': 1713, 'factor': 1714, 'educ': 1715, 'realis': 1716, 'complic': 1717, 'witti': 1718, 'tree': 1719, 'realism': 1720, 'attend': 1721, 'bob': 1722, 'broken': 1723, 'finest': 1724, 'assist': 1725, 'santa': 1726, 'depart': 1727, 'observ': 1728, 'v': 1729, 'determin': 1730, 'up': 1731, 'smoke': 1732, 'lewi': 1733, 'domin': 1734, 'hat': 1735, 'fame': 1736, 'rubbish': 1737, 'routin': 1738, 'oper': 1739, 'kinda': 1740, 'foreign': 1741, 'advanc': 1742, 'lone': 1743, 'morgan': 1744, 'hook': 1745, 'safe': 1746, 'rank': 1747, 'numer': 1748, 'shallow': 1749, 'washington': 1750, 'civil': 1751, 'werewolf': 1752, 'vs': 1753, 'shape': 1754, 'rose': 1755, 'morn': 1756, 'gari': 1757, 'winner': 1758, 'accomplish': 1759, 'ordinari': 1760, 'kong': 1761, 'whenev': 1762, 'grab': 1763, 'peac': 1764, 'virtual': 1765, 'luck': 1766, 'offens': 1767, 'h': 1768, 'unfunni': 1769, 'complain': 1770, 'contriv': 1771, 'welcom': 1772, 'activ': 1773, 'bigger': 1774, 'patient': 1775, 'dimension': 1776, 'con': 1777, 'pretend': 1778, 'trek': 1779, 'dri': 1780, 'flash': 1781, 'eric': 1782, 'lesbian': 1783, 'code': 1784, 'wake': 1785, 'cain': 1786, 'manipul': 1787, 'guard': 1788, 'dancer': 1789, 'statu': 1790, 'albert': 1791, 'corrupt': 1792, 'sourc': 1793, 'signific': 1794, 'context': 1795, 'speech': 1796, 'awkward': 1797, 'gain': 1798, 'sean': 1799, '13': 1800, 'clip': 1801, 'psycho': 1802, 'anthoni': 1803, 'corni': 1804, 'w': 1805, 'advic': 1806, 'curiou': 1807, 'theatric': 1808, 'priest': 1809, 'reli': 1810, 'religion': 1811, 'addict': 1812, 'flow': 1813, 'specif': 1814, 'secur': 1815, 'howard': 1816, 'jennif': 1817, 'skin': 1818, 'asian': 1819, 'comfort': 1820, 'core': 1821, 'golden': 1822, 'promot': 1823, 'luke': 1824, 'organ': 1825, 'cash': 1826, 'cheat': 1827, 'lucki': 1828, 'lower': 1829, 'dislik': 1830, 'associ': 1831, 'devic': 1832, 'wing': 1833, 'contribut': 1834, 'balanc': 1835, 'frankli': 1836, 'spell': 1837, 'regret': 1838, 'degre': 1839, 'frequent': 1840, 'lake': 1841, 'sake': 1842, 'print': 1843, 'forgiv': 1844, 'thoma': 1845, 'mass': 1846, 'betti': 1847, 'crack': 1848, 'gordon': 1849, 'unexpect': 1850, 'grown': 1851, 'depend': 1852, 'construct': 1853, 'invit': 1854, 'categori': 1855, 'amateur': 1856, 'unfold': 1857, 'matur': 1858, 'intellectu': 1859, 'condit': 1860, 'grew': 1861, 'anna': 1862, 'honor': 1863, 'walter': 1864, 'veteran': 1865, 'sudden': 1866, 'spectacular': 1867, 'mirror': 1868, 'sole': 1869, 'gift': 1870, 'demonstr': 1871, 'grip': 1872, 'card': 1873, 'freedom': 1874, 'liner': 1875, 'meanwhil': 1876, 'overli': 1877, 'experienc': 1878, 'robin': 1879, 'oliv': 1880, 'brilliantli': 1881, 'unabl': 1882, 'colour': 1883, 'theori': 1884, 'sheriff': 1885, 'circumst': 1886, 'crappi': 1887, 'subtitl': 1888, 'section': 1889, 'drew': 1890, 'parker': 1891, 'laughter': 1892, 'matt': 1893, 'path': 1894, 'pile': 1895, 'altern': 1896, 'cook': 1897, 'sheer': 1898, 'wander': 1899, 'defin': 1900, 'lawyer': 1901, 'hall': 1902, 'accident': 1903, 'treatment': 1904, 'relief': 1905, 'sinatra': 1906, 'captiv': 1907, 'dragon': 1908, 'hank': 1909, 'halloween': 1910, 'moor': 1911, 'gratuit': 1912, 'unintent': 1913, 'barbara': 1914, 'k': 1915, 'wound': 1916, 'cowboy': 1917, 'wayn': 1918, 'jacki': 1919, 'kung': 1920, 'broadway': 1921, 'spoof': 1922, 'statement': 1923, 'surreal': 1924, 'canadian': 1925, 'winter': 1926, 'cheer': 1927, 'gonna': 1928, 'fare': 1929, 'fish': 1930, 'treasur': 1931, 'compos': 1932, 'sensit': 1933, 'emerg': 1934, 'victor': 1935, 'unrealist': 1936, 'woodi': 1937, 'sympathet': 1938, 'neighbor': 1939, 'ran': 1940, 'driven': 1941, 'topic': 1942, 'glass': 1943, 'overlook': 1944, 'authent': 1945, 'expos': 1946, 'menac': 1947, 'handsom': 1948, 'chief': 1949, 'ancient': 1950, 'michel': 1951, 'gross': 1952, 'nevertheless': 1953, 'network': 1954, 'stranger': 1955, 'russel': 1956, 'comedian': 1957, 'feet': 1958, 'contemporari': 1959, 'cinderella': 1960, 'pleasant': 1961, 'built': 1962, 'underr': 1963, 'earn': 1964, 'endless': 1965, 'miser': 1966, 'gori': 1967, 'consider': 1968, 'blockbust': 1969, 'letter': 1970, 'solv': 1971, 'switch': 1972, 'brook': 1973, 'convict': 1974, 'joseph': 1975, 'edward': 1976, 'virgin': 1977, 'victoria': 1978, 'bullet': 1979, 'scenario': 1980, 'scale': 1981, '0': 1982, 'alex': 1983, 'chosen': 1984, 'cynic': 1985, 'com': 1986, 'outrag': 1987, 'gut': 1988, 'sword': 1989, 'curs': 1990, 'juli': 1991, 'monkey': 1992, 'proper': 1993, 'driver': 1994, 'uk': 1995, 'wrap': 1996, 'substanc': 1997, 'screenwrit': 1998, 'indic': 1999, 'par': 2000, 'remov': 2001, 'court': 2002, 'bird': 2003, 'inevit': 2004, 'naiv': 2005, 'advertis': 2006, 'rental': 2007, 'loser': 2008, 'roy': 2009, 'nanci': 2010, 'consequ': 2011, 'grave': 2012, 'fatal': 2013, 'bridg': 2014, 'slap': 2015, 'brave': 2016, 'germani': 2017, 'le': 2018, 'invis': 2019, 'ador': 2020, 'footbal': 2021, 'provok': 2022, 'loui': 2023, 'anger': 2024, 'anderson': 2025, 'chan': 2026, 'alcohol': 2027, 'ryan': 2028, 'willi': 2029, 'stumbl': 2030, 'professor': 2031, 'bat': 2032, 'assassin': 2033, 'australian': 2034, 'sharp': 2035, '1930': 2036, 'patrick': 2037, 'liber': 2038, 'ape': 2039, 'trilog': 2040, 'eight': 2041, 'refresh': 2042, 'lousi': 2043, 'heck': 2044, 'deni': 2045, 'amateurish': 2046, 'strongli': 2047, 'cell': 2048, 'saturday': 2049, 'sin': 2050, 'justifi': 2051, 'vagu': 2052, 'san': 2053, 'resid': 2054, 'terrifi': 2055, 'sympathi': 2056, 'creator': 2057, 'defeat': 2058, 'indi': 2059, 'reput': 2060, 'mini': 2061, 'task': 2062, 'tediou': 2063, 'endur': 2064, 'prevent': 2065, 'expert': 2066, 'tabl': 2067, 'basebal': 2068, 'che': 2069, 'imit': 2070, 'offend': 2071, 'trial': 2072, 'employ': 2073, 'rival': 2074, 'pitch': 2075, 'fairi': 2076, 'max': 2077, 'dig': 2078, 'europ': 2079, 'beach': 2080, 'complaint': 2081, 'weekend': 2082, 'risk': 2083, 'purchas': 2084, 'format': 2085, 'murphi': 2086, 'nois': 2087, 'powel': 2088, 'titan': 2089, 'tini': 2090, 'bite': 2091, 'harsh': 2092, 'glimps': 2093, 'reminisc': 2094, 'hype': 2095, '14': 2096, 'strip': 2097, 'asleep': 2098, 'north': 2099, 'till': 2100, 'prime': 2101, 'fals': 2102, 'texa': 2103, 'descript': 2104, 'destruct': 2105, 'revel': 2106, 'africa': 2107, 'excess': 2108, 'uninterest': 2109, 'spin': 2110, 'arrest': 2111, 'sitcom': 2112, 'inner': 2113, 'semi': 2114, 'surfac': 2115, 'controversi': 2116, 'argu': 2117, 'maintain': 2118, 'hitchcock': 2119, 'massiv': 2120, 'twin': 2121, 'dinosaur': 2122, 'makeup': 2123, 'ideal': 2124, 'kim': 2125, 'expens': 2126, 'melodrama': 2127, 'stare': 2128, 'reject': 2129, 'insist': 2130, 'ludicr': 2131, 'nail': 2132, 'supernatur': 2133, 'erot': 2134, 'host': 2135, 'press': 2136, 'ala': 2137, 'atroci': 2138, 'ga': 2139, 'subplot': 2140, 'forest': 2141, 'columbo': 2142, 'notch': 2143, 'cant': 2144, 'identifi': 2145, 'presum': 2146, 'dude': 2147, 'method': 2148, 'closer': 2149, 'forgett': 2150, 'character': 2151, 'guest': 2152, 'plagu': 2153, 'crude': 2154, 'border': 2155, 'beast': 2156, 'foster': 2157, 'ear': 2158, 'princess': 2159, 'landscap': 2160, 'lion': 2161, 'jungl': 2162, 'urban': 2163, 'bound': 2164, 'aunt': 2165, 'damag': 2166, 'birth': 2167, 'accus': 2168, 'previous': 2169, 'storytel': 2170, 'pacino': 2171, 'propaganda': 2172, 'jess': 2173, 'thirti': 2174, 'guid': 2175, 'nude': 2176, 'doll': 2177, 'chose': 2178, 'emma': 2179, 'pet': 2180, '25': 2181, 'whoever': 2182, 'mainstream': 2183, 'mate': 2184, 'warrior': 2185, 'size': 2186, 'cooper': 2187, 'merit': 2188, 'latest': 2189, 'exact': 2190, 'poster': 2191, 'gritti': 2192, 'upset': 2193, 'friday': 2194, 'deadli': 2195, 'sun': 2196, 'settl': 2197, 'ton': 2198, 'warner': 2199, '1990': 2200, 'contest': 2201, 'buff': 2202, 'rough': 2203, 'contact': 2204, 'popul': 2205, 'corps': 2206, 'blend': 2207, 'citizen': 2208, 'wilson': 2209, 'pitt': 2210, 'metal': 2211, 'bu': 2212, 'overcom': 2213, 'widow': 2214, 'rat': 2215, 'environ': 2216, 'alic': 2217, 'mgm': 2218, 'select': 2219, 'ted': 2220, 'link': 2221, 'revolut': 2222, 'particip': 2223, 'guilti': 2224, 'lift': 2225, 'accompani': 2226, '1960': 2227, 'johnson': 2228, 'corner': 2229, 'corpor': 2230, 'moron': 2231, 'matrix': 2232, 'prostitut': 2233, 'afternoon': 2234, 'exagger': 2235, 'holm': 2236, 'doom': 2237, 'hood': 2238, 'multipl': 2239, 'sincer': 2240, 'clair': 2241, 'friendli': 2242, 'leagu': 2243, 'instal': 2244, 'hip': 2245, 'blah': 2246, 'aka': 2247, 'irish': 2248, 'advis': 2249, 'string': 2250, 'defend': 2251, 'examin': 2252, 'junk': 2253, 'sunday': 2254, 'campi': 2255, 'grim': 2256, 'lugosi': 2257, 'icon': 2258, 'shake': 2259, 'shut': 2260, 'confid': 2261, 'varieti': 2262, 'pro': 2263, 'tight': 2264, 'rachel': 2265, 'denni': 2266, 'jaw': 2267, 'medic': 2268, 'sullivan': 2269, 'mexican': 2270, 'goal': 2271, 'attach': 2272, 'directli': 2273, 'sentenc': 2274, 'dean': 2275, 'bourn': 2276, 'prior': 2277, 'duke': 2278, 'sarah': 2279, 'legendari': 2280, 'breast': 2281, 'vietnam': 2282, 'courag': 2283, 'terrorist': 2284, 'truck': 2285, 'nose': 2286, 'un': 2287, 'proceed': 2288, 'split': 2289, 'yell': 2290, 'donald': 2291, 'entri': 2292, 'behav': 2293, 'hong': 2294, 'buri': 2295, 'borrow': 2296, 'concentr': 2297, 'everywher': 2298, 'confess': 2299, 'lifetim': 2300, 'gather': 2301, 'unconvinc': 2302, 'swim': 2303, 'forth': 2304, 'crush': 2305, 'stolen': 2306, 'jerk': 2307, 'turkey': 2308, 'spite': 2309, 'deliveri': 2310, 'pan': 2311, 'lip': 2312, 'california': 2313, 'julia': 2314, 'downright': 2315, 'hoffman': 2316, 'china': 2317, 'reward': 2318, 'quest': 2319, 'freeman': 2320, 'proud': 2321, 'flight': 2322, 'offici': 2323, 'jon': 2324, 'fabul': 2325, 'fade': 2326, 'sir': 2327, 'lazi': 2328, 'encourag': 2329, 'betray': 2330, 'jail': 2331, 'worthwhil': 2332, 'sink': 2333, 'notori': 2334, 'inept': 2335, 'bell': 2336, 'susan': 2337, 'lisa': 2338, 'bag': 2339, 'retard': 2340, 'shower': 2341, 'relev': 2342, 'storm': 2343, 'survivor': 2344, 'teeth': 2345, 'imageri': 2346, 'cousin': 2347, 'branagh': 2348, 'tremend': 2349, 'facial': 2350, 'finger': 2351, 'summari': 2352, 'toler': 2353, 'hugh': 2354, 'mexico': 2355, 'quirki': 2356, 'trade': 2357, 'stab': 2358, 'alright': 2359, 'shark': 2360, 'bride': 2361, 'hyster': 2362, 'ha': 2363, 'blown': 2364, 'pose': 2365, 'bitter': 2366, 'von': 2367, 'address': 2368, 'bone': 2369, 'ron': 2370, 'afterward': 2371, 'cruel': 2372, 'scheme': 2373, 'christ': 2374, 'ned': 2375, 'larri': 2376, 'swear': 2377, 'pursu': 2378, 'beg': 2379, 'traci': 2380, 'screw': 2381, 'distinct': 2382, 'thumb': 2383, 'tour': 2384, 'snake': 2385, 'feed': 2386, 'occas': 2387, 'stomach': 2388, 'chair': 2389, 'mechan': 2390, 'obscur': 2391, 'raw': 2392, 'photo': 2393, 'hardi': 2394, 'heavili': 2395, 'necessarili': 2396, 'cabin': 2397, 'gruesom': 2398, 'holiday': 2399, 'chain': 2400, 'sidney': 2401, 'render': 2402, 'southern': 2403, 'argument': 2404, 'resist': 2405, 'indulg': 2406, 'philip': 2407, 'understood': 2408, 'satan': 2409, 'india': 2410, 'racist': 2411, 'midnight': 2412, 'fourth': 2413, 'tongu': 2414, 'belov': 2415, 'integr': 2416, 'lay': 2417, 'forgot': 2418, 'obnoxi': 2419, 'stalk': 2420, 'outfit': 2421, 'pregnant': 2422, 'magazin': 2423, 'garden': 2424, '17': 2425, 'restor': 2426, 'deeper': 2427, 'slapstick': 2428, 'ticket': 2429, 'inhabit': 2430, 'carol': 2431, 'shoe': 2432, 'brad': 2433, 'lincoln': 2434, 'incid': 2435, 'devot': 2436, 'elizabeth': 2437, 'benefit': 2438, 'maria': 2439, 'anticip': 2440, 'disbelief': 2441, 'guarante': 2442, 'divorc': 2443, 'lili': 2444, 'underground': 2445, 'sandler': 2446, 'mildli': 2447, 'amazingli': 2448, 'explod': 2449, 'slave': 2450, 'creation': 2451, 'princip': 2452, 'greater': 2453, 'cring': 2454, 'bbc': 2455, 'capit': 2456, 'lesli': 2457, 'introduct': 2458, 'funnier': 2459, 'halfway': 2460, 'extraordinari': 2461, 'extent': 2462, 'text': 2463, 'advantag': 2464, 'overwhelm': 2465, 'transfer': 2466, 'wreck': 2467, 'enhanc': 2468, 'punish': 2469, 'tap': 2470, 'east': 2471, 'horrif': 2472, 'lo': 2473, 'dynam': 2474, 'error': 2475, 'preview': 2476, 'plant': 2477, 'jessica': 2478, 'deliber': 2479, 'lane': 2480, 'miscast': 2481, 'miller': 2482, 'homosexu': 2483, 'ensu': 2484, 'basi': 2485, 'sophist': 2486, 'vincent': 2487, 'vacat': 2488, '2000': 2489, 'appli': 2490, 'steel': 2491, 'elev': 2492, 'bollywood': 2493, 'spoken': 2494, 'sleazi': 2495, 'via': 2496, 'measur': 2497, 'extend': 2498, 'mansion': 2499, 'reed': 2500, 'uncomfort': 2501, 'conceiv': 2502, 'blair': 2503, 'beer': 2504, 'dentist': 2505, 'stanley': 2506, 'cathol': 2507, 'breathtak': 2508, 'fix': 2509, 'hippi': 2510, 'savag': 2511, 'assign': 2512, 'mous': 2513, 'goofi': 2514, 'daili': 2515, 'alter': 2516, 'melt': 2517, 'overact': 2518, 'properli': 2519, 'inspector': 2520, 'nowaday': 2521, 'subsequ': 2522, 'everyday': 2523, 'oppos': 2524, 'succe': 2525, 'carpent': 2526, 'sacrific': 2527, 'burt': 2528, 'massacr': 2529, 'block': 2530, 'neck': 2531, 'circl': 2532, 'laura': 2533, 'fay': 2534, 'grey': 2535, 'fallen': 2536, 'lesser': 2537, 'concert': 2538, 'portrait': 2539, 'pool': 2540, 'seagal': 2541, 'access': 2542, 'mob': 2543, 'christi': 2544, 'usa': 2545, 'jewish': 2546, 'chees': 2547, 'jake': 2548, 'competit': 2549, 'relax': 2550, 'react': 2551, 'sinist': 2552, 'isol': 2553, 'spiritu': 2554, '2006': 2555, 'lyric': 2556, 'suitabl': 2557, 'chop': 2558, 'nonetheless': 2559, 'nine': 2560, 'immens': 2561, 'ironi': 2562, 'appal': 2563, 'stink': 2564, 'creep': 2565, 'shirt': 2566, 'reduc': 2567, 'sold': 2568, 'franchis': 2569, 'needless': 2570, 'nut': 2571, 'adopt': 2572, 'spring': 2573, 'retir': 2574, 'showcas': 2575, 'rage': 2576, 'navi': 2577, 'user': 2578, 'luci': 2579, 'digit': 2580, 'nurs': 2581, 'bath': 2582, 'stanwyck': 2583, 'jay': 2584, 'per': 2585, 'asham': 2586, 'uninspir': 2587, 'zone': 2588, 'bulli': 2589, '1940': 2590, 'illustr': 2591, 'laid': 2592, 'amongst': 2593, 'broadcast': 2594, 'oddli': 2595, '2001': 2596, 'sutherland': 2597, 'upper': 2598, 'aspir': 2599, 'baker': 2600, 'disguis': 2601, 'stylish': 2602, 'throat': 2603, 'brando': 2604, 'fulfil': 2605, 'neighborhood': 2606, '18': 2607, 'endear': 2608, 'wanna': 2609, 'impli': 2610, 'wwii': 2611, 'em': 2612, 'thief': 2613, 'pound': 2614, 'pride': 2615, 'nobl': 2616, 'tens': 2617, 'dinner': 2618, 'dawn': 2619, '16': 2620, 'albeit': 2621, 'bett': 2622, 'diseas': 2623, 'coher': 2624, 'bo': 2625, 'rochest': 2626, 'shift': 2627, 'distribut': 2628, 'shoulder': 2629, 'cinematograph': 2630, 'prop': 2631, 'function': 2632, 'rebel': 2633, 'contract': 2634, 'poignant': 2635, 'silenc': 2636, 'surf': 2637, 'snow': 2638, 'forti': 2639, 'wash': 2640, 'matthau': 2641, 'knife': 2642, 'shout': 2643, 'henc': 2644, 'horrend': 2645, 'cannib': 2646, 'instinct': 2647, 'derek': 2648, 'heat': 2649, 'internet': 2650, 'eeri': 2651, 'widmark': 2652, 'duti': 2653, 'chuck': 2654, 'cancel': 2655, 'elvira': 2656, 'proof': 2657, 'mindless': 2658, 'height': 2659, 'reunion': 2660, 'silver': 2661, 'absorb': 2662, 'etern': 2663, 'spielberg': 2664, 'premier': 2665, 'alik': 2666, 'mill': 2667, 'repetit': 2668, 'greatli': 2669, 'incoher': 2670, 'pie': 2671, 'innov': 2672, 'musician': 2673, 'glori': 2674, 'neat': 2675, 'elvi': 2676, 'torn': 2677, 'lovabl': 2678, 'bang': 2679, 'homag': 2680, 'nelson': 2681, 'racism': 2682, 'britain': 2683, 'crisi': 2684, 'announc': 2685, 'precis': 2686, 'blank': 2687, 'redempt': 2688, 'fbi': 2689, 'trite': 2690, 'burton': 2691, 'infam': 2692, 'horrifi': 2693, 'itali': 2694, 'diamond': 2695, 'wealthi': 2696, 'dedic': 2697, 'streisand': 2698, 'ensembl': 2699, 'helen': 2700, 'hammer': 2701, 'flop': 2702, 'resolut': 2703, 'chaplin': 2704, 'wilder': 2705, 'happili': 2706, 'pat': 2707, 'parallel': 2708, 'broke': 2709, 'st': 2710, 'factori': 2711, 'cube': 2712, 'carter': 2713, 'conclud': 2714, 'oil': 2715, 'disagre': 2716, 'plastic': 2717, 'triumph': 2718, 'mar': 2719, 'chuckl': 2720, 'bush': 2721, 'fighter': 2722, 'own': 2723, 'rocket': 2724, 'march': 2725, 'weight': 2726, 'vega': 2727, 'row': 2728, 'climb': 2729, 'boot': 2730, 'luca': 2731, 'enorm': 2732, 'lust': 2733, 'sensibl': 2734, 'kurt': 2735, 'unforgett': 2736, 'meaning': 2737, 'spare': 2738, 'dump': 2739, 'dane': 2740, 'thug': 2741, 'mst3k': 2742, 'wherea': 2743, 'difficulti': 2744, 'stress': 2745, 'threat': 2746, 'arnold': 2747, 'rap': 2748, 'butt': 2749, 'dear': 2750, 'engin': 2751, 'fifti': 2752, 'caricatur': 2753, 'brand': 2754, 'adequ': 2755, 'bobbi': 2756, 'karloff': 2757, 'hamlet': 2758, 'polish': 2759, 'elabor': 2760, 'flynn': 2761, 'secretari': 2762, 'arrog': 2763, 'fest': 2764, 'homeless': 2765, 'ralph': 2766, 'swing': 2767, 'ego': 2768, 'journalist': 2769, 'barri': 2770, 'simpson': 2771, 'puppet': 2772, 'tool': 2773, 'unbear': 2774, 'grate': 2775, 'conspiraci': 2776, 'fanci': 2777, 'resort': 2778, 'induc': 2779, 'spike': 2780, 'arrang': 2781, 'float': 2782, 'pig': 2783, 'boll': 2784, 'cruis': 2785, 'choreograph': 2786, 'exercis': 2787, 'guilt': 2788, 'tribut': 2789, 'phillip': 2790, 'basement': 2791, 'muppet': 2792, 'ham': 2793, 'puzzl': 2794, 'file': 2795, 'fianc': 2796, 'item': 2797, 'layer': 2798, 'medium': 2799, 'document': 2800, 'editor': 2801, 'tower': 2802, 'toilet': 2803, 'korean': 2804, 'slip': 2805, '24': 2806, 'babe': 2807, 'ward': 2808, 'scarecrow': 2809, 'stan': 2810, 'territori': 2811, 'denzel': 2812, 'librari': 2813, 'slaughter': 2814, 'minim': 2815, 'superfici': 2816, 'assur': 2817, 'transit': 2818, 'persona': 2819, 'orient': 2820, 'portion': 2821, 'catherin': 2822, 'philosoph': 2823, 'doc': 2824, 'inexplic': 2825, 'glover': 2826, 'spark': 2827, 'larger': 2828, 'wolf': 2829, 'shi': 2830, 'boredom': 2831, 'owe': 2832, 'ban': 2833, 'sneak': 2834, 'curti': 2835, 'jet': 2836, 'jeremi': 2837, 'financi': 2838, 'dorothi': 2839, 'walken': 2840, 'pg': 2841, 'multi': 2842, 'cusack': 2843, 'profound': 2844, 'eleph': 2845, 'ambigu': 2846, 'metaphor': 2847, 'whale': 2848, 'hudson': 2849, 'backdrop': 2850, 'birthday': 2851, 'rave': 2852, 'elsewher': 2853, 'notion': 2854, 'viru': 2855, 'implaus': 2856, '2005': 2857, 'ultra': 2858, 'hack': 2859, 'stiff': 2860, 'union': 2861, 'gadget': 2862, 'eva': 2863, 'lloyd': 2864, '1st': 2865, 'slight': 2866, 'disc': 2867, 'deriv': 2868, 'afford': 2869, 'hawk': 2870, 'pad': 2871, 'newspap': 2872, 'reader': 2873, 'canada': 2874, 'squar': 2875, 'urg': 2876, 'poison': 2877, 'bibl': 2878, 'eastwood': 2879, 'distanc': 2880, 'superhero': 2881, 'charisma': 2882, 'spread': 2883, 'huh': 2884, 'cure': 2885, 'restaur': 2886, 'skit': 2887, 'drown': 2888, 'montag': 2889, 'heston': 2890, 'essenc': 2891, 'button': 2892, 'sadist': 2893, 'health': 2894, 'fetch': 2895, 'dealt': 2896, 'companion': 2897, 'godfath': 2898, 'peak': 2899, 'lab': 2900, 'maniac': 2901, 'muslim': 2902, 'scoobi': 2903, 'invest': 2904, 'gradual': 2905, 'estat': 2906, 'cup': 2907, 'alli': 2908, 'tea': 2909, 'ritter': 2910, 'subtleti': 2911, 'kane': 2912, 'miik': 2913, 'servant': 2914, 'countless': 2915, 'gothic': 2916, 'charismat': 2917, 'salli': 2918, 'electr': 2919, 'briefli': 2920, 'elect': 2921, 'heroic': 2922, 'iii': 2923, 'wannab': 2924, 'admittedli': 2925, 'tender': 2926, 'resourc': 2927, 'nuanc': 2928, 'toss': 2929, 'ingredi': 2930, 'reel': 2931, 'cole': 2932, 'grandmoth': 2933, 'bud': 2934, 'neil': 2935, 'stronger': 2936, 'poverti': 2937, 'kubrick': 2938, 'stood': 2939, 'shall': 2940, 'mild': 2941, 'pit': 2942, 'reev': 2943, 'label': 2944, 'carrey': 2945, 'punk': 2946, 'dawson': 2947, 'mafia': 2948, 'gate': 2949, 'pauli': 2950, 'assault': 2951, 'cardboard': 2952, 'outcom': 2953, 'burst': 2954, 'ian': 2955, 'terri': 2956, 'useless': 2957, 'astair': 2958, 'updat': 2959, 'bakshi': 2960, 'fond': 2961, 'easier': 2962, 'smooth': 2963, 'tag': 2964, 'smash': 2965, 'cox': 2966, 'resolv': 2967, 'vulner': 2968, 'increasingli': 2969, 'exchang': 2970, '2002': 2971, 'samurai': 2972, 'coincid': 2973, 'sketch': 2974, 'qualifi': 2975, 'divers': 2976, 'fist': 2977, 'melodramat': 2978, 'vari': 2979, 'rex': 2980, 'insert': 2981, 'luckili': 2982, 'suspend': 2983, 'be': 2984, 'tame': 2985, 'templ': 2986, 'scratch': 2987, 'blast': 2988, 'conveni': 2989, 'brillianc': 2990, 'reynold': 2991, 'strictli': 2992, 'coach': 2993, 'fisher': 2994, 'meat': 2995, 'jami': 2996, 'seventi': 2997, 'ambiti': 2998, 'walker': 2999, 'soprano': 3000, 'farm': 3001, 'hamilton': 3002, 'matthew': 3003, 'gotta': 3004, 'nuclear': 3005, 'pin': 3006, 'clock': 3007, 'instantli': 3008, 'empir': 3009, 'closet': 3010, 'cave': 3011, 'struck': 3012, 'spooki': 3013, 'kudo': 3014, 'worthless': 3015, 'timeless': 3016, 'grasp': 3017, 'eccentr': 3018, 'recreat': 3019, 'convolut': 3020, 'ninja': 3021, 'discoveri': 3022, 'brosnan': 3023, 'joey': 3024, 'revers': 3025, 'butcher': 3026, 'monk': 3027, 'partli': 3028, 'communist': 3029, 'cliff': 3030, 'eighti': 3031, 'miracl': 3032, 'importantli': 3033, 'wipe': 3034, 'mitchel': 3035, 'inconsist': 3036, 'sidekick': 3037, 'clown': 3038, 'bleak': 3039, 'selfish': 3040, 'fifteen': 3041, 'evok': 3042, 'pal': 3043, 'norman': 3044, 'gray': 3045, 'declar': 3046, 'sloppi': 3047, 'seller': 3048, 'farc': 3049, 'aforement': 3050, 'lifestyl': 3051, 'seed': 3052, 'debat': 3053, 'destin': 3054, 'cheek': 3055, 'australia': 3056, 'flawless': 3057, 'chew': 3058, '45': 3059, 'psychiatrist': 3060, 'enthusiast': 3061, 'superbl': 3062, 'websit': 3063, 'ho': 3064, 'stoog': 3065, 'piano': 3066, 'bash': 3067, 'pressur': 3068, 'regardless': 3069, 'wick': 3070, 'abc': 3071, 'kitchen': 3072, 'dire': 3073, 'slice': 3074, 'drivel': 3075, 'incompet': 3076, 'wrestl': 3077, 'splatter': 3078, 'anni': 3079, 'directori': 3080, 'akshay': 3081, 'dash': 3082, 'emili': 3083, 'soviet': 3084, 'judi': 3085, 'prize': 3086, 'curios': 3087, 'artifici': 3088, 'recov': 3089, 'jar': 3090, 'seduc': 3091, 'pleasantli': 3092, 'cia': 3093, 'helicopt': 3094, 'boil': 3095, 'mann': 3096, 'dave': 3097, 'chapter': 3098, 'blob': 3099, 'beaten': 3100, 'doo': 3101, 'cameron': 3102, 'increas': 3103, 'flower': 3104, 'cagney': 3105, 'ken': 3106, 'duo': 3107, 'distant': 3108, 'lou': 3109, 'glow': 3110, 'suppli': 3111, 'goldberg': 3112, 'craven': 3113, 'combat': 3114, 'laurel': 3115, 'splendid': 3116, 'web': 3117, 'hop': 3118, 'favour': 3119, 'perri': 3120, 'ellen': 3121, 'panic': 3122, 'ranger': 3123, 'francisco': 3124, 'drunken': 3125, 'glenn': 3126, 'turner': 3127, 'craig': 3128, 'eleg': 3129, 'psychot': 3130, 'gandhi': 3131, 'rid': 3132, 'graduat': 3133, 'slightest': 3134, 'modesti': 3135, 'falk': 3136, 'ruth': 3137, 'alexand': 3138, 'fx': 3139, 'shortli': 3140, 'greek': 3141, 'flip': 3142, 'gentl': 3143, 'wizard': 3144, '20th': 3145, 'philosophi': 3146, 'min': 3147, 'plausibl': 3148, 'hatr': 3149, 'felix': 3150, 'ocean': 3151, 'holi': 3152, 'tall': 3153, 'knight': 3154, 'jealou': 3155, 'preciou': 3156, 'manhattan': 3157, 'futurist': 3158, 'lend': 3159, 'legal': 3160, 'unpleas': 3161, 'fund': 3162, 'we': 3163, 'harm': 3164, 'dracula': 3165, 'childish': 3166, 'overdon': 3167, 'mock': 3168, 'explicit': 3169, 'forbidden': 3170, 'ami': 3171, 'reviv': 3172, 'digniti': 3173, 'scientif': 3174, 'nod': 3175, 'tank': 3176, 'giallo': 3177, 'thread': 3178, 'bless': 3179, 'nerv': 3180, 'awe': 3181, 'thick': 3182, 'torment': 3183, 'elderli': 3184, '99': 3185, 'mel': 3186, 'yesterday': 3187, 'pirat': 3188, 'eve': 3189, 'verhoeven': 3190, 'margaret': 3191, '2004': 3192, 'repeatedli': 3193, 'broad': 3194, 'awaken': 3195, 'unwatch': 3196, 'fever': 3197, 'absenc': 3198, 'launch': 3199, 'uniform': 3200, 'romero': 3201, 'publish': 3202, 'custom': 3203, 'acclaim': 3204, 'griffith': 3205, 'roman': 3206, 'ambit': 3207, 'timothi': 3208, 'ah': 3209, 'kay': 3210, 'royal': 3211, 'politician': 3212, 'eas': 3213, 'bin': 3214, 'rivet': 3215, 'automat': 3216, 'lean': 3217, 'stiller': 3218, 'warren': 3219, 'purpl': 3220, 'homicid': 3221, 'phrase': 3222, 'transport': 3223, 'pierc': 3224, 'sunshin': 3225, 'antic': 3226, 'bathroom': 3227, 'pulp': 3228, 'wallac': 3229, 'darker': 3230, 'crook': 3231, 'foul': 3232, 'stinker': 3233, 'termin': 3234, 'tomato': 3235, 'gabriel': 3236, 'juvenil': 3237, 'hollow': 3238, 'revolutionari': 3239, 'contrari': 3240, 'rambo': 3241, 'choreographi': 3242, 'sixti': 3243, 'packag': 3244, '2003': 3245, 'pray': 3246, 'karen': 3247, 'awak': 3248, 'q': 3249, 'horrid': 3250, 'prom': 3251, 'li': 3252, 'album': 3253, 'brazil': 3254, 'viciou': 3255, 'saint': 3256, 'marin': 3257, 'kenneth': 3258, 'donna': 3259, 'evolv': 3260, 'ought': 3261, 'coloni': 3262, 'eyr': 3263, 'beatti': 3264, 'overr': 3265, 'mummi': 3266, 'ireland': 3267, 'boast': 3268, 'defi': 3269, 'conserv': 3270, 'stole': 3271, 'blade': 3272, 'option': 3273, 'twelv': 3274, 'candid': 3275, 'nerd': 3276, 'dose': 3277, 'mildr': 3278, 'kapoor': 3279, 'ramon': 3280, 'collabor': 3281, 'flame': 3282, 'jazz': 3283, 'protest': 3284, 'confirm': 3285, 'funer': 3286, 'astonish': 3287, 'kirk': 3288, 'natali': 3289, 'fulci': 3290, 'detract': 3291, 'trio': 3292, 'global': 3293, 'altman': 3294, 'delici': 3295, 'blake': 3296, 'destini': 3297, 'yellow': 3298, 'enterpris': 3299, 'leap': 3300, 'whip': 3301, 'spit': 3302, 'audio': 3303, 'mystic': 3304, 'bottl': 3305, 'bull': 3306, 'racial': 3307, 'shade': 3308, 'nicholson': 3309, 'tommi': 3310, 'meaningless': 3311, 'enchant': 3312, 'staff': 3313, 'swedish': 3314, 'visibl': 3315, 'inherit': 3316, 'bedroom': 3317, 'popcorn': 3318, 'harder': 3319, 'adolesc': 3320, 'pseudo': 3321, 'threw': 3322, 'neo': 3323, 'reunit': 3324, 'altogeth': 3325, 'merci': 3326, 'vivid': 3327, 'todd': 3328, 'fonda': 3329, 'lawrenc': 3330, 'uneven': 3331, 'jew': 3332, 'voight': 3333, 'bust': 3334, 'respond': 3335, 'lemmon': 3336, 'reserv': 3337, 'ruthless': 3338, 'moodi': 3339, 'wire': 3340, 'await': 3341, 'atlanti': 3342, 'exhibit': 3343, 'decor': 3344, 'fanat': 3345, 'synopsi': 3346, 'suspici': 3347, 'befriend': 3348, 'roommat': 3349, 'crocodil': 3350, 'kennedi': 3351, 'madonna': 3352, 'edi': 3353, 'leonard': 3354, 'tip': 3355, 'bargain': 3356, 'incident': 3357, 'clumsi': 3358, 'rural': 3359, 'dimens': 3360, 'unsettl': 3361, 'garner': 3362, 'abysm': 3363, 'bold': 3364, 'carl': 3365, 'voyag': 3366, '2007': 3367, 'bradi': 3368, 'chao': 3369, 'palma': 3370, 'audit': 3371, 'clint': 3372, 'centr': 3373, 'ventur': 3374, 'holli': 3375, 'hart': 3376, 'immigr': 3377, 'lit': 3378, 'echo': 3379, 'versu': 3380, 'elimin': 3381, 'wealth': 3382, 'mall': 3383, 'trail': 3384, 'acknowledg': 3385, 'poetic': 3386, 'daddi': 3387, 'cd': 3388, 'tiger': 3389, 'ant': 3390, 'characterist': 3391, 'neglect': 3392, 'nearbi': 3393, 'cari': 3394, 'imperson': 3395, 'cuba': 3396, 'troop': 3397, 'timon': 3398, '2nd': 3399, 'humili': 3400, 'mickey': 3401, 'marshal': 3402, 'solo': 3403, 'jeffrey': 3404, 'saga': 3405, 'pun': 3406, 'paus': 3407, 'celluloid': 3408, 'domest': 3409, 'mistaken': 3410, 'collaps': 3411, 'infect': 3412, 'repuls': 3413, 'prejudic': 3414, 'homer': 3415, 'cake': 3416, 'chest': 3417, 'coffe': 3418, 'coat': 3419, 'undoubtedli': 3420, '1996': 3421, 'pant': 3422, 'sore': 3423, 'hbo': 3424, 'inan': 3425, 'milk': 3426, 'assembl': 3427, 'inappropri': 3428, 'gear': 3429, 'harvey': 3430, 'equip': 3431, 'ginger': 3432, 'apolog': 3433, 'tribe': 3434, 'interrupt': 3435, 'promin': 3436, 'leon': 3437, 'olivi': 3438, 'pot': 3439, 'pen': 3440, 'maggi': 3441, 'florida': 3442, 'colleagu': 3443, 'aveng': 3444, 'furthermor': 3445, 'exot': 3446, 'vulgar': 3447, 'trace': 3448, 'jenni': 3449, 'brooklyn': 3450, 'devast': 3451, 'highest': 3452, 'humbl': 3453, 'embrac': 3454, 'primari': 3455, 'retain': 3456, 'solut': 3457, 'colonel': 3458, 'consum': 3459, 'instant': 3460, 'institut': 3461, 'airplan': 3462, 'polanski': 3463, 'linda': 3464, '3rd': 3465, 'strain': 3466, 'smaller': 3467, 'seduct': 3468, 'disabl': 3469, 'illog': 3470, 'dutch': 3471, 'outer': 3472, 'gender': 3473, 'cope': 3474, '1999': 3475, 'ya': 3476, 'dian': 3477, 'descend': 3478, 'rick': 3479, 'wive': 3480, 'bowl': 3481, 'principl': 3482, 'poke': 3483, 'sale': 3484, 'godzilla': 3485, 'dud': 3486, 'gloriou': 3487, 'dive': 3488, 'devoid': 3489, 'bubbl': 3490, 'secondli': 3491, 'inferior': 3492, 'mixtur': 3493, 'rabbit': 3494, 'cue': 3495, 'glamor': 3496, 'vast': 3497, 'blatant': 3498, 'lol': 3499, 'primarili': 3500, 'predecessor': 3501, 'hal': 3502, 'scope': 3503, 'yard': 3504, 'beneath': 3505, 'gundam': 3506, 'museum': 3507, 'pearl': 3508, 'senseless': 3509, 'myer': 3510, 'invas': 3511, 'alfr': 3512, 'trademark': 3513, 'casual': 3514, 'hideou': 3515, 'et': 3516, 'talki': 3517, 'disjoint': 3518, 'countrysid': 3519, 'domino': 3520, 'april': 3521, 'shirley': 3522, 'simplist': 3523, 'alert': 3524, 'z': 3525, 'aggress': 3526, 'grinch': 3527, 'shelf': 3528, 'streep': 3529, 'garbo': 3530, 'arab': 3531, 'breed': 3532, 'uwe': 3533, 'hopeless': 3534, 'hardcor': 3535, 'mail': 3536, 'slide': 3537, 'defens': 3538, 'obtain': 3539, 'stack': 3540, 'maci': 3541, 'applaud': 3542, 'robinson': 3543, 'illeg': 3544, 'vanish': 3545, 'disgrac': 3546, 'mayor': 3547, 'stellar': 3548, 'robberi': 3549, 'sh': 3550, 'boom': 3551, 'loyal': 3552, 'unhappi': 3553, 'experiment': 3554, 'acid': 3555, 'stir': 3556, 'rendit': 3557, 'oz': 3558, 'khan': 3559, 'declin': 3560, 'amanda': 3561, 'soccer': 3562, 'wont': 3563, 'berlin': 3564, 'dismiss': 3565, 'span': 3566, 'blew': 3567, 'recruit': 3568, 'diana': 3569, 'emphasi': 3570, 'fri': 3571, 'counter': 3572, 'incomprehens': 3573, 'spider': 3574, 'dicken': 3575, 'psychic': 3576, 'tempt': 3577, 'topless': 3578, 'rifl': 3579, 'scroog': 3580, 'hartley': 3581, 'grandfath': 3582, 'tenant': 3583, 'craze': 3584, 'bitch': 3585, 'riot': 3586, 'shed': 3587, 'porno': 3588, 'ethnic': 3589, 'shaw': 3590, 'revolt': 3591, 'woo': 3592, 'niro': 3593, 'sympath': 3594, 'trashi': 3595, 'lumet': 3596, 'faster': 3597, 'resurrect': 3598, 'sibl': 3599, 'justin': 3600, 'ration': 3601, 'parad': 3602, 'goer': 3603, 'intim': 3604, 'wet': 3605, 'biographi': 3606, 'jonathan': 3607, 'lena': 3608, 'hesit': 3609, 'eager': 3610, 'patriot': 3611, 'steam': 3612, 'unreal': 3613, 'nephew': 3614, 'ensur': 3615, 'honesti': 3616, 'choru': 3617, 'gap': 3618, 'rider': 3619, 'farmer': 3620, 'weakest': 3621, '00': 3622, 'slick': 3623, 'enlighten': 3624, 'feminist': 3625, 'mario': 3626, 'ballet': 3627, 'partial': 3628, 'region': 3629, 'commend': 3630, 'andr': 3631, 'wheel': 3632, 'hopper': 3633, 'worm': 3634, 'dealer': 3635, 'wendi': 3636, 'immort': 3637, 'morri': 3638, 'psychopath': 3639, 'franco': 3640, 'composit': 3641, 'hung': 3642, 'vice': 3643, 'sappi': 3644, 'repress': 3645, 'confin': 3646, 'sandra': 3647, 'mutant': 3648, 'victori': 3649, 'similarli': 3650, 'owen': 3651, 'safeti': 3652, 'properti': 3653, 'snap': 3654, 'util': 3655, 'wore': 3656, 'blunt': 3657, 'nostalg': 3658, 'macarthur': 3659, 'charlott': 3660, 'kingdom': 3661, 'prequel': 3662, 'skull': 3663, 'leo': 3664, 'del': 3665, 'whoopi': 3666, 'montana': 3667, 'recycl': 3668, 'bow': 3669, 'nervou': 3670, 'pattern': 3671, 'snl': 3672, 'hyde': 3673, 'bergman': 3674, 'strand': 3675, 'deed': 3676, 'tad': 3677, 'speci': 3678, 'repli': 3679, 'rocki': 3680, 'despair': 3681, 'drum': 3682, 'farrel': 3683, '1972': 3684, 'compass': 3685, 'campbel': 3686, 'miseri': 3687, 'cg': 3688, 'thru': 3689, 'exit': 3690, 'bumbl': 3691, 'valuabl': 3692, 'heartbreak': 3693, 'emperor': 3694, 'drain': 3695, 'acquir': 3696, 'rope': 3697, 'bonu': 3698, 'tail': 3699, 'dust': 3700, 'kyle': 3701, 'compens': 3702, 'latin': 3703, 'dalton': 3704, 'rambl': 3705, 'percept': 3706, 'pour': 3707, 'carradin': 3708, 'wacki': 3709, 'tonight': 3710, 'oppress': 3711, 'orson': 3712, 'airport': 3713, 'chess': 3714, 'rotten': 3715, 'rapist': 3716, 'da': 3717, 'gal': 3718, 'roth': 3719, 'gimmick': 3720, 'radic': 3721, 'olli': 3722, 'slug': 3723, 'contempl': 3724, '35': 3725, 'romp': 3726, 'bleed': 3727, 'downhil': 3728, 'mistress': 3729, 'martian': 3730, 'arguabl': 3731, 'unpredict': 3732, 'taught': 3733, 'programm': 3734, 'tooth': 3735, 'dazzl': 3736, 'banal': 3737, 'preach': 3738, 'attorney': 3739, 'tackl': 3740, 'belt': 3741, '1983': 3742, 'pervers': 3743, 'slash': 3744, 'pursuit': 3745, 'champion': 3746, 'stilt': 3747, 'melodi': 3748, 'arc': 3749, 'shelley': 3750, 'mislead': 3751, 'paltrow': 3752, 'edgar': 3753, 'heal': 3754, 'pervert': 3755, 'orang': 3756, 'franki': 3757, 'virginia': 3758, 'graham': 3759, 'sensat': 3760, 'conneri': 3761, 'uplift': 3762, 'raymond': 3763, 'chicken': 3764, 'tiresom': 3765, 'maid': 3766, 'plight': 3767, 'mesmer': 3768, 'cleverli': 3769, 'vengeanc': 3770, 'duval': 3771, 'rubi': 3772, 'closest': 3773, 'vocal': 3774, 'bela': 3775, 'passeng': 3776, 'employe': 3777, 'poem': 3778, 'gambl': 3779, 'marti': 3780, 'dixon': 3781, 'numb': 3782, 'paranoia': 3783, 'secretli': 3784, 'volum': 3785, 'lundgren': 3786, 'bay': 3787, 'abraham': 3788, 'extens': 3789, 'climact': 3790, 'convincingli': 3791, 'outing': 3792, 'engross': 3793, 'whine': 3794, 'monologu': 3795, 'giggl': 3796, 'calm': 3797, 'yawn': 3798, 'quarter': 3799, 'profan': 3800, '1968': 3801, 'gerard': 3802, 'mute': 3803, 'suffic': 3804, 'habit': 3805, 'iran': 3806, 'swallow': 3807, 'inject': 3808, 'sirk': 3809, 'crystal': 3810, 'tube': 3811, 'clone': 3812, 'scottish': 3813, 'amitabh': 3814, 'pokemon': 3815, 'bend': 3816, 'richardson': 3817, 'im': 3818, 'franci': 3819, 'fed': 3820, 'meander': 3821, 'backward': 3822, 'nichola': 3823, 'profess': 3824, 'expand': 3825, 'taxi': 3826, 'surpass': 3827, 'septemb': 3828, 'ethan': 3829, 'chicago': 3830, 'earl': 3831, 'frankenstein': 3832, 'junior': 3833, 'poetri': 3834, 'spock': 3835, 'lowest': 3836, 'trend': 3837, 'plod': 3838, 'underst': 3839, 'dispos': 3840, 'austen': 3841, 'abort': 3842, 'grotesqu': 3843, 'linger': 3844, 'mundan': 3845, 'rant': 3846, 'econom': 3847, 'waitress': 3848, 'cannon': 3849, 'der': 3850, 'myth': 3851, 'instrument': 3852, 'simplic': 3853, 'sue': 3854, 'nostalgia': 3855, 'greedi': 3856, 'catchi': 3857, 'muddl': 3858, 'descent': 3859, 'household': 3860, 'lure': 3861, 'tourist': 3862, 'eugen': 3863, 'literatur': 3864, 'compliment': 3865, 'dysfunct': 3866, 'stallon': 3867, 'hum': 3868, 'spoke': 3869, 'rubber': 3870, 'stale': 3871, 'mankind': 3872, 'cent': 3873, 'damon': 3874, 'alongsid': 3875, 'dement': 3876, 'eaten': 3877, 'firstli': 3878, 'crucial': 3879, 'june': 3880, 'sissi': 3881, 'deaf': 3882, 'map': 3883, 'recognis': 3884, 'irrelev': 3885, 'coast': 3886, 'occupi': 3887, 'carel': 3888, 'phoni': 3889, 'molli': 3890, 'dictat': 3891, 'insur': 3892, 'mortal': 3893, 'equival': 3894, 'randi': 3895, 'hello': 3896, 'omen': 3897, 'bacal': 3898, 'flee': 3899, 'furi': 3900, 'louis': 3901, 'phantom': 3902, 'recognit': 3903, 'lang': 3904, 'duck': 3905, 'rooney': 3906, 'lengthi': 3907, 'freez': 3908, 'heel': 3909, 'newli': 3910, '1973': 3911, 'grayson': 3912, 'ashley': 3913, 'bump': 3914, 'rude': 3915, 'likewis': 3916, 'onlin': 3917, 'loyalti': 3918, 'twilight': 3919, 'cyborg': 3920, 'dreari': 3921, 'damm': 3922, 'distinguish': 3923, 'bike': 3924, 'labor': 3925, 'blackmail': 3926, 'biko': 3927, 'buffalo': 3928, 'drake': 3929, 'reign': 3930, 'wisdom': 3931, 'antwon': 3932, 'daisi': 3933, 'baddi': 3934, 'nineti': 3935, 'provoc': 3936, 'worn': 3937, 'basketbal': 3938, 'analysi': 3939, 'butler': 3940, 'vein': 3941, 'inher': 3942, 'sailor': 3943, 'boxer': 3944, 'attribut': 3945, 'interior': 3946, 'incorpor': 3947, 'emphas': 3948, 'barrymor': 3949, 'exposur': 3950, 'tunnel': 3951, 'ridden': 3952, 'proce': 3953, 'unorigin': 3954, 'startl': 3955, 'prey': 3956, 'keith': 3957, 'chronicl': 3958, 'pink': 3959, 'approv': 3960, 'robbin': 3961, 'stalker': 3962, 'mormon': 3963, 'er': 3964, 'meyer': 3965, 'degrad': 3966, 'condemn': 3967, 'bunni': 3968, 'improvis': 3969, 'drift': 3970, 'carla': 3971, 'predat': 3972, 'underli': 3973, 'undeni': 3974, 'mighti': 3975, 'substitut': 3976, 'meg': 3977, 'julian': 3978, 'fleet': 3979, 'othello': 3980, 'elm': 3981, 'walsh': 3982, 'barrel': 3983, 'nicol': 3984, 'unrel': 3985, 'indiffer': 3986, 'simmon': 3987, 'hypnot': 3988, 'belushi': 3989, 'millionair': 3990, 'edgi': 3991, 'exquisit': 3992, 'agenda': 3993, 'dolph': 3994, 'nyc': 3995, 'palac': 3996, 'reid': 3997, 'vital': 3998, 'disord': 3999, 'priceless': 4000, 'alarm': 4001, 'enthusiasm': 4002, 'mtv': 4003, 'novak': 4004, 'shove': 4005, 'hay': 4006, 'alison': 4007, 'lampoon': 4008, '3d': 4009, 'marion': 4010, 'errol': 4011, 'warmth': 4012, 'roof': 4013, 'greed': 4014, 'unawar': 4015, 'firm': 4016, 'watson': 4017, 'rukh': 4018, 'championship': 4019, 'orlean': 4020, 'session': 4021, 'glanc': 4022, 'nun': 4023, 'thompson': 4024, 'spain': 4025, 'preserv': 4026, 'simultan': 4027, 'profit': 4028, 'coup': 4029, 'showdown': 4030, 'petti': 4031, 'what': 4032, '1933': 4033, 'beatl': 4034, 'unleash': 4035, 'pamela': 4036, 'valentin': 4037, 'randomli': 4038, 'israel': 4039, 'eastern': 4040, 'minimum': 4041, 'drip': 4042, 'distort': 4043, 'ponder': 4044, 'crown': 4045, 'angela': 4046, 'peck': 4047, 'testament': 4048, '13th': 4049, 'iraq': 4050, 'campaign': 4051, 'sergeant': 4052, 'gestur': 4053, 'cassidi': 4054, 'peril': 4055, 'zizek': 4056, 'kurosawa': 4057, 'reson': 4058, 'crawl': 4059, 'regist': 4060, 'buster': 4061, 'valley': 4062, 'wig': 4063, 'empathi': 4064, 'jan': 4065, 'calib': 4066, 'climat': 4067, 'unimagin': 4068, 'miyazaki': 4069, 'sabrina': 4070, 'restrain': 4071, 'bro': 4072, '1984': 4073, 'brenda': 4074, 'perpetu': 4075, 'crow': 4076, 'mon': 4077, 'stake': 4078, 'cooki': 4079, 'contradict': 4080, 'cream': 4081, 'exposit': 4082, 'han': 4083, 'gentleman': 4084, 'rout': 4085, 'din': 4086, 'stroke': 4087, 'travesti': 4088, 'represent': 4089, 'scotland': 4090, 'quinn': 4091, 'realm': 4092, 'shootout': 4093, 'fido': 4094, 'sucker': 4095, 'soderbergh': 4096, 'shaki': 4097, 'greg': 4098, 'unseen': 4099, 'abomin': 4100, 'josh': 4101, 'tacki': 4102, 'businessman': 4103, 'absent': 4104, 'derang': 4105, 'fuller': 4106, 'baldwin': 4107, 'pole': 4108, 'wax': 4109, '1987': 4110, 'shoddi': 4111, 'ross': 4112, '1997': 4113, 'perceiv': 4114, 'distress': 4115, 'traumat': 4116, 'passabl': 4117, 'pretens': 4118, 'dana': 4119, 'delic': 4120, 'painter': 4121, 'darren': 4122, 'warrant': 4123, 'femm': 4124, 'unsatisfi': 4125, 'censor': 4126, 'monoton': 4127, 'crawford': 4128, 'geek': 4129, 'demis': 4130, 'mclaglen': 4131, 'spacey': 4132, 'meryl': 4133, 'sammi': 4134, 'stargat': 4135, 'compromis': 4136, 'cloud': 4137, 'ustinov': 4138, 'primit': 4139, 'judgment': 4140, 'fog': 4141, 'clash': 4142, 'uncov': 4143, 'dee': 4144, '1993': 4145, 'reluct': 4146, 'austin': 4147, 'tarantino': 4148, 'deceas': 4149, 'valid': 4150, 'seal': 4151, 'furiou': 4152, 'accuraci': 4153, 'expedit': 4154, 'tech': 4155, 'wholli': 4156, 'correctli': 4157, 'jewel': 4158, 'unravel': 4159, 'norm': 4160, 'fenc': 4161, 'deniro': 4162, 'polici': 4163, 'verbal': 4164, 'kumar': 4165, 'nathan': 4166, 'anchor': 4167, 'exclus': 4168, 'sid': 4169, 'click': 4170, 'antonioni': 4171, 'clerk': 4172, 'fart': 4173, 'unfair': 4174, 'sunni': 4175, '1971': 4176, 'debt': 4177, 'tax': 4178, 'bake': 4179, 'darn': 4180, 'hallucin': 4181, 'seldom': 4182, 'sustain': 4183, '1995': 4184, 'fought': 4185, 'sheet': 4186, 'enforc': 4187, 'nicola': 4188, 'slam': 4189, 'ritual': 4190, 'vanc': 4191, 'dreck': 4192, 'wretch': 4193, 'fabric': 4194, 'wang': 4195, 'mode': 4196, 'trait': 4197, 'behold': 4198, 'alec': 4199, 'joel': 4200, 'malon': 4201, 'patienc': 4202, '2008': 4203, 'murray': 4204, '3000': 4205, 'pocket': 4206, 'temper': 4207, 'roller': 4208, 'crippl': 4209, 'logan': 4210, 'sand': 4211, 'shanghai': 4212, 'conduct': 4213, 'squad': 4214, 'bias': 4215, 'conscious': 4216, 'penni': 4217, 'scriptwrit': 4218, 'canyon': 4219, 'schedul': 4220, 'pete': 4221, 'despis': 4222, 'exhaust': 4223, 'technicolor': 4224, 'helpless': 4225, 'stuart': 4226, 'shell': 4227, 'stark': 4228, 'critiqu': 4229, 'tactic': 4230, 'guitar': 4231, 'fundament': 4232, 'isabel': 4233, 'robber': 4234, 'legaci': 4235, 'sweep': 4236, 'outlin': 4237, 'rita': 4238, 'preposter': 4239, 'runner': 4240, 'phil': 4241, 'clau': 4242, 'divid': 4243, 'preston': 4244, 'grief': 4245, 'bridget': 4246, 'soup': 4247, 'downey': 4248, 'liberti': 4249, 'sugar': 4250, 'lacklust': 4251, 'consciou': 4252, 'propos': 4253, 'vomit': 4254, 'marc': 4255, 'passag': 4256, 'restrict': 4257, 'palanc': 4258, 'gregori': 4259, 'russia': 4260, 'inabl': 4261, 'alicia': 4262, 'jodi': 4263, 'jacket': 4264, 'drove': 4265, 'sentinel': 4266, 'alley': 4267, 'invad': 4268, 'delv': 4269, 'cigarett': 4270, 'bloom': 4271, 'unexpectedli': 4272, 'flair': 4273, 'agenc': 4274, 'sniper': 4275, 'rehash': 4276, 'culmin': 4277, 'connor': 4278, 'implic': 4279, 'newman': 4280, 'rear': 4281, 'kansa': 4282, 'boyl': 4283, 'sharon': 4284, 'rod': 4285, 'foxx': 4286, 'pale': 4287, 'tendenc': 4288, 'wrench': 4289, 'bacon': 4290, 'chainsaw': 4291, 'yeti': 4292, 'feat': 4293, 'asylum': 4294, 'improb': 4295, 'behaviour': 4296, 'tripe': 4297, 'cap': 4298, 'lush': 4299, 'awhil': 4300, 'aesthet': 4301, 'rehears': 4302, 'kolchak': 4303, 'mccoy': 4304, 'delet': 4305, 'ladder': 4306, '1936': 4307, 'horn': 4308, 'karl': 4309, '22': 4310, 'arrow': 4311, 'vet': 4312, 'rampag': 4313, 'minu': 4314, 'lurk': 4315, 'wagner': 4316, '1988': 4317, 'thunderbird': 4318, 'basing': 4319, 'weav': 4320, 'amazon': 4321, 'underneath': 4322, 'fright': 4323, 'conscienc': 4324, 'sung': 4325, '1978': 4326, 'rumor': 4327, 'financ': 4328, 'shortcom': 4329, 'filler': 4330, 'tomorrow': 4331, 'rhythm': 4332, 'wildli': 4333, 'paradis': 4334, 'tasteless': 4335, 'el': 4336, 'prank': 4337, 'stream': 4338, 'spice': 4339, 'visitor': 4340, 'scoop': 4341, 'suffici': 4342, 'suspicion': 4343, 'globe': 4344, 'hackney': 4345, 'hungri': 4346, 'coaster': 4347, 'newcom': 4348, 'elit': 4349, '19th': 4350, 'paramount': 4351, 'hulk': 4352, 'loneli': 4353, 'aristocrat': 4354, '1920': 4355, 'posey': 4356, 'penn': 4357, 'atroc': 4358, 'standout': 4359, 'paxton': 4360, 'rub': 4361, 'lectur': 4362, 'cancer': 4363, 'naughti': 4364, 'dirt': 4365, 'chavez': 4366, 'heist': 4367, 'en': 4368, '75': 4369, 'minist': 4370, '1989': 4371, 'bread': 4372, 'smell': 4373, 'counterpart': 4374, 'choppi': 4375, 'abrupt': 4376, 'leigh': 4377, 'straightforward': 4378, 'springer': 4379, 'beverli': 4380, 'worship': 4381, 'impos': 4382, 'couch': 4383, 'ingeni': 4384, 'grudg': 4385, 'chamberlain': 4386, 'literari': 4387, 'secondari': 4388, 'iv': 4389, 'teas': 4390, 'hopkin': 4391, 'ram': 4392, 'quietli': 4393, '1939': 4394, 'entranc': 4395, 'curli': 4396, 'immers': 4397, 'brit': 4398, 'recogniz': 4399, 'tierney': 4400, 'inmat': 4401, 'wwe': 4402, 'variat': 4403, 'lindsay': 4404, 'quaid': 4405, '1986': 4406, 'enthral': 4407, 'ratso': 4408, 'moreov': 4409, 'policeman': 4410, 'morbid': 4411, 'net': 4412, 'esther': 4413, 'ace': 4414, 'transcend': 4415, 'nemesi': 4416, 'cattl': 4417, 'watcher': 4418, 'duel': 4419, 'injuri': 4420, 'entitl': 4421, 'sassi': 4422, 'skeptic': 4423, 'nolan': 4424, 'attenborough': 4425, 'heartfelt': 4426, 'yearn': 4427, 'misguid': 4428, 'laurenc': 4429, 'clan': 4430, 'bernard': 4431, 'sublim': 4432, 'convert': 4433, 'missil': 4434, 'geni': 4435, 'out': 4436, 'brood': 4437, 'diari': 4438, '1979': 4439, 'bean': 4440, 'cruelti': 4441, 'tyler': 4442, 'setup': 4443, 'hopelessli': 4444, 'moder': 4445, 'characteris': 4446, 'mytholog': 4447, 'spiral': 4448, 'rosemari': 4449, 'buzz': 4450, 'egg': 4451, 'hk': 4452, 'facil': 4453, 'steadi': 4454, 'reliabl': 4455, 'vader': 4456, 'puppi': 4457, 'youngest': 4458, 'obstacl': 4459, 'kidman': 4460, 'unexplain': 4461, 'artsi': 4462, 'enabl': 4463, 'poe': 4464, 'dont': 4465, 'graini': 4466, 'grin': 4467, 'bye': 4468, 'uncut': 4469, 'carlito': 4470, 'kitti': 4471, 'clueless': 4472, 'heap': 4473, 'kline': 4474, 'hammi': 4475, 'bewar': 4476, 'gina': 4477, 'spontan': 4478, 'disastr': 4479, 'bronson': 4480, 'despic': 4481, 'decept': 4482, 'patricia': 4483, 'underworld': 4484, 'niec': 4485, 'sweat': 4486, 'oblig': 4487, 'narrow': 4488, 'weather': 4489, 'baffl': 4490, '1969': 4491, 'gillian': 4492, 'christin': 4493, 'martha': 4494, 'effici': 4495, 'acquaint': 4496, 'hain': 4497, 'brendan': 4498, 'fuel': 4499, 'exterior': 4500, 'athlet': 4501, 'preming': 4502, 'bounc': 4503, 'loath': 4504, '19': 4505, 'suprem': 4506, 'trigger': 4507, 'shatter': 4508, 'goof': 4509, 'taboo': 4510, 'insipid': 4511, 'renaiss': 4512, 'harmless': 4513, 'enlist': 4514, 'scar': 4515, 'dilemma': 4516, 'mayhem': 4517, 'tick': 4518, 'sooner': 4519, 'viewpoint': 4520, 'candl': 4521, 'virtu': 4522, 'mermaid': 4523, 'angst': 4524, 'preachi': 4525, 'fontain': 4526, 'hepburn': 4527, 'astound': 4528, 'biker': 4529, 'analyz': 4530, 'uh': 4531, 'loi': 4532, 'sleepwalk': 4533, 'lester': 4534, 'injur': 4535, 'housewif': 4536, 'headach': 4537, '73': 4538, 'outlaw': 4539, 'rome': 4540, 'circu': 4541, 'dandi': 4542, 'contempt': 4543, 'salt': 4544, 'idol': 4545, 'macho': 4546, 'phenomenon': 4547, 'overlong': 4548, 'bent': 4549, 'amor': 4550, 'fluff': 4551, 'gere': 4552, 'whore': 4553, 'stair': 4554, 'scorses': 4555, 'claustrophob': 4556, 'zoom': 4557, 'camcord': 4558, 'redund': 4559, 'filth': 4560, 'foolish': 4561, 'hostag': 4562, 'cassavet': 4563, 'boston': 4564, 'spade': 4565, 'sox': 4566, 'hooker': 4567, 'dismal': 4568, 'stimul': 4569, 'glorifi': 4570, 'guin': 4571, 'steer': 4572, 'hokey': 4573, 'ebert': 4574, 'slimi': 4575, 'surgeri': 4576, 'immatur': 4577, 'ariel': 4578, 'intric': 4579, 'oldest': 4580, 'dish': 4581, 'tripl': 4582, 'corbett': 4583, 'cush': 4584, '1981': 4585, 'flirt': 4586, 'margin': 4587, 'antagonist': 4588, 'rhyme': 4589, 'gabl': 4590, 'cohen': 4591, 'flashi': 4592, 'mutual': 4593, '1976': 4594, 'shred': 4595, 'gasp': 4596, 'naschi': 4597, 'joker': 4598, 'widescreen': 4599, 'obligatori': 4600, 'preced': 4601, 'muscl': 4602, 'keen': 4603, 'assert': 4604, 'radiat': 4605, 'nolt': 4606, 'strongest': 4607, 'cow': 4608, 'dwarf': 4609, 'messi': 4610, 'flag': 4611, 'trivia': 4612, 'schlock': 4613, 'shield': 4614, 'faint': 4615, 'harold': 4616, 'perman': 4617, 'spinal': 4618, 'beard': 4619, 'down': 4620, 'fascist': 4621, 'astronaut': 4622, 'remad': 4623, 'transplant': 4624, 'proport': 4625, 'frantic': 4626, 'conquer': 4627, 'corman': 4628, 'mount': 4629, 'zane': 4630, 'spree': 4631, 'alvin': 4632, '95': 4633, 'barn': 4634, 'triangl': 4635, 'interestingli': 4636, 'repris': 4637, 'scandal': 4638, 'someday': 4639, 'mobil': 4640, 'vaniti': 4641, 'neurot': 4642, '28': 4643, 'hara': 4644, 'danish': 4645, 'strive': 4646, 'boob': 4647, 'bitten': 4648, 'carey': 4649, 'persuad': 4650, 'aborigin': 4651, 'departur': 4652, 'brush': 4653, 'flock': 4654, 'off': 4655, 'bachelor': 4656, '1945': 4657, 'claud': 4658, 'divin': 4659, 'fishburn': 4660, 'discern': 4661, 'sensual': 4662, 'ritchi': 4663, 'inflict': 4664, 'resum': 4665, 'wield': 4666, 'instruct': 4667, 'deer': 4668, 'info': 4669, 'archiv': 4670, 'mol': 4671, 'www': 4672, 'raj': 4673, 'melissa': 4674, 'jade': 4675, 'dim': 4676, 'dylan': 4677, 'cliffhang': 4678, 'anton': 4679, 'casino': 4680, 'hapless': 4681, 'miracul': 4682, 'rot': 4683, 'cycl': 4684, 'heartwarm': 4685, 'loretta': 4686, 'axe': 4687, 'mobster': 4688, 'senior': 4689, 'dame': 4690, 'hilar': 4691, 'cb': 4692, 'luka': 4693, 'ish': 4694, 'fragil': 4695, 'artwork': 4696, 'vibrant': 4697, 'pacif': 4698, 'cher': 4699, 'clad': 4700, 'recit': 4701, 'bate': 4702, 'prophet': 4703, 'parson': 4704, 'colin': 4705, 'pixar': 4706, 'banter': 4707, 'hug': 4708, 'proclaim': 4709, 'biblic': 4710, 'carlo': 4711, 'neill': 4712, 'undermin': 4713, 'kathryn': 4714, 'submit': 4715, 'helm': 4716, 'earnest': 4717, 'wendigo': 4718, 'pickford': 4719, 'traffic': 4720, 'europa': 4721, 'frontier': 4722, 'harrison': 4723, 'timberlak': 4724, 'http': 4725, 'breakfast': 4726, 'antholog': 4727, 'electron': 4728, 'redneck': 4729, 'lui': 4730, 'flavor': 4731, 'token': 4732, 'feast': 4733, 'akin': 4734, 'choke': 4735, 'vanessa': 4736, 'jordan': 4737, 'shepherd': 4738, 'misfortun': 4739, 'alexandr': 4740, 'razor': 4741, 'estrang': 4742, 'rooki': 4743, 'milo': 4744, 'seedi': 4745, 'lucil': 4746, 'pc': 4747, 'uma': 4748, 'venom': 4749, 'legitim': 4750, 'articl': 4751, 'northern': 4752, 'toronto': 4753, 'illus': 4754, 'eli': 4755, 'blatantli': 4756, 'nope': 4757, 'static': 4758, 'aris': 4759, 'orphan': 4760, 'mathieu': 4761, 'foil': 4762, 'mason': 4763, 'jo': 4764, 'vile': 4765, 'marlon': 4766, 'bondag': 4767, 'wardrob': 4768, 'cerebr': 4769, 'sicken': 4770, 'bikini': 4771, 'winchest': 4772, 'trier': 4773, 'holocaust': 4774, 'isra': 4775, 'outdat': 4776, 'knightley': 4777, 'feminin': 4778, 'peer': 4779, 'gilbert': 4780, 'abund': 4781, 'swept': 4782, 'psych': 4783, 'retriev': 4784, 'ceremoni': 4785, 'frog': 4786, 'glare': 4787, 'oppon': 4788, 'affleck': 4789, 'nightclub': 4790, 'howl': 4791, 'cartoonish': 4792, 'charlton': 4793, 'wrestler': 4794, 'leather': 4795, 'tack': 4796, 'clinic': 4797, 'fifth': 4798, 'magician': 4799, 'turd': 4800, 'boyer': 4801, 'disregard': 4802, 'ideolog': 4803, 'deem': 4804, 'linear': 4805, 'gunga': 4806, 'styliz': 4807, 'audrey': 4808, 'highway': 4809, 'huston': 4810, 'comprehend': 4811, 'dudley': 4812, 'smack': 4813, 'shorter': 4814, '1991': 4815, '4th': 4816, 'tara': 4817, 'uniformli': 4818, 'toe': 4819, 'salman': 4820, 'cemeteri': 4821, 'cuban': 4822, 'senat': 4823, 'corn': 4824, 'plate': 4825, 'btw': 4826, 'lighter': 4827, 'bastard': 4828, 'greet': 4829, 'monument': 4830, 'energet': 4831, '1994': 4832, 'boo': 4833, 'client': 4834, 'mitch': 4835, 'summar': 4836, 'einstein': 4837, 'chip': 4838, 'collector': 4839, 'sleaz': 4840, 'lavish': 4841, 'compris': 4842, 'durat': 4843, 'evolut': 4844, 'bogu': 4845, 'moe': 4846, 'lifeless': 4847, 'spine': 4848, 'phenomen': 4849, 'deliver': 4850, 'snatch': 4851, 'spawn': 4852, 'potter': 4853, 'conrad': 4854, 'whack': 4855, 'braveheart': 4856, 'goldsworthi': 4857, 'breakdown': 4858, 'newer': 4859, 'bulk': 4860, 'alleg': 4861, 'inaccuraci': 4862, '1974': 4863, 'jule': 4864, 'trauma': 4865, 'ie': 4866, 'embark': 4867, 'ol': 4868, 'kazan': 4869, 'fluid': 4870, 'jam': 4871, 'mcqueen': 4872, 'healthi': 4873, 'spectacl': 4874, 'gilliam': 4875, 'replay': 4876, '1977': 4877, 'clara': 4878, 'randolph': 4879, 'nina': 4880, 'liu': 4881, 'sorrow': 4882, 'pronounc': 4883, 'firmli': 4884, 'constitut': 4885, 'judd': 4886, 'luxuri': 4887, 'jedi': 4888, 'undead': 4889, 'undertak': 4890, 'capot': 4891, 'wtf': 4892, 'neatli': 4893, 'creek': 4894, 'jare': 4895, 'appl': 4896, 'cecil': 4897, 'eleven': 4898, 'historian': 4899, 'lex': 4900, 'signal': 4901, 'outright': 4902, 'armstrong': 4903, 'occup': 4904, 'bori': 4905, 'belli': 4906, 'kent': 4907, 'evelyn': 4908, 'tokyo': 4909, 'curtain': 4910, 'vain': 4911, 'decapit': 4912, 'porter': 4913, 'inclus': 4914, 'comb': 4915, 'comprehens': 4916, 'unattract': 4917, '1985': 4918, 'congratul': 4919, 'groan': 4920, 'palm': 4921, 'aussi': 4922, 'vignett': 4923, 'cape': 4924, 'poker': 4925, 'relentless': 4926, 'galaxi': 4927, 'sidewalk': 4928, 'spray': 4929, 'knee': 4930, 'kiddi': 4931, 'miniseri': 4932, 'unsuspect': 4933, 'genet': 4934, 'basket': 4935, 'roar': 4936, 'goldblum': 4937, 'blur': 4938, 'propheci': 4939, 'walt': 4940, 'sacrif': 4941, 'truman': 4942, 'mum': 4943, 'antonio': 4944, 'inaccur': 4945, 'lauren': 4946, 'id': 4947, 'bsg': 4948, 'paula': 4949, 'meal': 4950, 'pepper': 4951, 'fruit': 4952, 'forgiven': 4953, 'lanc': 4954, 'abound': 4955, 'bait': 4956, 'conan': 4957, 'pioneer': 4958, 'subtli': 4959, 'miami': 4960, 'ash': 4961, 'rosario': 4962, 'carmen': 4963, 'ingrid': 4964, 'dubiou': 4965, 'omin': 4966, 'scariest': 4967, 'handicap': 4968, 'incorrect': 4969, 'vastli': 4970, 'monti': 4971, 'asset': 4972, 'substanti': 4973, 'macabr': 4974, '21st': 4975, 'sparkl': 4976, 'mice': 4977, 'masterson': 4978, 'hostil': 4979, 'modest': 4980, 'profil': 4981, 'epitom': 4982, 'evan': 4983, 'rapidli': 4984, 'weaker': 4985, 'optimist': 4986, 'hackman': 4987, 'assort': 4988, 'motorcycl': 4989, 'orchestr': 4990, 'victorian': 4991, 'weari': 4992, 'bravo': 4993, 'playboy': 4994, 'ghetto': 4995, 'sophi': 4996, 'casper': 4997, 'growth': 4998, 'scarfac': 4999}\n"
     ]
    }
   ],
   "source": [
    "# TODO: Use this space to determine the five most frequently appearing words in the training set.\n",
    "print(word_dict)"
   ]
  },
  {
   "cell_type": "markdown",
   "metadata": {},
   "source": [
    "### Save `word_dict`\n",
    "\n",
    "Later on when we construct an endpoint which processes a submitted review we will need to make use of the `word_dict` which we have created. As such, we will save it to a file now for future use."
   ]
  },
  {
   "cell_type": "code",
   "execution_count": 15,
   "metadata": {},
   "outputs": [],
   "source": [
    "data_dir = '../data/pytorch' # The folder we will use for storing data\n",
    "if not os.path.exists(data_dir): # Make sure that the folder exists\n",
    "    os.makedirs(data_dir)"
   ]
  },
  {
   "cell_type": "code",
   "execution_count": 16,
   "metadata": {},
   "outputs": [],
   "source": [
    "with open(os.path.join(data_dir, 'word_dict.pkl'), \"wb\") as f:\n",
    "    pickle.dump(word_dict, f)"
   ]
  },
  {
   "cell_type": "markdown",
   "metadata": {},
   "source": [
    "### Transform the reviews\n",
    "\n",
    "Now that we have our word dictionary which allows us to transform the words appearing in the reviews into integers, it is time to make use of it and convert our reviews to their integer sequence representation, making sure to pad or truncate to a fixed length, which in our case is `500`."
   ]
  },
  {
   "cell_type": "code",
   "execution_count": 17,
   "metadata": {},
   "outputs": [],
   "source": [
    "def convert_and_pad(word_dict, sentence, pad=500):\n",
    "    NOWORD = 0 # We will use 0 to represent the 'no word' category\n",
    "    INFREQ = 1 # and we use 1 to represent the infrequent words, i.e., words not appearing in word_dict\n",
    "    \n",
    "    working_sentence = [NOWORD] * pad\n",
    "    \n",
    "    for word_index, word in enumerate(sentence[:pad]):\n",
    "        if word in word_dict:\n",
    "            working_sentence[word_index] = word_dict[word]\n",
    "        else:\n",
    "            working_sentence[word_index] = INFREQ\n",
    "            \n",
    "    return working_sentence, min(len(sentence), pad)\n",
    "\n",
    "def convert_and_pad_data(word_dict, data, pad=500):\n",
    "    result = []\n",
    "    lengths = []\n",
    "    \n",
    "    for sentence in data:\n",
    "        converted, leng = convert_and_pad(word_dict, sentence, pad)\n",
    "        result.append(converted)\n",
    "        lengths.append(leng)\n",
    "        \n",
    "    return np.array(result), np.array(lengths)"
   ]
  },
  {
   "cell_type": "code",
   "execution_count": 18,
   "metadata": {},
   "outputs": [],
   "source": [
    "train_X, train_X_len = convert_and_pad_data(word_dict, train_X)\n",
    "test_X, test_X_len = convert_and_pad_data(word_dict, test_X)"
   ]
  },
  {
   "cell_type": "markdown",
   "metadata": {},
   "source": [
    "As a quick check to make sure that things are working as intended, check to see what one of the reviews in the training set looks like after having been processeed. Does this look reasonable? What is the length of a review in the training set?"
   ]
  },
  {
   "cell_type": "code",
   "execution_count": 19,
   "metadata": {},
   "outputs": [
    {
     "name": "stdout",
     "output_type": "stream",
     "text": [
      "500\n",
      "[  13   87   84  336 1109 1087    1  941    1  438  698  345  204   12\n",
      "    2  239   11  777   84  462  496  143  168   13   25  170   45   64\n",
      "  129  240  153    5 3150    1 1087  119   14  105 4403  147  579  179\n",
      "    0    0    0    0    0    0    0    0    0    0    0    0    0    0\n",
      "    0    0    0    0    0    0    0    0    0    0    0    0    0    0\n",
      "    0    0    0    0    0    0    0    0    0    0    0    0    0    0\n",
      "    0    0    0    0    0    0    0    0    0    0    0    0    0    0\n",
      "    0    0    0    0    0    0    0    0    0    0    0    0    0    0\n",
      "    0    0    0    0    0    0    0    0    0    0    0    0    0    0\n",
      "    0    0    0    0    0    0    0    0    0    0    0    0    0    0\n",
      "    0    0    0    0    0    0    0    0    0    0    0    0    0    0\n",
      "    0    0    0    0    0    0    0    0    0    0    0    0    0    0\n",
      "    0    0    0    0    0    0    0    0    0    0    0    0    0    0\n",
      "    0    0    0    0    0    0    0    0    0    0    0    0    0    0\n",
      "    0    0    0    0    0    0    0    0    0    0    0    0    0    0\n",
      "    0    0    0    0    0    0    0    0    0    0    0    0    0    0\n",
      "    0    0    0    0    0    0    0    0    0    0    0    0    0    0\n",
      "    0    0    0    0    0    0    0    0    0    0    0    0    0    0\n",
      "    0    0    0    0    0    0    0    0    0    0    0    0    0    0\n",
      "    0    0    0    0    0    0    0    0    0    0    0    0    0    0\n",
      "    0    0    0    0    0    0    0    0    0    0    0    0    0    0\n",
      "    0    0    0    0    0    0    0    0    0    0    0    0    0    0\n",
      "    0    0    0    0    0    0    0    0    0    0    0    0    0    0\n",
      "    0    0    0    0    0    0    0    0    0    0    0    0    0    0\n",
      "    0    0    0    0    0    0    0    0    0    0    0    0    0    0\n",
      "    0    0    0    0    0    0    0    0    0    0    0    0    0    0\n",
      "    0    0    0    0    0    0    0    0    0    0    0    0    0    0\n",
      "    0    0    0    0    0    0    0    0    0    0    0    0    0    0\n",
      "    0    0    0    0    0    0    0    0    0    0    0    0    0    0\n",
      "    0    0    0    0    0    0    0    0    0    0    0    0    0    0\n",
      "    0    0    0    0    0    0    0    0    0    0    0    0    0    0\n",
      "    0    0    0    0    0    0    0    0    0    0    0    0    0    0\n",
      "    0    0    0    0    0    0    0    0    0    0    0    0    0    0\n",
      "    0    0    0    0    0    0    0    0    0    0    0    0    0    0\n",
      "    0    0    0    0    0    0    0    0    0    0    0    0    0    0\n",
      "    0    0    0    0    0    0    0    0    0    0]\n"
     ]
    }
   ],
   "source": [
    "# Use this cell to examine one of the processed reviews to make sure everything is working as intended.\n",
    "print(len(train_X[0]))\n",
    "print(train_X[0])"
   ]
  },
  {
   "cell_type": "markdown",
   "metadata": {},
   "source": [
    "**Question:** In the cells above we use the `preprocess_data` and `convert_and_pad_data` methods to process both the training and testing set. Why or why not might this be a problem?"
   ]
  },
  {
   "cell_type": "markdown",
   "metadata": {},
   "source": [
    "**Answer:** Training and testing set should be treated the same way, so it makes sense to apply the same methods to both."
   ]
  },
  {
   "cell_type": "markdown",
   "metadata": {},
   "source": [
    "## Step 3: Upload the data to S3\n",
    "\n",
    "As in the XGBoost notebook, we will need to upload the training dataset to S3 in order for our training code to access it. For now we will save it locally and we will upload to S3 later on.\n",
    "\n",
    "### Save the processed training dataset locally\n",
    "\n",
    "It is important to note the format of the data that we are saving as we will need to know it when we write the training code. In our case, each row of the dataset has the form `label`, `length`, `review[500]` where `review[500]` is a sequence of `500` integers representing the words in the review."
   ]
  },
  {
   "cell_type": "code",
   "execution_count": 20,
   "metadata": {},
   "outputs": [],
   "source": [
    "import pandas as pd\n",
    "    \n",
    "pd.concat([pd.DataFrame(train_y), pd.DataFrame(train_X_len), pd.DataFrame(train_X)], axis=1) \\\n",
    "        .to_csv(os.path.join(data_dir, 'train.csv'), header=False, index=False)"
   ]
  },
  {
   "cell_type": "markdown",
   "metadata": {},
   "source": [
    "### Uploading the training data\n",
    "\n",
    "\n",
    "Next, we need to upload the training data to the SageMaker default S3 bucket so that we can provide access to it while training our model."
   ]
  },
  {
   "cell_type": "code",
   "execution_count": 21,
   "metadata": {},
   "outputs": [
    {
     "name": "stderr",
     "output_type": "stream",
     "text": [
      "INFO:sagemaker:Created S3 bucket: sagemaker-us-east-1-702232505122\n"
     ]
    }
   ],
   "source": [
    "import sagemaker\n",
    "\n",
    "sagemaker_session = sagemaker.Session()\n",
    "\n",
    "bucket = sagemaker_session.default_bucket()\n",
    "prefix = 'sagemaker/sentiment_rnn'\n",
    "\n",
    "role = sagemaker.get_execution_role()"
   ]
  },
  {
   "cell_type": "code",
   "execution_count": 22,
   "metadata": {},
   "outputs": [],
   "source": [
    "input_data = sagemaker_session.upload_data(path=data_dir, bucket=bucket, key_prefix=prefix)"
   ]
  },
  {
   "cell_type": "markdown",
   "metadata": {},
   "source": [
    "**NOTE:** The cell above uploads the entire contents of our data directory. This includes the `word_dict.pkl` file. This is fortunate as we will need this later on when we create an endpoint that accepts an arbitrary review. For now, we will just take note of the fact that it resides in the data directory (and so also in the S3 training bucket) and that we will need to make sure it gets saved in the model directory."
   ]
  },
  {
   "cell_type": "markdown",
   "metadata": {},
   "source": [
    "## Step 4: Build and Train the PyTorch Model\n",
    "\n",
    "In the XGBoost notebook we discussed what a model is in the SageMaker framework. In particular, a model comprises three objects\n",
    "\n",
    " - Model Artifacts,\n",
    " - Training Code, and\n",
    " - Inference Code,\n",
    " \n",
    "each of which interact with one another. In the XGBoost example we used training and inference code that was provided by Amazon. Here we will still be using containers provided by Amazon with the added benefit of being able to include our own custom code.\n",
    "\n",
    "We will start by implementing our own neural network in PyTorch along with a training script. For the purposes of this project we have provided the necessary model object in the `model.py` file, inside of the `train` folder. You can see the provided implementation by running the cell below."
   ]
  },
  {
   "cell_type": "code",
   "execution_count": 23,
   "metadata": {},
   "outputs": [
    {
     "name": "stdout",
     "output_type": "stream",
     "text": [
      "\u001b[34mimport\u001b[39;49;00m \u001b[04m\u001b[36mtorch.nn\u001b[39;49;00m \u001b[34mas\u001b[39;49;00m \u001b[04m\u001b[36mnn\u001b[39;49;00m\r\n",
      "\r\n",
      "\u001b[34mclass\u001b[39;49;00m \u001b[04m\u001b[32mLSTMClassifier\u001b[39;49;00m(nn.Module):\r\n",
      "    \u001b[33m\"\"\"\u001b[39;49;00m\r\n",
      "\u001b[33m    This is the simple RNN model we will be using to perform Sentiment Analysis.\u001b[39;49;00m\r\n",
      "\u001b[33m    \"\"\"\u001b[39;49;00m\r\n",
      "\r\n",
      "    \u001b[34mdef\u001b[39;49;00m \u001b[32m__init__\u001b[39;49;00m(\u001b[36mself\u001b[39;49;00m, embedding_dim, hidden_dim, vocab_size):\r\n",
      "        \u001b[33m\"\"\"\u001b[39;49;00m\r\n",
      "\u001b[33m        Initialize the model by settingg up the various layers.\u001b[39;49;00m\r\n",
      "\u001b[33m        \"\"\"\u001b[39;49;00m\r\n",
      "        \u001b[36msuper\u001b[39;49;00m(LSTMClassifier, \u001b[36mself\u001b[39;49;00m).\u001b[32m__init__\u001b[39;49;00m()\r\n",
      "\r\n",
      "        \u001b[36mself\u001b[39;49;00m.embedding = nn.Embedding(vocab_size, embedding_dim, padding_idx=\u001b[34m0\u001b[39;49;00m)\r\n",
      "        \u001b[36mself\u001b[39;49;00m.lstm = nn.LSTM(embedding_dim, hidden_dim)\r\n",
      "        \u001b[36mself\u001b[39;49;00m.dense = nn.Linear(in_features=hidden_dim, out_features=\u001b[34m1\u001b[39;49;00m)\r\n",
      "        \u001b[36mself\u001b[39;49;00m.sig = nn.Sigmoid()\r\n",
      "        \r\n",
      "        \u001b[36mself\u001b[39;49;00m.word_dict = \u001b[36mNone\u001b[39;49;00m\r\n",
      "\r\n",
      "    \u001b[34mdef\u001b[39;49;00m \u001b[32mforward\u001b[39;49;00m(\u001b[36mself\u001b[39;49;00m, x):\r\n",
      "        \u001b[33m\"\"\"\u001b[39;49;00m\r\n",
      "\u001b[33m        Perform a forward pass of our model on some input.\u001b[39;49;00m\r\n",
      "\u001b[33m        \"\"\"\u001b[39;49;00m\r\n",
      "        x = x.t()\r\n",
      "        lengths = x[\u001b[34m0\u001b[39;49;00m,:]\r\n",
      "        reviews = x[\u001b[34m1\u001b[39;49;00m:,:]\r\n",
      "        embeds = \u001b[36mself\u001b[39;49;00m.embedding(reviews)\r\n",
      "        lstm_out, _ = \u001b[36mself\u001b[39;49;00m.lstm(embeds)\r\n",
      "        out = \u001b[36mself\u001b[39;49;00m.dense(lstm_out)\r\n",
      "        out = out[lengths - \u001b[34m1\u001b[39;49;00m, \u001b[36mrange\u001b[39;49;00m(\u001b[36mlen\u001b[39;49;00m(lengths))]\r\n",
      "        \u001b[34mreturn\u001b[39;49;00m \u001b[36mself\u001b[39;49;00m.sig(out.squeeze())\r\n"
     ]
    }
   ],
   "source": [
    "!pygmentize train/model.py"
   ]
  },
  {
   "cell_type": "markdown",
   "metadata": {},
   "source": [
    "The important takeaway from the implementation provided is that there are three parameters that we may wish to tweak to improve the performance of our model. These are the embedding dimension, the hidden dimension and the size of the vocabulary. We will likely want to make these parameters configurable in the training script so that if we wish to modify them we do not need to modify the script itself. We will see how to do this later on. To start we will write some of the training code in the notebook so that we can more easily diagnose any issues that arise.\n",
    "\n",
    "First we will load a small portion of the training data set to use as a sample. It would be very time consuming to try and train the model completely in the notebook as we do not have access to a gpu and the compute instance that we are using is not particularly powerful. However, we can work on a small bit of the data to get a feel for how our training script is behaving."
   ]
  },
  {
   "cell_type": "code",
   "execution_count": 24,
   "metadata": {},
   "outputs": [],
   "source": [
    "import torch\n",
    "import torch.utils.data\n",
    "\n",
    "# Read in only the first 250 rows\n",
    "train_sample = pd.read_csv(os.path.join(data_dir, 'train.csv'), header=None, names=None, nrows=250)\n",
    "\n",
    "# Turn the input pandas dataframe into tensors\n",
    "train_sample_y = torch.from_numpy(train_sample[[0]].values).float().squeeze()\n",
    "train_sample_X = torch.from_numpy(train_sample.drop([0], axis=1).values).long()\n",
    "\n",
    "# Build the dataset\n",
    "train_sample_ds = torch.utils.data.TensorDataset(train_sample_X, train_sample_y)\n",
    "# Build the dataloader\n",
    "train_sample_dl = torch.utils.data.DataLoader(train_sample_ds, batch_size=50)"
   ]
  },
  {
   "cell_type": "markdown",
   "metadata": {},
   "source": [
    "### (TODO) Writing the training method\n",
    "\n",
    "Next we need to write the training code itself. This should be very similar to training methods that you have written before to train PyTorch models. We will leave any difficult aspects such as model saving / loading and parameter loading until a little later."
   ]
  },
  {
   "cell_type": "code",
   "execution_count": 25,
   "metadata": {},
   "outputs": [],
   "source": [
    "def train(model, train_loader, epochs, optimizer, loss_fn, device):\n",
    "    for epoch in range(1, epochs + 1):\n",
    "        model.train()\n",
    "        total_loss = 0\n",
    "        for batch in train_loader:         \n",
    "            batch_X, batch_y = batch\n",
    "            \n",
    "            batch_X = batch_X.to(device)\n",
    "            batch_y = batch_y.to(device)\n",
    "            \n",
    "            # TODO: Complete this train method to train the model provided.\n",
    "            optimizer.zero_grad()\n",
    "            output = model.forward(batch_X)\n",
    "            loss = loss_fn(output, batch_y)\n",
    "            loss.backward()\n",
    "            optimizer.step()\n",
    "            \n",
    "            total_loss += loss.data.item()\n",
    "        print(\"Epoch: {}, BCELoss: {}\".format(epoch, total_loss / len(train_loader)))"
   ]
  },
  {
   "cell_type": "markdown",
   "metadata": {},
   "source": [
    "Supposing we have the training method above, we will test that it is working by writing a bit of code in the notebook that executes our training method on the small sample training set that we loaded earlier. The reason for doing this in the notebook is so that we have an opportunity to fix any errors that arise early when they are easier to diagnose."
   ]
  },
  {
   "cell_type": "code",
   "execution_count": 26,
   "metadata": {},
   "outputs": [
    {
     "name": "stdout",
     "output_type": "stream",
     "text": [
      "Epoch: 1, BCELoss: 0.6949150800704956\n",
      "Epoch: 2, BCELoss: 0.6852081179618835\n",
      "Epoch: 3, BCELoss: 0.6764775395393372\n",
      "Epoch: 4, BCELoss: 0.6663212418556214\n",
      "Epoch: 5, BCELoss: 0.652849531173706\n"
     ]
    }
   ],
   "source": [
    "import torch.optim as optim\n",
    "from train.model import LSTMClassifier\n",
    "\n",
    "device = torch.device(\"cuda\" if torch.cuda.is_available() else \"cpu\")\n",
    "model = LSTMClassifier(32, 100, 5000).to(device)\n",
    "optimizer = optim.Adam(model.parameters())\n",
    "loss_fn = torch.nn.BCELoss()\n",
    "\n",
    "train(model, train_sample_dl, 5, optimizer, loss_fn, device)"
   ]
  },
  {
   "cell_type": "markdown",
   "metadata": {},
   "source": [
    "In order to construct a PyTorch model using SageMaker we must provide SageMaker with a training script. We may optionally include a directory which will be copied to the container and from which our training code will be run. When the training container is executed it will check the uploaded directory (if there is one) for a `requirements.txt` file and install any required Python libraries, after which the training script will be run."
   ]
  },
  {
   "cell_type": "markdown",
   "metadata": {},
   "source": [
    "### (TODO) Training the model\n",
    "\n",
    "When a PyTorch model is constructed in SageMaker, an entry point must be specified. This is the Python file which will be executed when the model is trained. Inside of the `train` directory is a file called `train.py` which has been provided and which contains most of the necessary code to train our model. The only thing that is missing is the implementation of the `train()` method which you wrote earlier in this notebook.\n",
    "\n",
    "**TODO**: Copy the `train()` method written above and paste it into the `train/train.py` file where required.\n",
    "\n",
    "The way that SageMaker passes hyperparameters to the training script is by way of arguments. These arguments can then be parsed and used in the training script. To see how this is done take a look at the provided `train/train.py` file."
   ]
  },
  {
   "cell_type": "code",
   "execution_count": 27,
   "metadata": {},
   "outputs": [],
   "source": [
    "from sagemaker.pytorch import PyTorch\n",
    "\n",
    "estimator = PyTorch(entry_point=\"train.py\",\n",
    "                    source_dir=\"train\",\n",
    "                    role=role,\n",
    "                    framework_version='0.4.0',\n",
    "                    train_instance_count=1,\n",
    "                    train_instance_type='ml.p2.xlarge',\n",
    "                    hyperparameters={\n",
    "                        'epochs': 10,\n",
    "                        'hidden_dim': 200,\n",
    "                    })"
   ]
  },
  {
   "cell_type": "code",
   "execution_count": 29,
   "metadata": {},
   "outputs": [
    {
     "name": "stderr",
     "output_type": "stream",
     "text": [
      "INFO:sagemaker:Creating training-job with name: sagemaker-pytorch-2019-03-07-08-51-48-396\n"
     ]
    },
    {
     "name": "stdout",
     "output_type": "stream",
     "text": [
      "2019-03-07 08:51:48 Starting - Starting the training job...\n",
      "2019-03-07 08:51:49 Starting - Launching requested ML instances......\n",
      "2019-03-07 08:52:52 Starting - Preparing the instances for training......\n",
      "2019-03-07 08:53:56 Downloading - Downloading input data...\n",
      "2019-03-07 08:54:22 Training - Downloading the training image...\n",
      "2019-03-07 08:55:01 Training - Training image download completed. Training in progress.\n",
      "\u001b[31mbash: cannot set terminal process group (-1): Inappropriate ioctl for device\u001b[0m\n",
      "\u001b[31mbash: no job control in this shell\u001b[0m\n",
      "\u001b[31m2019-03-07 08:55:02,265 sagemaker-containers INFO     Imported framework sagemaker_pytorch_container.training\u001b[0m\n",
      "\u001b[31m2019-03-07 08:55:02,291 sagemaker_pytorch_container.training INFO     Block until all host DNS lookups succeed.\u001b[0m\n",
      "\u001b[31m2019-03-07 08:55:02,300 sagemaker_pytorch_container.training INFO     Invoking user training script.\u001b[0m\n",
      "\u001b[31m2019-03-07 08:55:02,555 sagemaker-containers INFO     Module train does not provide a setup.py. \u001b[0m\n",
      "\u001b[31mGenerating setup.py\u001b[0m\n",
      "\u001b[31m2019-03-07 08:55:02,555 sagemaker-containers INFO     Generating setup.cfg\u001b[0m\n",
      "\u001b[31m2019-03-07 08:55:02,555 sagemaker-containers INFO     Generating MANIFEST.in\u001b[0m\n",
      "\u001b[31m2019-03-07 08:55:02,555 sagemaker-containers INFO     Installing module with the following command:\u001b[0m\n",
      "\u001b[31m/usr/bin/python -m pip install -U . -r requirements.txt\u001b[0m\n",
      "\u001b[31mProcessing /opt/ml/code\u001b[0m\n",
      "\u001b[31mCollecting pandas (from -r requirements.txt (line 1))\n",
      "  Downloading https://files.pythonhosted.org/packages/e2/a3/c42cd52e40527ba35aed53a988c485ffeddbae0722b8b756da82464baa73/pandas-0.24.1-cp35-cp35m-manylinux1_x86_64.whl (10.0MB)\u001b[0m\n",
      "\u001b[31mCollecting numpy (from -r requirements.txt (line 2))\n",
      "  Downloading https://files.pythonhosted.org/packages/e3/18/4f013c3c3051f4e0ffbaa4bf247050d6d5e527fe9cb1907f5975b172f23f/numpy-1.16.2-cp35-cp35m-manylinux1_x86_64.whl (17.2MB)\u001b[0m\n",
      "\u001b[31mCollecting nltk (from -r requirements.txt (line 3))\n",
      "  Downloading https://files.pythonhosted.org/packages/6f/ed/9c755d357d33bc1931e157f537721efb5b88d2c583fe593cc09603076cc3/nltk-3.4.zip (1.4MB)\u001b[0m\n",
      "\u001b[31mCollecting beautifulsoup4 (from -r requirements.txt (line 4))\n",
      "  Downloading https://files.pythonhosted.org/packages/1d/5d/3260694a59df0ec52f8b4883f5d23b130bc237602a1411fa670eae12351e/beautifulsoup4-4.7.1-py3-none-any.whl (94kB)\u001b[0m\n",
      "\u001b[31mCollecting html5lib (from -r requirements.txt (line 5))\n",
      "  Downloading https://files.pythonhosted.org/packages/a5/62/bbd2be0e7943ec8504b517e62bab011b4946e1258842bc159e5dfde15b96/html5lib-1.0.1-py2.py3-none-any.whl (117kB)\u001b[0m\n",
      "\u001b[31mCollecting pytz>=2011k (from pandas->-r requirements.txt (line 1))\n",
      "  Downloading https://files.pythonhosted.org/packages/61/28/1d3920e4d1d50b19bc5d24398a7cd85cc7b9a75a490570d5a30c57622d34/pytz-2018.9-py2.py3-none-any.whl (510kB)\u001b[0m\n",
      "\u001b[31mRequirement already satisfied, skipping upgrade: python-dateutil>=2.5.0 in /usr/local/lib/python3.5/dist-packages (from pandas->-r requirements.txt (line 1)) (2.7.5)\u001b[0m\n",
      "\u001b[31mRequirement already satisfied, skipping upgrade: six in /usr/local/lib/python3.5/dist-packages (from nltk->-r requirements.txt (line 3)) (1.11.0)\u001b[0m\n",
      "\u001b[31mCollecting singledispatch (from nltk->-r requirements.txt (line 3))\n",
      "  Downloading https://files.pythonhosted.org/packages/c5/10/369f50bcd4621b263927b0a1519987a04383d4a98fb10438042ad410cf88/singledispatch-3.4.0.3-py2.py3-none-any.whl\u001b[0m\n",
      "\u001b[31mCollecting soupsieve>=1.2 (from beautifulsoup4->-r requirements.txt (line 4))\n",
      "  Downloading https://files.pythonhosted.org/packages/77/78/bca00cc9fa70bba1226ee70a42bf375c4e048fe69066a0d9b5e69bc2a79a/soupsieve-1.8-py2.py3-none-any.whl (88kB)\u001b[0m\n",
      "\u001b[31mCollecting webencodings (from html5lib->-r requirements.txt (line 5))\n",
      "  Downloading https://files.pythonhosted.org/packages/f4/24/2a3e3df732393fed8b3ebf2ec078f05546de641fe1b667ee316ec1dcf3b7/webencodings-0.5.1-py2.py3-none-any.whl\u001b[0m\n",
      "\u001b[31mBuilding wheels for collected packages: nltk, train\n",
      "  Running setup.py bdist_wheel for nltk: started\n",
      "  Running setup.py bdist_wheel for nltk: finished with status 'done'\n",
      "  Stored in directory: /root/.cache/pip/wheels/4b/c8/24/b2343664bcceb7147efeb21c0b23703a05b23fcfeaceaa2a1e\u001b[0m\n",
      "\u001b[31m  Running setup.py bdist_wheel for train: started\n",
      "  Running setup.py bdist_wheel for train: finished with status 'done'\n",
      "  Stored in directory: /tmp/pip-ephem-wheel-cache-_mubqxhv/wheels/35/24/16/37574d11bf9bde50616c67372a334f94fa8356bc7164af8ca3\u001b[0m\n",
      "\u001b[31mSuccessfully built nltk train\u001b[0m\n",
      "\u001b[31mInstalling collected packages: pytz, numpy, pandas, singledispatch, nltk, soupsieve, beautifulsoup4, webencodings, html5lib, train\n",
      "  Found existing installation: numpy 1.15.4\n",
      "    Uninstalling numpy-1.15.4:\u001b[0m\n",
      "\u001b[31m      Successfully uninstalled numpy-1.15.4\u001b[0m\n",
      "\u001b[31mSuccessfully installed beautifulsoup4-4.7.1 html5lib-1.0.1 nltk-3.4 numpy-1.16.2 pandas-0.24.1 pytz-2018.9 singledispatch-3.4.0.3 soupsieve-1.8 train-1.0.0 webencodings-0.5.1\u001b[0m\n",
      "\u001b[31mYou are using pip version 18.1, however version 19.0.3 is available.\u001b[0m\n",
      "\u001b[31mYou should consider upgrading via the 'pip install --upgrade pip' command.\u001b[0m\n",
      "\u001b[31m2019-03-07 08:55:14,551 sagemaker-containers INFO     Invoking user script\n",
      "\u001b[0m\n",
      "\u001b[31mTraining Env:\n",
      "\u001b[0m\n",
      "\u001b[31m{\n",
      "    \"hyperparameters\": {\n",
      "        \"hidden_dim\": 200,\n",
      "        \"epochs\": 10\n",
      "    },\n",
      "    \"output_dir\": \"/opt/ml/output\",\n",
      "    \"num_gpus\": 1,\n",
      "    \"output_intermediate_dir\": \"/opt/ml/output/intermediate\",\n",
      "    \"log_level\": 20,\n",
      "    \"resource_config\": {\n",
      "        \"current_host\": \"algo-1\",\n",
      "        \"network_interface_name\": \"ethwe\",\n",
      "        \"hosts\": [\n",
      "            \"algo-1\"\n",
      "        ]\n",
      "    },\n",
      "    \"channel_input_dirs\": {\n",
      "        \"training\": \"/opt/ml/input/data/training\"\n",
      "    },\n",
      "    \"job_name\": \"sagemaker-pytorch-2019-03-07-08-51-48-396\",\n",
      "    \"model_dir\": \"/opt/ml/model\",\n",
      "    \"module_name\": \"train\",\n",
      "    \"input_config_dir\": \"/opt/ml/input/config\",\n",
      "    \"input_dir\": \"/opt/ml/input\",\n",
      "    \"output_data_dir\": \"/opt/ml/output/data\",\n",
      "    \"current_host\": \"algo-1\",\n",
      "    \"additional_framework_parameters\": {},\n",
      "    \"hosts\": [\n",
      "        \"algo-1\"\n",
      "    ],\n",
      "    \"network_interface_name\": \"ethwe\",\n",
      "    \"framework_module\": \"sagemaker_pytorch_container.training:main\",\n",
      "    \"module_dir\": \"s3://sagemaker-us-east-1-702232505122/sagemaker-pytorch-2019-03-07-08-51-48-396/source/sourcedir.tar.gz\",\n",
      "    \"user_entry_point\": \"train.py\",\n",
      "    \"input_data_config\": {\n",
      "        \"training\": {\n",
      "            \"TrainingInputMode\": \"File\",\n",
      "            \"S3DistributionType\": \"FullyReplicated\",\n",
      "            \"RecordWrapperType\": \"None\"\n",
      "        }\n",
      "    },\n",
      "    \"num_cpus\": 4\u001b[0m\n",
      "\u001b[31m}\n",
      "\u001b[0m\n",
      "\u001b[31mEnvironment variables:\n",
      "\u001b[0m\n",
      "\u001b[31mSM_OUTPUT_DIR=/opt/ml/output\u001b[0m\n",
      "\u001b[31mSM_TRAINING_ENV={\"additional_framework_parameters\":{},\"channel_input_dirs\":{\"training\":\"/opt/ml/input/data/training\"},\"current_host\":\"algo-1\",\"framework_module\":\"sagemaker_pytorch_container.training:main\",\"hosts\":[\"algo-1\"],\"hyperparameters\":{\"epochs\":10,\"hidden_dim\":200},\"input_config_dir\":\"/opt/ml/input/config\",\"input_data_config\":{\"training\":{\"RecordWrapperType\":\"None\",\"S3DistributionType\":\"FullyReplicated\",\"TrainingInputMode\":\"File\"}},\"input_dir\":\"/opt/ml/input\",\"job_name\":\"sagemaker-pytorch-2019-03-07-08-51-48-396\",\"log_level\":20,\"model_dir\":\"/opt/ml/model\",\"module_dir\":\"s3://sagemaker-us-east-1-702232505122/sagemaker-pytorch-2019-03-07-08-51-48-396/source/sourcedir.tar.gz\",\"module_name\":\"train\",\"network_interface_name\":\"ethwe\",\"num_cpus\":4,\"num_gpus\":1,\"output_data_dir\":\"/opt/ml/output/data\",\"output_dir\":\"/opt/ml/output\",\"output_intermediate_dir\":\"/opt/ml/output/intermediate\",\"resource_config\":{\"current_host\":\"algo-1\",\"hosts\":[\"algo-1\"],\"network_interface_name\":\"ethwe\"},\"user_entry_point\":\"train.py\"}\u001b[0m\n",
      "\u001b[31mSM_HP_HIDDEN_DIM=200\u001b[0m\n",
      "\u001b[31mSM_NUM_GPUS=1\u001b[0m\n",
      "\u001b[31mSM_NETWORK_INTERFACE_NAME=ethwe\u001b[0m\n",
      "\u001b[31mSM_CHANNEL_TRAINING=/opt/ml/input/data/training\u001b[0m\n",
      "\u001b[31mSM_HP_EPOCHS=10\u001b[0m\n",
      "\u001b[31mSM_FRAMEWORK_PARAMS={}\u001b[0m\n",
      "\u001b[31mSM_FRAMEWORK_MODULE=sagemaker_pytorch_container.training:main\u001b[0m\n",
      "\u001b[31mSM_INPUT_CONFIG_DIR=/opt/ml/input/config\u001b[0m\n",
      "\u001b[31mSM_HOSTS=[\"algo-1\"]\u001b[0m\n",
      "\u001b[31mSM_OUTPUT_DATA_DIR=/opt/ml/output/data\u001b[0m\n",
      "\u001b[31mSM_MODEL_DIR=/opt/ml/model\u001b[0m\n",
      "\u001b[31mSM_HPS={\"epochs\":10,\"hidden_dim\":200}\u001b[0m\n",
      "\u001b[31mSM_CHANNELS=[\"training\"]\u001b[0m\n",
      "\u001b[31mSM_CURRENT_HOST=algo-1\u001b[0m\n",
      "\u001b[31mSM_OUTPUT_INTERMEDIATE_DIR=/opt/ml/output/intermediate\u001b[0m\n",
      "\u001b[31mSM_RESOURCE_CONFIG={\"current_host\":\"algo-1\",\"hosts\":[\"algo-1\"],\"network_interface_name\":\"ethwe\"}\u001b[0m\n",
      "\u001b[31mSM_LOG_LEVEL=20\u001b[0m\n",
      "\u001b[31mPYTHONPATH=/usr/local/bin:/usr/lib/python35.zip:/usr/lib/python3.5:/usr/lib/python3.5/plat-x86_64-linux-gnu:/usr/lib/python3.5/lib-dynload:/usr/local/lib/python3.5/dist-packages:/usr/lib/python3/dist-packages\u001b[0m\n",
      "\u001b[31mSM_USER_ENTRY_POINT=train.py\u001b[0m\n",
      "\u001b[31mSM_MODULE_DIR=s3://sagemaker-us-east-1-702232505122/sagemaker-pytorch-2019-03-07-08-51-48-396/source/sourcedir.tar.gz\u001b[0m\n",
      "\u001b[31mSM_NUM_CPUS=4\u001b[0m\n",
      "\u001b[31mSM_MODULE_NAME=train\u001b[0m\n",
      "\u001b[31mSM_INPUT_DATA_CONFIG={\"training\":{\"RecordWrapperType\":\"None\",\"S3DistributionType\":\"FullyReplicated\",\"TrainingInputMode\":\"File\"}}\u001b[0m\n",
      "\u001b[31mSM_INPUT_DIR=/opt/ml/input\u001b[0m\n",
      "\u001b[31mSM_USER_ARGS=[\"--epochs\",\"10\",\"--hidden_dim\",\"200\"]\n",
      "\u001b[0m\n",
      "\u001b[31mInvoking script with the following command:\n",
      "\u001b[0m\n",
      "\u001b[31m/usr/bin/python -m train --epochs 10 --hidden_dim 200\n",
      "\n",
      "\u001b[0m\n",
      "\u001b[31mUsing device cuda.\u001b[0m\n",
      "\u001b[31mGet train data loader.\u001b[0m\n"
     ]
    },
    {
     "name": "stdout",
     "output_type": "stream",
     "text": [
      "\u001b[31mModel loaded with embedding_dim 32, hidden_dim 200, vocab_size 5000.\u001b[0m\n",
      "\u001b[31mEpoch: 1, BCELoss: 0.6765690579706308\u001b[0m\n",
      "\u001b[31mEpoch: 2, BCELoss: 0.6220384897017965\u001b[0m\n",
      "\u001b[31mEpoch: 3, BCELoss: 0.5286251409929625\u001b[0m\n",
      "\u001b[31mEpoch: 4, BCELoss: 0.46950994158277704\u001b[0m\n",
      "\u001b[31mEpoch: 5, BCELoss: 0.39853985029823924\u001b[0m\n",
      "\u001b[31mEpoch: 6, BCELoss: 0.3556483996157743\u001b[0m\n",
      "\u001b[31mEpoch: 7, BCELoss: 0.3437559689794268\u001b[0m\n",
      "\u001b[31mEpoch: 8, BCELoss: 0.32331754723373723\u001b[0m\n",
      "\u001b[31mEpoch: 9, BCELoss: 0.2974959818684325\u001b[0m\n",
      "\n",
      "2019-03-07 08:58:19 Uploading - Uploading generated training model\u001b[31mEpoch: 10, BCELoss: 0.2845658316295974\u001b[0m\n",
      "\u001b[31m2019-03-07 08:58:13,916 sagemaker-containers INFO     Reporting training SUCCESS\u001b[0m\n",
      "\n",
      "2019-03-07 08:58:24 Completed - Training job completed\n",
      "Billable seconds: 268\n"
     ]
    }
   ],
   "source": [
    "estimator.fit({'training': input_data})"
   ]
  },
  {
   "cell_type": "markdown",
   "metadata": {},
   "source": [
    "## Step 5: Testing the model\n",
    "\n",
    "As mentioned at the top of this notebook, we will be testing this model by first deploying it and then sending the testing data to the deployed endpoint. We will do this so that we can make sure that the deployed model is working correctly.\n",
    "\n",
    "## Step 6: Deploy the model for testing\n",
    "\n",
    "Now that we have trained our model, we would like to test it to see how it performs. Currently our model takes input of the form `review_length, review[500]` where `review[500]` is a sequence of `500` integers which describe the words present in the review, encoded using `word_dict`. Fortunately for us, SageMaker provides built-in inference code for models with simple inputs such as this.\n",
    "\n",
    "There is one thing that we need to provide, however, and that is a function which loads the saved model. This function must be called `model_fn()` and takes as its only parameter a path to the directory where the model artifacts are stored. This function must also be present in the python file which we specified as the entry point. In our case the model loading function has been provided and so no changes need to be made.\n",
    "\n",
    "**NOTE**: When the built-in inference code is run it must import the `model_fn()` method from the `train.py` file. This is why the training code is wrapped in a main guard ( ie, `if __name__ == '__main__':` )\n",
    "\n",
    "Since we don't need to change anything in the code that was uploaded during training, we can simply deploy the current model as-is.\n",
    "\n",
    "**NOTE:** When deploying a model you are asking SageMaker to launch an compute instance that will wait for data to be sent to it. As a result, this compute instance will continue to run until *you* shut it down. This is important to know since the cost of a deployed endpoint depends on how long it has been running for.\n",
    "\n",
    "In other words **If you are no longer using a deployed endpoint, shut it down!**\n",
    "\n",
    "**TODO:** Deploy the trained model."
   ]
  },
  {
   "cell_type": "code",
   "execution_count": 30,
   "metadata": {},
   "outputs": [
    {
     "name": "stderr",
     "output_type": "stream",
     "text": [
      "INFO:sagemaker:Creating model with name: sagemaker-pytorch-2019-03-07-08-51-48-396\n",
      "INFO:sagemaker:Creating endpoint with name sagemaker-pytorch-2019-03-07-08-51-48-396\n"
     ]
    },
    {
     "name": "stdout",
     "output_type": "stream",
     "text": [
      "----------------------------------------------------------------------------!"
     ]
    }
   ],
   "source": [
    "# TODO: Deploy the trained model\n",
    "predictor = estimator.deploy(initial_instance_count = 1, instance_type = 'ml.m4.xlarge')"
   ]
  },
  {
   "cell_type": "markdown",
   "metadata": {},
   "source": [
    "## Step 7 - Use the model for testing\n",
    "\n",
    "Once deployed, we can read in the test data and send it off to our deployed model to get some results. Once we collect all of the results we can determine how accurate our model is."
   ]
  },
  {
   "cell_type": "code",
   "execution_count": 31,
   "metadata": {},
   "outputs": [],
   "source": [
    "test_X = pd.concat([pd.DataFrame(test_X_len), pd.DataFrame(test_X)], axis=1)"
   ]
  },
  {
   "cell_type": "code",
   "execution_count": 32,
   "metadata": {},
   "outputs": [],
   "source": [
    "# We split the data into chunks and send each chunk seperately, accumulating the results.\n",
    "\n",
    "def predict(data, rows=512):\n",
    "    split_array = np.array_split(data, int(data.shape[0] / float(rows) + 1))\n",
    "    predictions = np.array([])\n",
    "    for array in split_array:\n",
    "        predictions = np.append(predictions, predictor.predict(array))\n",
    "    \n",
    "    return predictions"
   ]
  },
  {
   "cell_type": "code",
   "execution_count": 33,
   "metadata": {},
   "outputs": [],
   "source": [
    "predictions = predict(test_X.values)\n",
    "predictions = [round(num) for num in predictions]"
   ]
  },
  {
   "cell_type": "code",
   "execution_count": 34,
   "metadata": {},
   "outputs": [
    {
     "data": {
      "text/plain": [
       "0.84952"
      ]
     },
     "execution_count": 34,
     "metadata": {},
     "output_type": "execute_result"
    }
   ],
   "source": [
    "from sklearn.metrics import accuracy_score\n",
    "accuracy_score(test_y, predictions)"
   ]
  },
  {
   "cell_type": "markdown",
   "metadata": {},
   "source": [
    "**Question:** How does this model compare to the XGBoost model you created earlier? Why might these two models perform differently on this dataset? Which do *you* think is better for sentiment analysis?"
   ]
  },
  {
   "cell_type": "markdown",
   "metadata": {},
   "source": [
    "**Answer:** XGBoost model uses Bag of Words, where all words are processed without conserving their order in the text. On the other hand, here we use Long Short Term Memory (LSTM) with embeddings, this means the order of the word is conserved. Since the order of the words is very important in text classification, LSTM is a more suitable approach for this application."
   ]
  },
  {
   "cell_type": "markdown",
   "metadata": {},
   "source": [
    "### (TODO) More testing\n",
    "\n",
    "We now have a trained model which has been deployed and which we can send processed reviews to and which returns the predicted sentiment. However, ultimately we would like to be able to send our model an unprocessed review. That is, we would like to send the review itself as a string. For example, suppose we wish to send the following review to our model."
   ]
  },
  {
   "cell_type": "code",
   "execution_count": 35,
   "metadata": {},
   "outputs": [],
   "source": [
    "test_review = 'The simplest pleasures in life are the best, and this film is one of them. Combining a rather basic storyline of love and adventure this movie transcends the usual weekend fair with wit and unmitigated charm.'"
   ]
  },
  {
   "cell_type": "markdown",
   "metadata": {},
   "source": [
    "The question we now need to answer is, how do we send this review to our model?\n",
    "\n",
    "Recall in the first section of this notebook we did a bunch of data processing to the IMDb dataset. In particular, we did two specific things to the provided reviews.\n",
    " - Removed any html tags and stemmed the input\n",
    " - Encoded the review as a sequence of integers using `word_dict`\n",
    " \n",
    "In order process the review we will need to repeat these two steps.\n",
    "\n",
    "**TODO**: Using the `review_to_words` and `convert_and_pad` methods from section one, convert `test_review` into a numpy array `test_data` suitable to send to our model. Remember that our model expects input of the form `review_length, review[500]`."
   ]
  },
  {
   "cell_type": "code",
   "execution_count": 36,
   "metadata": {},
   "outputs": [
    {
     "data": {
      "text/plain": [
       "((1, 501), array([  20,    1, 1373,   49,   53]))"
      ]
     },
     "execution_count": 36,
     "metadata": {},
     "output_type": "execute_result"
    }
   ],
   "source": [
    "# TODO: Convert test_review into a form usable by the model and save the results in test_data\n",
    "test_review_words = review_to_words(test_review)\n",
    "test_review_words, length = convert_and_pad(word_dict, test_review_words)\n",
    "test_data = np.array([[length] + test_review_words])\n",
    "test_data.shape, test_data[0, :5]"
   ]
  },
  {
   "cell_type": "markdown",
   "metadata": {},
   "source": [
    "Now that we have processed the review, we can send the resulting array to our model to predict the sentiment of the review."
   ]
  },
  {
   "cell_type": "code",
   "execution_count": 37,
   "metadata": {},
   "outputs": [
    {
     "data": {
      "text/plain": [
       "array(0.7951994, dtype=float32)"
      ]
     },
     "execution_count": 37,
     "metadata": {},
     "output_type": "execute_result"
    }
   ],
   "source": [
    "predictor.predict(test_data)"
   ]
  },
  {
   "cell_type": "markdown",
   "metadata": {},
   "source": [
    "Since the return value of our model is close to `1`, we can be certain that the review we submitted is positive."
   ]
  },
  {
   "cell_type": "markdown",
   "metadata": {},
   "source": [
    "### Delete the endpoint\n",
    "\n",
    "Of course, just like in the XGBoost notebook, once we've deployed an endpoint it continues to run until we tell it to shut down. Since we are done using our endpoint for now, we can delete it."
   ]
  },
  {
   "cell_type": "code",
   "execution_count": 38,
   "metadata": {},
   "outputs": [
    {
     "name": "stderr",
     "output_type": "stream",
     "text": [
      "INFO:sagemaker:Deleting endpoint with name: sagemaker-pytorch-2019-03-07-08-51-48-396\n"
     ]
    }
   ],
   "source": [
    "estimator.delete_endpoint()"
   ]
  },
  {
   "cell_type": "markdown",
   "metadata": {},
   "source": [
    "## Step 6 (again) - Deploy the model for the web app\n",
    "\n",
    "Now that we know that our model is working, it's time to create some custom inference code so that we can send the model a review which has not been processed and have it determine the sentiment of the review.\n",
    "\n",
    "As we saw above, by default the estimator which we created, when deployed, will use the entry script and directory which we provided when creating the model. However, since we now wish to accept a string as input and our model expects a processed review, we need to write some custom inference code.\n",
    "\n",
    "We will store the code that we write in the `serve` directory. Provided in this directory is the `model.py` file that we used to construct our model, a `utils.py` file which contains the `review_to_words` and `convert_and_pad` pre-processing functions which we used during the initial data processing, and `predict.py`, the file which will contain our custom inference code. Note also that `requirements.txt` is present which will tell SageMaker what Python libraries are required by our custom inference code.\n",
    "\n",
    "When deploying a PyTorch model in SageMaker, you are expected to provide four functions which the SageMaker inference container will use.\n",
    " - `model_fn`: This function is the same function that we used in the training script and it tells SageMaker how to load our model.\n",
    " - `input_fn`: This function receives the raw serialized input that has been sent to the model's endpoint and its job is to de-serialize and make the input available for the inference code.\n",
    " - `output_fn`: This function takes the output of the inference code and its job is to serialize this output and return it to the caller of the model's endpoint.\n",
    " - `predict_fn`: The heart of the inference script, this is where the actual prediction is done and is the function which you will need to complete.\n",
    "\n",
    "For the simple website that we are constructing during this project, the `input_fn` and `output_fn` methods are relatively straightforward. We only require being able to accept a string as input and we expect to return a single value as output. You might imagine though that in a more complex application the input or output may be image data or some other binary data which would require some effort to serialize.\n",
    "\n",
    "### (TODO) Writing inference code\n",
    "\n",
    "Before writing our custom inference code, we will begin by taking a look at the code which has been provided."
   ]
  },
  {
   "cell_type": "code",
   "execution_count": 50,
   "metadata": {},
   "outputs": [
    {
     "name": "stdout",
     "output_type": "stream",
     "text": [
      "\u001b[34mimport\u001b[39;49;00m \u001b[04m\u001b[36margparse\u001b[39;49;00m\r\n",
      "\u001b[34mimport\u001b[39;49;00m \u001b[04m\u001b[36mjson\u001b[39;49;00m\r\n",
      "\u001b[34mimport\u001b[39;49;00m \u001b[04m\u001b[36mos\u001b[39;49;00m\r\n",
      "\u001b[34mimport\u001b[39;49;00m \u001b[04m\u001b[36mpickle\u001b[39;49;00m\r\n",
      "\u001b[34mimport\u001b[39;49;00m \u001b[04m\u001b[36msys\u001b[39;49;00m\r\n",
      "\u001b[34mimport\u001b[39;49;00m \u001b[04m\u001b[36msagemaker_containers\u001b[39;49;00m\r\n",
      "\u001b[34mimport\u001b[39;49;00m \u001b[04m\u001b[36mpandas\u001b[39;49;00m \u001b[34mas\u001b[39;49;00m \u001b[04m\u001b[36mpd\u001b[39;49;00m\r\n",
      "\u001b[34mimport\u001b[39;49;00m \u001b[04m\u001b[36mnumpy\u001b[39;49;00m \u001b[34mas\u001b[39;49;00m \u001b[04m\u001b[36mnp\u001b[39;49;00m\r\n",
      "\u001b[34mimport\u001b[39;49;00m \u001b[04m\u001b[36mtorch\u001b[39;49;00m\r\n",
      "\u001b[34mimport\u001b[39;49;00m \u001b[04m\u001b[36mtorch.nn\u001b[39;49;00m \u001b[34mas\u001b[39;49;00m \u001b[04m\u001b[36mnn\u001b[39;49;00m\r\n",
      "\u001b[34mimport\u001b[39;49;00m \u001b[04m\u001b[36mtorch.optim\u001b[39;49;00m \u001b[34mas\u001b[39;49;00m \u001b[04m\u001b[36moptim\u001b[39;49;00m\r\n",
      "\u001b[34mimport\u001b[39;49;00m \u001b[04m\u001b[36mtorch.utils.data\u001b[39;49;00m\r\n",
      "\r\n",
      "\u001b[34mfrom\u001b[39;49;00m \u001b[04m\u001b[36mmodel\u001b[39;49;00m \u001b[34mimport\u001b[39;49;00m LSTMClassifier\r\n",
      "\r\n",
      "\u001b[34mfrom\u001b[39;49;00m \u001b[04m\u001b[36mutils\u001b[39;49;00m \u001b[34mimport\u001b[39;49;00m review_to_words, convert_and_pad\r\n",
      "\r\n",
      "\u001b[34mdef\u001b[39;49;00m \u001b[32mmodel_fn\u001b[39;49;00m(model_dir):\r\n",
      "    \u001b[33m\"\"\"Load the PyTorch model from the `model_dir` directory.\"\"\"\u001b[39;49;00m\r\n",
      "    \u001b[34mprint\u001b[39;49;00m(\u001b[33m\"\u001b[39;49;00m\u001b[33mLoading model.\u001b[39;49;00m\u001b[33m\"\u001b[39;49;00m)\r\n",
      "\r\n",
      "    \u001b[37m# First, load the parameters used to create the model.\u001b[39;49;00m\r\n",
      "    model_info = {}\r\n",
      "    model_info_path = os.path.join(model_dir, \u001b[33m'\u001b[39;49;00m\u001b[33mmodel_info.pth\u001b[39;49;00m\u001b[33m'\u001b[39;49;00m)\r\n",
      "    \u001b[34mwith\u001b[39;49;00m \u001b[36mopen\u001b[39;49;00m(model_info_path, \u001b[33m'\u001b[39;49;00m\u001b[33mrb\u001b[39;49;00m\u001b[33m'\u001b[39;49;00m) \u001b[34mas\u001b[39;49;00m f:\r\n",
      "        model_info = torch.load(f)\r\n",
      "\r\n",
      "    \u001b[34mprint\u001b[39;49;00m(\u001b[33m\"\u001b[39;49;00m\u001b[33mmodel_info: {}\u001b[39;49;00m\u001b[33m\"\u001b[39;49;00m.format(model_info))\r\n",
      "\r\n",
      "    \u001b[37m# Determine the device and construct the model.\u001b[39;49;00m\r\n",
      "    device = torch.device(\u001b[33m\"\u001b[39;49;00m\u001b[33mcuda\u001b[39;49;00m\u001b[33m\"\u001b[39;49;00m \u001b[34mif\u001b[39;49;00m torch.cuda.is_available() \u001b[34melse\u001b[39;49;00m \u001b[33m\"\u001b[39;49;00m\u001b[33mcpu\u001b[39;49;00m\u001b[33m\"\u001b[39;49;00m)\r\n",
      "    model = LSTMClassifier(model_info[\u001b[33m'\u001b[39;49;00m\u001b[33membedding_dim\u001b[39;49;00m\u001b[33m'\u001b[39;49;00m], model_info[\u001b[33m'\u001b[39;49;00m\u001b[33mhidden_dim\u001b[39;49;00m\u001b[33m'\u001b[39;49;00m], model_info[\u001b[33m'\u001b[39;49;00m\u001b[33mvocab_size\u001b[39;49;00m\u001b[33m'\u001b[39;49;00m])\r\n",
      "\r\n",
      "    \u001b[37m# Load the store model parameters.\u001b[39;49;00m\r\n",
      "    model_path = os.path.join(model_dir, \u001b[33m'\u001b[39;49;00m\u001b[33mmodel.pth\u001b[39;49;00m\u001b[33m'\u001b[39;49;00m)\r\n",
      "    \u001b[34mwith\u001b[39;49;00m \u001b[36mopen\u001b[39;49;00m(model_path, \u001b[33m'\u001b[39;49;00m\u001b[33mrb\u001b[39;49;00m\u001b[33m'\u001b[39;49;00m) \u001b[34mas\u001b[39;49;00m f:\r\n",
      "        model.load_state_dict(torch.load(f))\r\n",
      "\r\n",
      "    \u001b[37m# Load the saved word_dict.\u001b[39;49;00m\r\n",
      "    word_dict_path = os.path.join(model_dir, \u001b[33m'\u001b[39;49;00m\u001b[33mword_dict.pkl\u001b[39;49;00m\u001b[33m'\u001b[39;49;00m)\r\n",
      "    \u001b[34mwith\u001b[39;49;00m \u001b[36mopen\u001b[39;49;00m(word_dict_path, \u001b[33m'\u001b[39;49;00m\u001b[33mrb\u001b[39;49;00m\u001b[33m'\u001b[39;49;00m) \u001b[34mas\u001b[39;49;00m f:\r\n",
      "        model.word_dict = pickle.load(f)\r\n",
      "\r\n",
      "    model.to(device).eval()\r\n",
      "\r\n",
      "    \u001b[34mprint\u001b[39;49;00m(\u001b[33m\"\u001b[39;49;00m\u001b[33mDone loading model.\u001b[39;49;00m\u001b[33m\"\u001b[39;49;00m)\r\n",
      "    \u001b[34mreturn\u001b[39;49;00m model\r\n",
      "\r\n",
      "\u001b[34mdef\u001b[39;49;00m \u001b[32minput_fn\u001b[39;49;00m(serialized_input_data, content_type):\r\n",
      "    \u001b[34mprint\u001b[39;49;00m(\u001b[33m'\u001b[39;49;00m\u001b[33mDeserializing the input data.\u001b[39;49;00m\u001b[33m'\u001b[39;49;00m)\r\n",
      "    \u001b[34mif\u001b[39;49;00m content_type == \u001b[33m'\u001b[39;49;00m\u001b[33mtext/plain\u001b[39;49;00m\u001b[33m'\u001b[39;49;00m:\r\n",
      "        data = serialized_input_data.decode(\u001b[33m'\u001b[39;49;00m\u001b[33mutf-8\u001b[39;49;00m\u001b[33m'\u001b[39;49;00m)\r\n",
      "        \u001b[34mreturn\u001b[39;49;00m data\r\n",
      "    \u001b[34mraise\u001b[39;49;00m \u001b[36mException\u001b[39;49;00m(\u001b[33m'\u001b[39;49;00m\u001b[33mRequested unsupported ContentType in content_type: \u001b[39;49;00m\u001b[33m'\u001b[39;49;00m + content_type)\r\n",
      "\r\n",
      "\u001b[34mdef\u001b[39;49;00m \u001b[32moutput_fn\u001b[39;49;00m(prediction_output, accept):\r\n",
      "    \u001b[34mprint\u001b[39;49;00m(\u001b[33m'\u001b[39;49;00m\u001b[33mSerializing the generated output.\u001b[39;49;00m\u001b[33m'\u001b[39;49;00m)\r\n",
      "    \u001b[34mreturn\u001b[39;49;00m \u001b[36mstr\u001b[39;49;00m(prediction_output)\r\n",
      "\r\n",
      "\u001b[34mdef\u001b[39;49;00m \u001b[32mpredict_fn\u001b[39;49;00m(input_data, model):\r\n",
      "    \u001b[34mprint\u001b[39;49;00m(\u001b[33m'\u001b[39;49;00m\u001b[33mInferring sentiment of input data.\u001b[39;49;00m\u001b[33m'\u001b[39;49;00m)\r\n",
      "\r\n",
      "    device = torch.device(\u001b[33m\"\u001b[39;49;00m\u001b[33mcuda\u001b[39;49;00m\u001b[33m\"\u001b[39;49;00m \u001b[34mif\u001b[39;49;00m torch.cuda.is_available() \u001b[34melse\u001b[39;49;00m \u001b[33m\"\u001b[39;49;00m\u001b[33mcpu\u001b[39;49;00m\u001b[33m\"\u001b[39;49;00m)\r\n",
      "    \r\n",
      "    \u001b[34mif\u001b[39;49;00m model.word_dict \u001b[35mis\u001b[39;49;00m \u001b[36mNone\u001b[39;49;00m:\r\n",
      "        \u001b[34mraise\u001b[39;49;00m \u001b[36mException\u001b[39;49;00m(\u001b[33m'\u001b[39;49;00m\u001b[33mModel has not been loaded properly, no word_dict.\u001b[39;49;00m\u001b[33m'\u001b[39;49;00m)\r\n",
      "    \r\n",
      "    \u001b[37m# TODO: Process input_data so that it is ready to be sent to our model.\u001b[39;49;00m\r\n",
      "    \u001b[37m#       You should produce two variables:\u001b[39;49;00m\r\n",
      "    \u001b[37m#         data_X   - A sequence of length 500 which represents the converted review\u001b[39;49;00m\r\n",
      "    \u001b[37m#         data_len - The length of the review\u001b[39;49;00m\r\n",
      "\r\n",
      "    review_words = review_to_words(input_data)\r\n",
      "    review_words, length = convert_and_pad(model.word_dict, review_words)\r\n",
      "    data_X = review_words\r\n",
      "    data_len = length\r\n",
      "\r\n",
      "    \u001b[37m# Using data_X and data_len we construct an appropriate input tensor. Remember\u001b[39;49;00m\r\n",
      "    \u001b[37m# that our model expects input data of the form 'len, review[500]'.\u001b[39;49;00m\r\n",
      "    data_pack = np.hstack((data_len, data_X))\r\n",
      "    data_pack = data_pack.reshape(\u001b[34m1\u001b[39;49;00m, -\u001b[34m1\u001b[39;49;00m)\r\n",
      "    \r\n",
      "    data = torch.from_numpy(data_pack)\r\n",
      "    data = data.to(device)\r\n",
      "\r\n",
      "    \u001b[37m# Make sure to put the model into evaluation mode\u001b[39;49;00m\r\n",
      "    model.eval()\r\n",
      "\r\n",
      "    \u001b[37m# TODO: Compute the result of applying the model to the input data. The variable `result` should\u001b[39;49;00m\r\n",
      "    \u001b[37m#       be a numpy array which contains a single integer which is either 1 or 0\u001b[39;49;00m\r\n",
      "\r\n",
      "    y_hat = model(data).detach().cpu().numpy()\r\n",
      "    \u001b[34mprint\u001b[39;49;00m(y_hat)\r\n",
      "    result = np.round(y_hat).astype(np.int)\r\n",
      "\r\n",
      "    \u001b[34mreturn\u001b[39;49;00m result\r\n"
     ]
    }
   ],
   "source": [
    "!pygmentize serve/predict.py"
   ]
  },
  {
   "cell_type": "markdown",
   "metadata": {},
   "source": [
    "As mentioned earlier, the `model_fn` method is the same as the one provided in the training code and the `input_fn` and `output_fn` methods are very simple and your task will be to complete the `predict_fn` method. Make sure that you save the completed file as `predict.py` in the `serve` directory.\n",
    "\n",
    "**TODO**: Complete the `predict_fn()` method in the `serve/predict.py` file."
   ]
  },
  {
   "cell_type": "markdown",
   "metadata": {},
   "source": [
    "### Deploying the model\n",
    "\n",
    "Now that the custom inference code has been written, we will create and deploy our model. To begin with, we need to construct a new PyTorchModel object which points to the model artifacts created during training and also points to the inference code that we wish to use. Then we can call the deploy method to launch the deployment container.\n",
    "\n",
    "**NOTE**: The default behaviour for a deployed PyTorch model is to assume that any input passed to the predictor is a `numpy` array. In our case we want to send a string so we need to construct a simple wrapper around the `RealTimePredictor` class to accomodate simple strings. In a more complicated situation you may want to provide a serialization object, for example if you wanted to sent image data."
   ]
  },
  {
   "cell_type": "code",
   "execution_count": 53,
   "metadata": {},
   "outputs": [
    {
     "name": "stderr",
     "output_type": "stream",
     "text": [
      "INFO:sagemaker:Created S3 bucket: sagemaker-us-east-1-702232505122\n",
      "INFO:sagemaker:Creating model with name: sagemaker-pytorch-2019-03-07-09-41-03-025\n",
      "INFO:sagemaker:Creating endpoint with name sagemaker-pytorch-2019-03-07-09-41-03-025\n"
     ]
    },
    {
     "name": "stdout",
     "output_type": "stream",
     "text": [
      "---------------------------------------------------------------------------!"
     ]
    }
   ],
   "source": [
    "from sagemaker.predictor import RealTimePredictor\n",
    "from sagemaker.pytorch import PyTorchModel\n",
    "\n",
    "class StringPredictor(RealTimePredictor):\n",
    "    def __init__(self, endpoint_name, sagemaker_session):\n",
    "        super(StringPredictor, self).__init__(endpoint_name, sagemaker_session, content_type='text/plain')\n",
    "\n",
    "model = PyTorchModel(model_data=estimator.model_data,\n",
    "                     role = role,\n",
    "                     framework_version='0.4.0',\n",
    "                     entry_point='predict.py',\n",
    "                     source_dir='serve',\n",
    "                     predictor_cls=StringPredictor)\n",
    "predictor = model.deploy(initial_instance_count=1, instance_type='ml.m4.xlarge')"
   ]
  },
  {
   "cell_type": "markdown",
   "metadata": {},
   "source": [
    "### Testing the model\n",
    "\n",
    "Now that we have deployed our model with the custom inference code, we should test to see if everything is working. Here we test our model by loading the first `250` positive and negative reviews and send them to the endpoint, then collect the results. The reason for only sending some of the data is that the amount of time it takes for our model to process the input and then perform inference is quite long and so testing the entire data set would be prohibitive."
   ]
  },
  {
   "cell_type": "code",
   "execution_count": 56,
   "metadata": {},
   "outputs": [],
   "source": [
    "import glob\n",
    "\n",
    "def test_reviews(data_dir='../data/aclImdb', stop=250):\n",
    "    \n",
    "    results = []\n",
    "    ground = []\n",
    "    \n",
    "    # We make sure to test both positive and negative reviews    \n",
    "    for sentiment in ['pos', 'neg']:\n",
    "        \n",
    "        path = os.path.join(data_dir, 'test', sentiment, '*.txt')\n",
    "        files = glob.glob(path)\n",
    "        \n",
    "        files_read = 0\n",
    "        \n",
    "        print('Starting ', sentiment, ' files')\n",
    "        \n",
    "        # Iterate through the files and send them to the predictor\n",
    "        for f in files:\n",
    "            with open(f) as review:\n",
    "                # First, we store the ground truth (was the review positive or negative)\n",
    "                if sentiment == 'pos':\n",
    "                    ground.append(1)\n",
    "                else:\n",
    "                    ground.append(0)\n",
    "                # Read in the review and convert to 'utf-8' for transmission via HTTP\n",
    "                review_input = review.read().encode('utf-8')\n",
    "                \n",
    "                # Send the review to the predictor and store the results\n",
    "                results.append(int(predictor.predict(review_input)))\n",
    "                \n",
    "            # Sending reviews to our endpoint one at a time takes a while so we\n",
    "            # only send a small number of reviews\n",
    "            files_read += 1\n",
    "            if files_read == stop:\n",
    "                break\n",
    "            \n",
    "    return ground, results"
   ]
  },
  {
   "cell_type": "code",
   "execution_count": 57,
   "metadata": {},
   "outputs": [
    {
     "name": "stdout",
     "output_type": "stream",
     "text": [
      "Starting  pos  files\n",
      "Starting  neg  files\n"
     ]
    }
   ],
   "source": [
    "ground, results = test_reviews()"
   ]
  },
  {
   "cell_type": "code",
   "execution_count": 58,
   "metadata": {},
   "outputs": [
    {
     "data": {
      "text/plain": [
       "0.84"
      ]
     },
     "execution_count": 58,
     "metadata": {},
     "output_type": "execute_result"
    }
   ],
   "source": [
    "from sklearn.metrics import accuracy_score\n",
    "accuracy_score(ground, results)"
   ]
  },
  {
   "cell_type": "markdown",
   "metadata": {},
   "source": [
    "As an additional test, we can try sending the `test_review` that we looked at earlier."
   ]
  },
  {
   "cell_type": "code",
   "execution_count": 59,
   "metadata": {},
   "outputs": [
    {
     "data": {
      "text/plain": [
       "b'1'"
      ]
     },
     "execution_count": 59,
     "metadata": {},
     "output_type": "execute_result"
    }
   ],
   "source": [
    "predictor.predict(test_review)"
   ]
  },
  {
   "cell_type": "markdown",
   "metadata": {},
   "source": [
    "Now that we know our endpoint is working as expected, we can set up the web page that will interact with it. If you don't have time to finish the project now, make sure to skip down to the end of this notebook and shut down your endpoint. You can deploy it again when you come back."
   ]
  },
  {
   "cell_type": "markdown",
   "metadata": {},
   "source": [
    "## Step 7 (again): Use the model for the web app\n",
    "\n",
    "> **TODO:** This entire section and the next contain tasks for you to complete, mostly using the AWS console.\n",
    "\n",
    "So far we have been accessing our model endpoint by constructing a predictor object which uses the endpoint and then just using the predictor object to perform inference. What if we wanted to create a web app which accessed our model? The way things are set up currently makes that not possible since in order to access a SageMaker endpoint the app would first have to authenticate with AWS using an IAM role which included access to SageMaker endpoints. However, there is an easier way! We just need to use some additional AWS services.\n",
    "\n",
    "<img src=\"Web App Diagram.svg\">\n",
    "\n",
    "The diagram above gives an overview of how the various services will work together. On the far right is the model which we trained above and which is deployed using SageMaker. On the far left is our web app that collects a user's movie review, sends it off and expects a positive or negative sentiment in return.\n",
    "\n",
    "In the middle is where some of the magic happens. We will construct a Lambda function, which you can think of as a straightforward Python function that can be executed whenever a specified event occurs. We will give this function permission to send and recieve data from a SageMaker endpoint.\n",
    "\n",
    "Lastly, the method we will use to execute the Lambda function is a new endpoint that we will create using API Gateway. This endpoint will be a url that listens for data to be sent to it. Once it gets some data it will pass that data on to the Lambda function and then return whatever the Lambda function returns. Essentially it will act as an interface that lets our web app communicate with the Lambda function.\n",
    "\n",
    "### Setting up a Lambda function\n",
    "\n",
    "The first thing we are going to do is set up a Lambda function. This Lambda function will be executed whenever our public API has data sent to it. When it is executed it will receive the data, perform any sort of processing that is required, send the data (the review) to the SageMaker endpoint we've created and then return the result.\n",
    "\n",
    "#### Part A: Create an IAM Role for the Lambda function\n",
    "\n",
    "Since we want the Lambda function to call a SageMaker endpoint, we need to make sure that it has permission to do so. To do this, we will construct a role that we can later give the Lambda function.\n",
    "\n",
    "Using the AWS Console, navigate to the **IAM** page and click on **Roles**. Then, click on **Create role**. Make sure that the **AWS service** is the type of trusted entity selected and choose **Lambda** as the service that will use this role, then click **Next: Permissions**.\n",
    "\n",
    "In the search box type `sagemaker` and select the check box next to the **AmazonSageMakerFullAccess** policy. Then, click on **Next: Review**.\n",
    "\n",
    "Lastly, give this role a name. Make sure you use a name that you will remember later on, for example `LambdaSageMakerRole`. Then, click on **Create role**.\n",
    "\n",
    "#### Part B: Create a Lambda function\n",
    "\n",
    "Now it is time to actually create the Lambda function.\n",
    "\n",
    "Using the AWS Console, navigate to the AWS Lambda page and click on **Create a function**. When you get to the next page, make sure that **Author from scratch** is selected. Now, name your Lambda function, using a name that you will remember later on, for example `sentiment_analysis_func`. Make sure that the **Python 3.6** runtime is selected and then choose the role that you created in the previous part. Then, click on **Create Function**.\n",
    "\n",
    "On the next page you will see some information about the Lambda function you've just created. If you scroll down you should see an editor in which you can write the code that will be executed when your Lambda function is triggered. In our example, we will use the code below. \n",
    "\n",
    "```python\n",
    "# We need to use the low-level library to interact with SageMaker since the SageMaker API\n",
    "# is not available natively through Lambda.\n",
    "import boto3\n",
    "\n",
    "def lambda_handler(event, context):\n",
    "\n",
    "    # The SageMaker runtime is what allows us to invoke the endpoint that we've created.\n",
    "    runtime = boto3.Session().client('sagemaker-runtime')\n",
    "\n",
    "    # Now we use the SageMaker runtime to invoke our endpoint, sending the review we were given\n",
    "    response = runtime.invoke_endpoint(EndpointName = '**ENDPOINT NAME HERE**',    # The name of the endpoint we created\n",
    "                                       ContentType = 'text/plain',                 # The data format that is expected\n",
    "                                       Body = event['body'])                       # The actual review\n",
    "\n",
    "    # The response is an HTTP response whose body contains the result of our inference\n",
    "    result = response['Body'].read().decode('utf-8')\n",
    "\n",
    "    return {\n",
    "        'statusCode' : 200,\n",
    "        'headers' : { 'Content-Type' : 'text/plain', 'Access-Control-Allow-Origin' : '*' },\n",
    "        'body' : result\n",
    "    }\n",
    "```\n",
    "\n",
    "Once you have copy and pasted the code above into the Lambda code editor, replace the `**ENDPOINT NAME HERE**` portion with the name of the endpoint that we deployed earlier. You can determine the name of the endpoint using the code cell below."
   ]
  },
  {
   "cell_type": "code",
   "execution_count": 60,
   "metadata": {},
   "outputs": [
    {
     "data": {
      "text/plain": [
       "'sagemaker-pytorch-2019-03-07-09-41-03-025'"
      ]
     },
     "execution_count": 60,
     "metadata": {},
     "output_type": "execute_result"
    }
   ],
   "source": [
    "predictor.endpoint"
   ]
  },
  {
   "cell_type": "markdown",
   "metadata": {},
   "source": [
    "Once you have added the endpoint name to the Lambda function, click on **Save**. Your Lambda function is now up and running. Next we need to create a way for our web app to execute the Lambda function.\n",
    "\n",
    "### Setting up API Gateway\n",
    "\n",
    "Now that our Lambda function is set up, it is time to create a new API using API Gateway that will trigger the Lambda function we have just created.\n",
    "\n",
    "Using AWS Console, navigate to **Amazon API Gateway** and then click on **Get started**.\n",
    "\n",
    "On the next page, make sure that **New API** is selected and give the new api a name, for example, `sentiment_analysis_api`. Then, click on **Create API**.\n",
    "\n",
    "Now we have created an API, however it doesn't currently do anything. What we want it to do is to trigger the Lambda function that we created earlier.\n",
    "\n",
    "Select the **Actions** dropdown menu and click **Create Method**. A new blank method will be created, select its dropdown menu and select **POST**, then click on the check mark beside it.\n",
    "\n",
    "For the integration point, make sure that **Lambda Function** is selected and click on the **Use Lambda Proxy integration**. This option makes sure that the data that is sent to the API is then sent directly to the Lambda function with no processing. It also means that the return value must be a proper response object as it will also not be processed by API Gateway.\n",
    "\n",
    "Type the name of the Lambda function you created earlier into the **Lambda Function** text entry box and then click on **Save**. Click on **OK** in the pop-up box that then appears, giving permission to API Gateway to invoke the Lambda function you created.\n",
    "\n",
    "The last step in creating the API Gateway is to select the **Actions** dropdown and click on **Deploy API**. You will need to create a new Deployment stage and name it anything you like, for example `prod`.\n",
    "\n",
    "You have now successfully set up a public API to access your SageMaker model. Make sure to copy or write down the URL provided to invoke your newly created public API as this will be needed in the next step. This URL can be found at the top of the page, highlighted in blue next to the text **Invoke URL**."
   ]
  },
  {
   "cell_type": "markdown",
   "metadata": {},
   "source": [
    "## Step 4: Deploying our web app\n",
    "\n",
    "Now that we have a publicly available API, we can start using it in a web app. For our purposes, we have provided a simple static html file which can make use of the public api you created earlier.\n",
    "\n",
    "In the `website` folder there should be a file called `index.html`. Download the file to your computer and open that file up in a text editor of your choice. There should be a line which contains **\\*\\*REPLACE WITH PUBLIC API URL\\*\\***. Replace this string with the url that you wrote down in the last step and then save the file.\n",
    "\n",
    "Now, if you open `index.html` on your local computer, your browser will behave as a local web server and you can use the provided site to interact with your SageMaker model.\n",
    "\n",
    "If you'd like to go further, you can host this html file anywhere you'd like, for example using github or hosting a static site on Amazon's S3. Once you have done this you can share the link with anyone you'd like and have them play with it too!\n",
    "\n",
    "> **Important Note** In order for the web app to communicate with the SageMaker endpoint, the endpoint has to actually be deployed and running. This means that you are paying for it. Make sure that the endpoint is running when you want to use the web app but that you shut it down when you don't need it, otherwise you will end up with a surprisingly large AWS bill.\n",
    "\n",
    "**TODO:** Make sure that you include the edited `index.html` file in your project submission."
   ]
  },
  {
   "cell_type": "markdown",
   "metadata": {},
   "source": [
    "Now that your web app is working, trying playing around with it and see how well it works.\n",
    "\n",
    "**Question**: Give an example of a review that you entered into your web app. What was the predicted sentiment of your example review?"
   ]
  },
  {
   "cell_type": "markdown",
   "metadata": {},
   "source": [
    "**Answer:** The predictor works well for simple reviews, e.g. \"the film was nice\" is correctly classified as positive. However, the model cannot handle negation. E.g. \"I did not like the film at all\" is also classified as positive, just like \"not good\". Further training and parameter tuning would improve the results."
   ]
  },
  {
   "cell_type": "markdown",
   "metadata": {},
   "source": [
    "### Delete the endpoint\n",
    "\n",
    "Remember to always shut down your endpoint if you are no longer using it. You are charged for the length of time that the endpoint is running so if you forget and leave it on you could end up with an unexpectedly large bill."
   ]
  },
  {
   "cell_type": "code",
   "execution_count": 61,
   "metadata": {},
   "outputs": [
    {
     "name": "stderr",
     "output_type": "stream",
     "text": [
      "INFO:sagemaker:Deleting endpoint configuration with name: sagemaker-pytorch-2019-03-07-09-41-03-025\n",
      "INFO:sagemaker:Deleting endpoint with name: sagemaker-pytorch-2019-03-07-09-41-03-025\n"
     ]
    }
   ],
   "source": [
    "predictor.delete_endpoint()"
   ]
  },
  {
   "cell_type": "code",
   "execution_count": null,
   "metadata": {},
   "outputs": [],
   "source": []
  }
 ],
 "metadata": {
  "kernelspec": {
   "display_name": "conda_pytorch_p36",
   "language": "python",
   "name": "conda_pytorch_p36"
  },
  "language_info": {
   "codemirror_mode": {
    "name": "ipython",
    "version": 3
   },
   "file_extension": ".py",
   "mimetype": "text/x-python",
   "name": "python",
   "nbconvert_exporter": "python",
   "pygments_lexer": "ipython3",
   "version": "3.6.5"
  }
 },
 "nbformat": 4,
 "nbformat_minor": 2
}
